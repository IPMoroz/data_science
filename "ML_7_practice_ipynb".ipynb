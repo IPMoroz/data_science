{
  "cells": [
    {
      "cell_type": "markdown",
      "metadata": {
        "id": "view-in-github",
        "colab_type": "text"
      },
      "source": [
        "<a href=\"https://colab.research.google.com/github/IPMoroz/data_science/blob/main/%22ML_7_practice_ipynb%22.ipynb\" target=\"_parent\"><img src=\"https://colab.research.google.com/assets/colab-badge.svg\" alt=\"Open In Colab\"/></a>"
      ]
    },
    {
      "cell_type": "markdown",
      "metadata": {
        "id": "5q7rar6__DNt"
      },
      "source": [
        "# Импорт библиотек"
      ]
    },
    {
      "cell_type": "code",
      "execution_count": 46,
      "metadata": {
        "id": "VTsnA0aN-Gp6"
      },
      "outputs": [],
      "source": [
        "import numpy as np #для матричных вычислений\n",
        "import pandas as pd #для анализа и предобработки данных\n",
        "import matplotlib.pyplot as plt #для визуализации\n",
        "import seaborn as sns #для визуализации\n",
        "\n",
        "from sklearn import linear_model #линейные модели\n",
        "from sklearn import tree #деревья решений\n",
        "from sklearn import ensemble #ансамбли\n",
        "from sklearn import metrics #метрики\n",
        "from sklearn import preprocessing #предобработка\n",
        "from sklearn.model_selection import train_test_split #сплитование выборки\n",
        "\n",
        "from sklearn.model_selection import GridSearchCV\n",
        "from sklearn.model_selection import RandomizedSearchCV\n",
        "from sklearn.model_selection import cross_val_score\n",
        "import hyperopt\n",
        "from hyperopt import hp, fmin, tpe, Trials\n",
        "\n",
        "%matplotlib inline\n",
        "plt.style.use('seaborn')"
      ]
    },
    {
      "cell_type": "markdown",
      "metadata": {
        "id": "gkAIEP3A_Unf"
      },
      "source": [
        "# Подгрузка данных"
      ]
    },
    {
      "cell_type": "code",
      "execution_count": null,
      "metadata": {
        "id": "tljRROpn-Jos"
      },
      "outputs": [],
      "source": [
        "# подключаем google диск, где у нас хранятся данные\n",
        "from google.colab import drive\n",
        "drive.mount('/content/drive')\n",
        "# # берем необходимый нам файл с диска, указав путь\n",
        "df = pd.read_csv('./drive/MyDrive/_train_sem09.csv', sep = ',')\n",
        "df.head()"
      ]
    },
    {
      "cell_type": "code",
      "execution_count": 47,
      "metadata": {
        "colab": {
          "base_uri": "https://localhost:8080/",
          "height": 236
        },
        "id": "1-bFIhxrw1RR",
        "outputId": "42fcef39-821f-4efe-874a-cb8e2ea10075"
      },
      "outputs": [
        {
          "output_type": "execute_result",
          "data": {
            "text/plain": [
              "   Activity        D1        D2    D3   D4        D5        D6        D7  \\\n",
              "0         1  0.000000  0.497009  0.10  0.0  0.132956  0.678031  0.273166   \n",
              "1         1  0.366667  0.606291  0.05  0.0  0.111209  0.803455  0.106105   \n",
              "2         1  0.033300  0.480124  0.00  0.0  0.209791  0.610350  0.356453   \n",
              "3         1  0.000000  0.538825  0.00  0.5  0.196344  0.724230  0.235606   \n",
              "4         0  0.100000  0.517794  0.00  0.0  0.494734  0.781422  0.154361   \n",
              "\n",
              "         D8        D9  ...  D1767  D1768  D1769  D1770  D1771  D1772  D1773  \\\n",
              "0  0.585445  0.743663  ...      0      0      0      0      0      0      0   \n",
              "1  0.411754  0.836582  ...      1      1      1      1      0      1      0   \n",
              "2  0.517720  0.679051  ...      0      0      0      0      0      0      0   \n",
              "3  0.288764  0.805110  ...      0      0      0      0      0      0      0   \n",
              "4  0.303809  0.812646  ...      0      0      0      0      0      0      0   \n",
              "\n",
              "   D1774  D1775  D1776  \n",
              "0      0      0      0  \n",
              "1      0      1      0  \n",
              "2      0      0      0  \n",
              "3      0      0      0  \n",
              "4      0      0      0  \n",
              "\n",
              "[5 rows x 1777 columns]"
            ],
            "text/html": [
              "\n",
              "  <div id=\"df-2da0dc50-0047-423d-8e5b-362efa53570e\">\n",
              "    <div class=\"colab-df-container\">\n",
              "      <div>\n",
              "<style scoped>\n",
              "    .dataframe tbody tr th:only-of-type {\n",
              "        vertical-align: middle;\n",
              "    }\n",
              "\n",
              "    .dataframe tbody tr th {\n",
              "        vertical-align: top;\n",
              "    }\n",
              "\n",
              "    .dataframe thead th {\n",
              "        text-align: right;\n",
              "    }\n",
              "</style>\n",
              "<table border=\"1\" class=\"dataframe\">\n",
              "  <thead>\n",
              "    <tr style=\"text-align: right;\">\n",
              "      <th></th>\n",
              "      <th>Activity</th>\n",
              "      <th>D1</th>\n",
              "      <th>D2</th>\n",
              "      <th>D3</th>\n",
              "      <th>D4</th>\n",
              "      <th>D5</th>\n",
              "      <th>D6</th>\n",
              "      <th>D7</th>\n",
              "      <th>D8</th>\n",
              "      <th>D9</th>\n",
              "      <th>...</th>\n",
              "      <th>D1767</th>\n",
              "      <th>D1768</th>\n",
              "      <th>D1769</th>\n",
              "      <th>D1770</th>\n",
              "      <th>D1771</th>\n",
              "      <th>D1772</th>\n",
              "      <th>D1773</th>\n",
              "      <th>D1774</th>\n",
              "      <th>D1775</th>\n",
              "      <th>D1776</th>\n",
              "    </tr>\n",
              "  </thead>\n",
              "  <tbody>\n",
              "    <tr>\n",
              "      <th>0</th>\n",
              "      <td>1</td>\n",
              "      <td>0.000000</td>\n",
              "      <td>0.497009</td>\n",
              "      <td>0.10</td>\n",
              "      <td>0.0</td>\n",
              "      <td>0.132956</td>\n",
              "      <td>0.678031</td>\n",
              "      <td>0.273166</td>\n",
              "      <td>0.585445</td>\n",
              "      <td>0.743663</td>\n",
              "      <td>...</td>\n",
              "      <td>0</td>\n",
              "      <td>0</td>\n",
              "      <td>0</td>\n",
              "      <td>0</td>\n",
              "      <td>0</td>\n",
              "      <td>0</td>\n",
              "      <td>0</td>\n",
              "      <td>0</td>\n",
              "      <td>0</td>\n",
              "      <td>0</td>\n",
              "    </tr>\n",
              "    <tr>\n",
              "      <th>1</th>\n",
              "      <td>1</td>\n",
              "      <td>0.366667</td>\n",
              "      <td>0.606291</td>\n",
              "      <td>0.05</td>\n",
              "      <td>0.0</td>\n",
              "      <td>0.111209</td>\n",
              "      <td>0.803455</td>\n",
              "      <td>0.106105</td>\n",
              "      <td>0.411754</td>\n",
              "      <td>0.836582</td>\n",
              "      <td>...</td>\n",
              "      <td>1</td>\n",
              "      <td>1</td>\n",
              "      <td>1</td>\n",
              "      <td>1</td>\n",
              "      <td>0</td>\n",
              "      <td>1</td>\n",
              "      <td>0</td>\n",
              "      <td>0</td>\n",
              "      <td>1</td>\n",
              "      <td>0</td>\n",
              "    </tr>\n",
              "    <tr>\n",
              "      <th>2</th>\n",
              "      <td>1</td>\n",
              "      <td>0.033300</td>\n",
              "      <td>0.480124</td>\n",
              "      <td>0.00</td>\n",
              "      <td>0.0</td>\n",
              "      <td>0.209791</td>\n",
              "      <td>0.610350</td>\n",
              "      <td>0.356453</td>\n",
              "      <td>0.517720</td>\n",
              "      <td>0.679051</td>\n",
              "      <td>...</td>\n",
              "      <td>0</td>\n",
              "      <td>0</td>\n",
              "      <td>0</td>\n",
              "      <td>0</td>\n",
              "      <td>0</td>\n",
              "      <td>0</td>\n",
              "      <td>0</td>\n",
              "      <td>0</td>\n",
              "      <td>0</td>\n",
              "      <td>0</td>\n",
              "    </tr>\n",
              "    <tr>\n",
              "      <th>3</th>\n",
              "      <td>1</td>\n",
              "      <td>0.000000</td>\n",
              "      <td>0.538825</td>\n",
              "      <td>0.00</td>\n",
              "      <td>0.5</td>\n",
              "      <td>0.196344</td>\n",
              "      <td>0.724230</td>\n",
              "      <td>0.235606</td>\n",
              "      <td>0.288764</td>\n",
              "      <td>0.805110</td>\n",
              "      <td>...</td>\n",
              "      <td>0</td>\n",
              "      <td>0</td>\n",
              "      <td>0</td>\n",
              "      <td>0</td>\n",
              "      <td>0</td>\n",
              "      <td>0</td>\n",
              "      <td>0</td>\n",
              "      <td>0</td>\n",
              "      <td>0</td>\n",
              "      <td>0</td>\n",
              "    </tr>\n",
              "    <tr>\n",
              "      <th>4</th>\n",
              "      <td>0</td>\n",
              "      <td>0.100000</td>\n",
              "      <td>0.517794</td>\n",
              "      <td>0.00</td>\n",
              "      <td>0.0</td>\n",
              "      <td>0.494734</td>\n",
              "      <td>0.781422</td>\n",
              "      <td>0.154361</td>\n",
              "      <td>0.303809</td>\n",
              "      <td>0.812646</td>\n",
              "      <td>...</td>\n",
              "      <td>0</td>\n",
              "      <td>0</td>\n",
              "      <td>0</td>\n",
              "      <td>0</td>\n",
              "      <td>0</td>\n",
              "      <td>0</td>\n",
              "      <td>0</td>\n",
              "      <td>0</td>\n",
              "      <td>0</td>\n",
              "      <td>0</td>\n",
              "    </tr>\n",
              "  </tbody>\n",
              "</table>\n",
              "<p>5 rows × 1777 columns</p>\n",
              "</div>\n",
              "      <button class=\"colab-df-convert\" onclick=\"convertToInteractive('df-2da0dc50-0047-423d-8e5b-362efa53570e')\"\n",
              "              title=\"Convert this dataframe to an interactive table.\"\n",
              "              style=\"display:none;\">\n",
              "        \n",
              "  <svg xmlns=\"http://www.w3.org/2000/svg\" height=\"24px\"viewBox=\"0 0 24 24\"\n",
              "       width=\"24px\">\n",
              "    <path d=\"M0 0h24v24H0V0z\" fill=\"none\"/>\n",
              "    <path d=\"M18.56 5.44l.94 2.06.94-2.06 2.06-.94-2.06-.94-.94-2.06-.94 2.06-2.06.94zm-11 1L8.5 8.5l.94-2.06 2.06-.94-2.06-.94L8.5 2.5l-.94 2.06-2.06.94zm10 10l.94 2.06.94-2.06 2.06-.94-2.06-.94-.94-2.06-.94 2.06-2.06.94z\"/><path d=\"M17.41 7.96l-1.37-1.37c-.4-.4-.92-.59-1.43-.59-.52 0-1.04.2-1.43.59L10.3 9.45l-7.72 7.72c-.78.78-.78 2.05 0 2.83L4 21.41c.39.39.9.59 1.41.59.51 0 1.02-.2 1.41-.59l7.78-7.78 2.81-2.81c.8-.78.8-2.07 0-2.86zM5.41 20L4 18.59l7.72-7.72 1.47 1.35L5.41 20z\"/>\n",
              "  </svg>\n",
              "      </button>\n",
              "      \n",
              "  <style>\n",
              "    .colab-df-container {\n",
              "      display:flex;\n",
              "      flex-wrap:wrap;\n",
              "      gap: 12px;\n",
              "    }\n",
              "\n",
              "    .colab-df-convert {\n",
              "      background-color: #E8F0FE;\n",
              "      border: none;\n",
              "      border-radius: 50%;\n",
              "      cursor: pointer;\n",
              "      display: none;\n",
              "      fill: #1967D2;\n",
              "      height: 32px;\n",
              "      padding: 0 0 0 0;\n",
              "      width: 32px;\n",
              "    }\n",
              "\n",
              "    .colab-df-convert:hover {\n",
              "      background-color: #E2EBFA;\n",
              "      box-shadow: 0px 1px 2px rgba(60, 64, 67, 0.3), 0px 1px 3px 1px rgba(60, 64, 67, 0.15);\n",
              "      fill: #174EA6;\n",
              "    }\n",
              "\n",
              "    [theme=dark] .colab-df-convert {\n",
              "      background-color: #3B4455;\n",
              "      fill: #D2E3FC;\n",
              "    }\n",
              "\n",
              "    [theme=dark] .colab-df-convert:hover {\n",
              "      background-color: #434B5C;\n",
              "      box-shadow: 0px 1px 3px 1px rgba(0, 0, 0, 0.15);\n",
              "      filter: drop-shadow(0px 1px 2px rgba(0, 0, 0, 0.3));\n",
              "      fill: #FFFFFF;\n",
              "    }\n",
              "  </style>\n",
              "\n",
              "      <script>\n",
              "        const buttonEl =\n",
              "          document.querySelector('#df-2da0dc50-0047-423d-8e5b-362efa53570e button.colab-df-convert');\n",
              "        buttonEl.style.display =\n",
              "          google.colab.kernel.accessAllowed ? 'block' : 'none';\n",
              "\n",
              "        async function convertToInteractive(key) {\n",
              "          const element = document.querySelector('#df-2da0dc50-0047-423d-8e5b-362efa53570e');\n",
              "          const dataTable =\n",
              "            await google.colab.kernel.invokeFunction('convertToInteractive',\n",
              "                                                     [key], {});\n",
              "          if (!dataTable) return;\n",
              "\n",
              "          const docLinkHtml = 'Like what you see? Visit the ' +\n",
              "            '<a target=\"_blank\" href=https://colab.research.google.com/notebooks/data_table.ipynb>data table notebook</a>'\n",
              "            + ' to learn more about interactive tables.';\n",
              "          element.innerHTML = '';\n",
              "          dataTable['output_type'] = 'display_data';\n",
              "          await google.colab.output.renderOutput(dataTable, element);\n",
              "          const docLink = document.createElement('div');\n",
              "          docLink.innerHTML = docLinkHtml;\n",
              "          element.appendChild(docLink);\n",
              "        }\n",
              "      </script>\n",
              "    </div>\n",
              "  </div>\n",
              "  "
            ]
          },
          "metadata": {},
          "execution_count": 47
        }
      ],
      "source": [
        "df = pd.read_csv('https://lms.skillfactory.ru/assets/courseware/v1/9f2add5bca59f8c4df927432d605fff3/asset-v1:SkillFactory+DSPR-2.0+14JULY2021+type@asset+block/_train_sem09__1_.zip', sep=',')\n",
        "df.head()"
      ]
    },
    {
      "cell_type": "markdown",
      "metadata": {
        "id": "eazx_DwqBfTy"
      },
      "source": [
        "## Проверим соотношение целевого признака"
      ]
    },
    {
      "cell_type": "code",
      "execution_count": null,
      "metadata": {
        "colab": {
          "base_uri": "https://localhost:8080/"
        },
        "id": "WTs7EEdSAIdr",
        "outputId": "27d96cf3-1b11-4484-e026-e52328fc5bae"
      },
      "outputs": [
        {
          "output_type": "execute_result",
          "data": {
            "text/plain": [
              "1    0.542255\n",
              "0    0.457745\n",
              "Name: Activity, dtype: float64"
            ]
          },
          "metadata": {},
          "execution_count": 3
        }
      ],
      "source": [
        "df['Activity'].value_counts(normalize=True)"
      ]
    },
    {
      "cell_type": "markdown",
      "metadata": {
        "id": "mPpPsZ9FM4_-"
      },
      "source": [
        "### целевой признак сбалансирован, но при разделении выборок можно использовать стратификацию"
      ]
    },
    {
      "cell_type": "markdown",
      "metadata": {
        "id": "l_lBoq_7_Ymw"
      },
      "source": [
        "# Создаем матрицу наблюдений и вектор ответов (X, y)\n",
        "# Разделяем выборку на тестовую и тренировочную"
      ]
    },
    {
      "cell_type": "code",
      "execution_count": 48,
      "metadata": {
        "id": "isO_3vva_rRL"
      },
      "outputs": [],
      "source": [
        "X = df.drop(['Activity'], axis=1)\n",
        "y = df['Activity']\n",
        "# для сохранения соотношения целевого признака используем stratify, random_state - 13\n",
        "X_train, X_test, y_train, y_test = train_test_split(X, y, stratify=y, random_state=13, test_size=0.2)"
      ]
    },
    {
      "cell_type": "markdown",
      "metadata": {
        "id": "FEokd6AbB_Xy"
      },
      "source": [
        "# Обучаем модель логистической регрессии"
      ]
    },
    {
      "cell_type": "code",
      "execution_count": null,
      "metadata": {
        "colab": {
          "base_uri": "https://localhost:8080/"
        },
        "id": "fFRXRRFACMRw",
        "outputId": "0194e292-c19d-4f31-ac5b-22f2bbf39d53"
      },
      "outputs": [
        {
          "output_type": "stream",
          "name": "stdout",
          "text": [
            "accuracy на тестовом наборе (lr): 0.79\n",
            "f1_score на тестовом наборе (lr): 0.81\n"
          ]
        }
      ],
      "source": [
        "log_reg = linear_model.LogisticRegression(max_iter=1000, random_state=13)\n",
        "\n",
        "log_reg.fit(X_train, y_train)\n",
        "print(\"accuracy на тестовом наборе (lr): {:.2f}\".format(log_reg.score(X_test, y_test)))\n",
        "y_test_pred = log_reg.predict(X_test)\n",
        "print('f1_score на тестовом наборе (lr): {:.2f}'.format(metrics.f1_score(y_test, y_test_pred)))"
      ]
    },
    {
      "cell_type": "markdown",
      "source": [
        "# Применим поиск гиперпараметров по сетке с кросс-валидацией Grid search на модели LogisticRegression"
      ],
      "metadata": {
        "id": "leslUgPXMbGy"
      }
    },
    {
      "cell_type": "code",
      "execution_count": null,
      "metadata": {
        "colab": {
          "base_uri": "https://localhost:8080/"
        },
        "id": "suoPF3TwbKzg",
        "outputId": "437d9477-0c55-42a9-f35f-4fc3f4a663d8"
      },
      "outputs": [
        {
          "output_type": "stream",
          "name": "stdout",
          "text": [
            "CPU times: user 14.6 s, sys: 1.8 s, total: 16.4 s\n",
            "Wall time: 29min 56s\n",
            "accuracy на тестовом наборе: 0.79\n",
            "f1_score на тестовом наборе: 0.81\n",
            "Наилучшие значения гиперпараметров: {'C': 0.2, 'penalty': 'l2', 'solver': 'lbfgs'}\n"
          ]
        }
      ],
      "source": [
        "param_grid = {'penalty': ['l2', 'none'] , # тип регуляризации\n",
        "              'solver': ['lbfgs', 'saga'], # алгоритм оптимизации\n",
        "               'C': [0.1, 0.2, 0.3, 0.4, 0.5]} # уровень силы регуляризаци\n",
        "\n",
        "grid_search = GridSearchCV(\n",
        "    estimator=linear_model.LogisticRegression(\n",
        "        random_state=13, #генератор случайных чисел\n",
        "        max_iter=1000 #количество итераций на сходимость\n",
        "    ), \n",
        "    param_grid=param_grid, \n",
        "    cv=5, \n",
        "    n_jobs = -1\n",
        ")\n",
        "\n",
        "%time grid_search.fit(X_train, y_train) \n",
        "print(\"accuracy на тестовом наборе: {:.2f}\".format(grid_search.score(X_test, y_test)))\n",
        "y_test_pred = grid_search.predict(X_test)\n",
        "print('f1_score на тестовом наборе: {:.2f}'.format(metrics.f1_score(y_test, y_test_pred)))\n",
        "print(\"Наилучшие значения гиперпараметров: {}\".format(grid_search.best_params_))"
      ]
    },
    {
      "cell_type": "markdown",
      "source": [
        "Поиск занял 29 минут 56 секунд, на 20 вариантах набора гиперпараметров. \n",
        "При значениях 'C': 0.2, 'penalty': 'l2', 'solver': 'lbfgs' метрика accuracy равна 0,79, а f1 - 0,81\n",
        "\n",
        "## Визуализируем"
      ],
      "metadata": {
        "id": "nfJBLcq83FI_"
      }
    },
    {
      "cell_type": "code",
      "source": [
        "visual = pd.pivot_table(pd.DataFrame(grid_search.cv_results_),\n",
        "                        values='mean_test_score', index='param_C',\n",
        "                        columns='param_solver')\n",
        "sns.heatmap(visual)\n",
        "plt.title('Тепловая карта зависимости метрики accuracy от solver и C')\n",
        "sns.set(rc={'figure.figsize':(12,8)})"
      ],
      "metadata": {
        "colab": {
          "base_uri": "https://localhost:8080/",
          "height": 378
        },
        "id": "XCRy-adr70IS",
        "outputId": "1ebd1bd3-7e3d-493d-829e-788d523b3885"
      },
      "execution_count": null,
      "outputs": [
        {
          "output_type": "display_data",
          "data": {
            "text/plain": [
              "<Figure size 576x396 with 2 Axes>"
            ],
            "image/png": "[encoded data removed]"
          },
          "metadata": {}
        }
      ]
    },
    {
      "cell_type": "markdown",
      "metadata": {
        "id": "6LOExm5Tsuhi"
      },
      "source": [
        "# Попробуем подобрать гиперпараметры при помощи RandomSearch, оставив значения penalty и solver и расширив диапазон C."
      ]
    },
    {
      "cell_type": "code",
      "source": [
        "param_distributions = [\n",
        "              {'penalty': ['l2', 'none'] , # тип регуляризации\n",
        "              'solver': ['lbfgs', 'newton-cg'], # алгоритм оптимизации\n",
        "               'C': list(np.linspace(0.1, 0.3, 10, dtype=float))}, # уровень силы регуляризации\n",
        "]\n",
        "            \n",
        "random_search = RandomizedSearchCV(\n",
        "    estimator=linear_model.LogisticRegression(random_state=13, max_iter=1000), \n",
        "    param_distributions=param_distributions, \n",
        "    cv=5,\n",
        "    n_iter = 10,\n",
        "    error_score='raise',\n",
        "    n_jobs = -1\n",
        ")  \n",
        " \n",
        " \n",
        "%time random_search.fit(X_train, y_train) \n",
        "print(\"accuracy на тестовом наборе: {:.2f}\".format(random_search.score(X_test, y_test)))\n",
        "y_test_pred = random_search.predict(X_test)\n",
        "print('f1_score на тестовом наборе: {:.2f}'.format(metrics.f1_score(y_test, y_test_pred)))\n",
        "print(\"Наилучшие значения гиперпараметров: {}\".format(random_search.best_params_))"
      ],
      "metadata": {
        "colab": {
          "base_uri": "https://localhost:8080/"
        },
        "id": "051v6AxwoPiM",
        "outputId": "129b21ab-1ef0-462e-e2c8-8b6ae2845008"
      },
      "execution_count": null,
      "outputs": [
        {
          "output_type": "stream",
          "name": "stdout",
          "text": [
            "CPU times: user 10.6 s, sys: 1.43 s, total: 12.1 s\n",
            "Wall time: 11min 46s\n",
            "accuracy на тестовом наборе: 0.79\n",
            "f1_score на тестовом наборе: 0.81\n",
            "Наилучшие значения гиперпараметров: {'solver': 'newton-cg', 'penalty': 'l2', 'C': 0.2111111111111111}\n"
          ]
        }
      ]
    },
    {
      "cell_type": "markdown",
      "source": [
        "Получены такие же метрики, как и при GreadSearch. Однако времени затрачено в 3 раза меньше. Заметно что solver в этот раз - newton-cg."
      ],
      "metadata": {
        "id": "Je4RLjwL5T9g"
      }
    },
    {
      "cell_type": "markdown",
      "metadata": {
        "id": "nhohnrLn261V"
      },
      "source": [
        "# Используем продвинутую оптимизацию Hyperopt"
      ]
    },
    {
      "cell_type": "code",
      "execution_count": null,
      "metadata": {
        "colab": {
          "base_uri": "https://localhost:8080/"
        },
        "id": "15b0mu7W3m6O",
        "outputId": "ab4eb7e0-6ecb-49b0-e07f-ff30edb814f3"
      },
      "outputs": [
        {
          "output_type": "stream",
          "name": "stdout",
          "text": [
            "CPU times: user 5 µs, sys: 0 ns, total: 5 µs\n",
            "Wall time: 8.82 µs\n",
            " 10%|█         | 2/20 [03:31<31:51, 106.21s/it, best loss: -0.7782412727931433]"
          ]
        },
        {
          "output_type": "stream",
          "name": "stderr",
          "text": [
            "/usr/local/lib/python3.7/dist-packages/sklearn/linear_model/_sag.py:354: ConvergenceWarning: The max_iter was reached which means the coef_ did not converge\n",
            "  ConvergenceWarning,\n",
            "\n"
          ]
        },
        {
          "output_type": "stream",
          "name": "stdout",
          "text": [
            " 20%|██        | 4/20 [10:34<40:30, 151.91s/it, best loss: -0.7809899550187176]  "
          ]
        },
        {
          "output_type": "stream",
          "name": "stderr",
          "text": [
            "/usr/local/lib/python3.7/dist-packages/sklearn/linear_model/_sag.py:354: ConvergenceWarning: The max_iter was reached which means the coef_ did not converge\n",
            "  ConvergenceWarning,\n",
            "\n"
          ]
        },
        {
          "output_type": "stream",
          "name": "stdout",
          "text": [
            "\r 25%|██▌       | 5/20 [17:39<1:02:33, 250.24s/it, best loss: -0.7809899550187176]"
          ]
        },
        {
          "output_type": "stream",
          "name": "stderr",
          "text": [
            "/usr/local/lib/python3.7/dist-packages/sklearn/linear_model/_sag.py:354: ConvergenceWarning: The max_iter was reached which means the coef_ did not converge\n",
            "  ConvergenceWarning,\n",
            "\n"
          ]
        },
        {
          "output_type": "stream",
          "name": "stdout",
          "text": [
            " 40%|████      | 8/20 [23:00<25:15, 126.26s/it, best loss: -0.7809899550187176]"
          ]
        },
        {
          "output_type": "stream",
          "name": "stderr",
          "text": [
            "/usr/local/lib/python3.7/dist-packages/sklearn/linear_model/_sag.py:354: ConvergenceWarning: The max_iter was reached which means the coef_ did not converge\n",
            "  ConvergenceWarning,\n",
            "\n"
          ]
        },
        {
          "output_type": "stream",
          "name": "stdout",
          "text": [
            " 55%|█████▌    | 11/20 [31:59<21:00, 140.08s/it, best loss: -0.7809899550187176]"
          ]
        },
        {
          "output_type": "stream",
          "name": "stderr",
          "text": [
            "/usr/local/lib/python3.7/dist-packages/sklearn/linear_model/_sag.py:354: ConvergenceWarning: The max_iter was reached which means the coef_ did not converge\n",
            "  ConvergenceWarning,\n",
            "\n"
          ]
        },
        {
          "output_type": "stream",
          "name": "stdout",
          "text": [
            " 65%|██████▌   | 13/20 [38:46<18:00, 154.40s/it, best loss: -0.7809899550187176]"
          ]
        },
        {
          "output_type": "stream",
          "name": "stderr",
          "text": [
            "/usr/local/lib/python3.7/dist-packages/sklearn/linear_model/_sag.py:354: ConvergenceWarning: The max_iter was reached which means the coef_ did not converge\n",
            "  ConvergenceWarning,\n",
            "\n"
          ]
        },
        {
          "output_type": "stream",
          "name": "stdout",
          "text": [
            "\r 70%|███████   | 14/20 [45:48<23:31, 235.22s/it, best loss: -0.7809899550187176]"
          ]
        },
        {
          "output_type": "stream",
          "name": "stderr",
          "text": [
            "/usr/local/lib/python3.7/dist-packages/sklearn/linear_model/_sag.py:354: ConvergenceWarning: The max_iter was reached which means the coef_ did not converge\n",
            "  ConvergenceWarning,\n",
            "\n"
          ]
        },
        {
          "output_type": "stream",
          "name": "stdout",
          "text": [
            "\r 75%|███████▌  | 15/20 [51:58<22:58, 275.63s/it, best loss: -0.7809899550187176]"
          ]
        },
        {
          "output_type": "stream",
          "name": "stderr",
          "text": [
            "/usr/local/lib/python3.7/dist-packages/sklearn/linear_model/_sag.py:354: ConvergenceWarning: The max_iter was reached which means the coef_ did not converge\n",
            "  ConvergenceWarning,\n",
            "\n"
          ]
        },
        {
          "output_type": "stream",
          "name": "stdout",
          "text": [
            "100%|██████████| 20/20 [1:00:32<00:00, 181.63s/it, best loss: -0.7809899550187176]\n",
            "Наилучшие значения гиперпараметров {'C': 0.23682792088234034, 'penalty': 1, 'solver': 0}\n"
          ]
        }
      ],
      "source": [
        "space = {'penalty': hp.choice('penalty', ['l2', 'l1']),\n",
        "    'solver' : hp.choice('solver', ['liblinear', 'saga']),\n",
        "    'C': hp.uniform('C', 0.01, 0.5)\n",
        "    }\n",
        "\n",
        "random_state = 13\n",
        "def hyperopt_lr(params, cv=5, X=X_train, y=y_train, random_state=random_state):\n",
        "    # функция получает комбинацию гиперпараметров в \"params\"\n",
        "    params = {'penalty': params['penalty'], 'solver': params['solver'], 'C': float(params['C'])}\n",
        "# используем эту комбинацию для построения модели\n",
        "    model = linear_model.LogisticRegression(**params, max_iter=1000, random_state=random_state)\n",
        "\n",
        "    # обучаем модель\n",
        "    model.fit(X, y)\n",
        "    score = cross_val_score(model, X, y, cv=cv, scoring=\"f1\", n_jobs=-1).mean()\n",
        "\n",
        "    # метрику необходимо минимизировать, поэтому ставим знак минус\n",
        "    return -score\n",
        "\n",
        "%time\n",
        "\n",
        "trials = Trials() # используется для логирования результатов\n",
        "\n",
        "best=fmin(hyperopt_lr, # наша функция \n",
        "          space=space, # пространство гиперпараметров\n",
        "          algo=tpe.suggest, # алгоритм оптимизации, установлен по умолчанию, задавать необязательно\n",
        "          max_evals=20, # максимальное количество итераций\n",
        "          trials=trials, # логирование результатов\n",
        "          rstate=np.random.RandomState(random_state)# фиксируем для повторяемости результата\n",
        "         )\n",
        "print(\"Наилучшие значения гиперпараметров {}\".format(best))"
      ]
    },
    {
      "cell_type": "markdown",
      "source": [
        "Можно продолжить подбор, но большого смысла в этом на мой взгляд нет. Лучшая метрика получена на 4 итерации и далее не улучшиласть. Визуализируем."
      ],
      "metadata": {
        "id": "iWsyU7LHShW5"
      }
    },
    {
      "cell_type": "code",
      "source": [
        "tpe_results=np.array([[x['result']['loss'], x['misc']['vals']['penalty'][0], x['misc']['vals']['solver'][0], x['misc']['vals']['C'][0]] for x in trials.trials])\n",
        "tpe_results_df=pd.DataFrame(tpe_results, columns=['score', 'penalty', 'solver', 'C'])\n",
        "tpe_results_df.plot(subplots=True, figsize=(10, 10));"
      ],
      "metadata": {
        "id": "MCEy1GP-Ql9S",
        "colab": {
          "base_uri": "https://localhost:8080/",
          "height": 592
        },
        "outputId": "014e5ee0-2eca-4915-ab39-c9bc4e4065aa"
      },
      "execution_count": null,
      "outputs": [
        {
          "output_type": "display_data",
          "data": {
            "text/plain": [
              "<Figure size 720x720 with 4 Axes>"
            ],
            "image/png": "[encoded data removed]"
          },
          "metadata": {}
        }
      ]
    },
    {
      "cell_type": "code",
      "execution_count": null,
      "metadata": {
        "id": "LmJYbepA-Onr"
      },
      "outputs": [],
      "source": [
        "# hyperopt вывел значения параметров в виде их индексов 'penalty': 1, 'solver': 0\n",
        "# для построения модели создадим словари\n",
        "pty = {0:'l2', 1:'l1'}\n",
        "sver = {0:'liblinear', 1:'saga'}"
      ]
    },
    {
      "cell_type": "code",
      "execution_count": null,
      "metadata": {
        "id": "nis1mxdpK1dC",
        "colab": {
          "base_uri": "https://localhost:8080/"
        },
        "outputId": "7069cd8c-243e-4346-e3cd-f73c1f4257db"
      },
      "outputs": [
        {
          "output_type": "stream",
          "name": "stdout",
          "text": [
            "f1_score на обучающем наборе: 0.83\n",
            "accuracy на тестовом наборе: 0.78\n",
            "f1_score на тестовом наборе: 0.80\n"
          ]
        }
      ],
      "source": [
        "model = linear_model.LogisticRegression(\n",
        "    random_state=random_state, \n",
        "    penalty=pty[best['penalty']], \n",
        "    solver=sver[best['solver']],\n",
        "    C=float(best['C'])\n",
        ")\n",
        "model.fit(X_train, y_train)\n",
        "y_train_pred = model.predict(X_train)\n",
        "print('f1_score на обучающем наборе: {:.2f}'.format(metrics.f1_score(y_train, y_train_pred)))\n",
        "print(\"accuracy на тестовом наборе: {:.2f}\".format(model.score(X_test, y_test)))\n",
        "y_test_pred = model.predict(X_test)\n",
        "print('f1_score на тестовом наборе: {:.2f}'.format(metrics.f1_score(y_test, y_test_pred)))"
      ]
    },
    {
      "cell_type": "markdown",
      "source": [
        "Значение accuracy на тестовом наборе осталось на прежнем уровне, метрику f1 улучшить не получилось. Времени при этом затрачено в 2 раза больше чем в GreedSearch и в 6 раз больше чем в RandomSearch"
      ],
      "metadata": {
        "id": "44wjkt7or7dO"
      }
    },
    {
      "cell_type": "markdown",
      "source": [
        "# Продвинутая подборка Optuna для модели Logistic Regression"
      ],
      "metadata": {
        "id": "xCSZPEiFS9nu"
      }
    },
    {
      "cell_type": "code",
      "source": [
        "pip install optuna"
      ],
      "metadata": {
        "colab": {
          "base_uri": "https://localhost:8080/"
        },
        "id": "DgIAxEJ5vSrN",
        "outputId": "cf31df65-f944-495a-acf3-dade051b2396"
      },
      "execution_count": 50,
      "outputs": [
        {
          "output_type": "stream",
          "name": "stdout",
          "text": [
            "Looking in indexes: https://pypi.org/simple, https://us-python.pkg.dev/colab-wheels/public/simple/\n",
            "Requirement already satisfied: optuna in /usr/local/lib/python3.7/dist-packages (3.0.3)\n",
            "Requirement already satisfied: colorlog in /usr/local/lib/python3.7/dist-packages (from optuna) (6.7.0)\n",
            "Requirement already satisfied: packaging>=20.0 in /usr/local/lib/python3.7/dist-packages (from optuna) (21.3)\n",
            "Requirement already satisfied: tqdm in /usr/local/lib/python3.7/dist-packages (from optuna) (4.64.1)\n",
            "Requirement already satisfied: alembic>=1.5.0 in /usr/local/lib/python3.7/dist-packages (from optuna) (1.8.1)\n",
            "Requirement already satisfied: cmaes>=0.8.2 in /usr/local/lib/python3.7/dist-packages (from optuna) (0.8.2)\n",
            "Requirement already satisfied: scipy<1.9.0,>=1.7.0 in /usr/local/lib/python3.7/dist-packages (from optuna) (1.7.3)\n",
            "Requirement already satisfied: PyYAML in /usr/local/lib/python3.7/dist-packages (from optuna) (6.0)\n",
            "Requirement already satisfied: importlib-metadata<5.0.0 in /usr/local/lib/python3.7/dist-packages (from optuna) (4.13.0)\n",
            "Requirement already satisfied: sqlalchemy>=1.3.0 in /usr/local/lib/python3.7/dist-packages (from optuna) (1.4.42)\n",
            "Requirement already satisfied: cliff in /usr/local/lib/python3.7/dist-packages (from optuna) (3.10.1)\n",
            "Requirement already satisfied: numpy in /usr/local/lib/python3.7/dist-packages (from optuna) (1.21.6)\n",
            "Requirement already satisfied: importlib-resources in /usr/local/lib/python3.7/dist-packages (from alembic>=1.5.0->optuna) (5.10.0)\n",
            "Requirement already satisfied: Mako in /usr/local/lib/python3.7/dist-packages (from alembic>=1.5.0->optuna) (1.2.3)\n",
            "Requirement already satisfied: zipp>=0.5 in /usr/local/lib/python3.7/dist-packages (from importlib-metadata<5.0.0->optuna) (3.9.0)\n",
            "Requirement already satisfied: typing-extensions>=3.6.4 in /usr/local/lib/python3.7/dist-packages (from importlib-metadata<5.0.0->optuna) (4.1.1)\n",
            "Requirement already satisfied: pyparsing!=3.0.5,>=2.0.2 in /usr/local/lib/python3.7/dist-packages (from packaging>=20.0->optuna) (3.0.9)\n",
            "Requirement already satisfied: greenlet!=0.4.17 in /usr/local/lib/python3.7/dist-packages (from sqlalchemy>=1.3.0->optuna) (1.1.3.post0)\n",
            "Requirement already satisfied: autopage>=0.4.0 in /usr/local/lib/python3.7/dist-packages (from cliff->optuna) (0.5.1)\n",
            "Requirement already satisfied: PrettyTable>=0.7.2 in /usr/local/lib/python3.7/dist-packages (from cliff->optuna) (3.4.1)\n",
            "Requirement already satisfied: stevedore>=2.0.1 in /usr/local/lib/python3.7/dist-packages (from cliff->optuna) (3.5.2)\n",
            "Requirement already satisfied: cmd2>=1.0.0 in /usr/local/lib/python3.7/dist-packages (from cliff->optuna) (2.4.2)\n",
            "Requirement already satisfied: pbr!=2.1.0,>=2.0.0 in /usr/local/lib/python3.7/dist-packages (from cliff->optuna) (5.11.0)\n",
            "Requirement already satisfied: pyperclip>=1.6 in /usr/local/lib/python3.7/dist-packages (from cmd2>=1.0.0->cliff->optuna) (1.8.2)\n",
            "Requirement already satisfied: attrs>=16.3.0 in /usr/local/lib/python3.7/dist-packages (from cmd2>=1.0.0->cliff->optuna) (22.1.0)\n",
            "Requirement already satisfied: wcwidth>=0.1.7 in /usr/local/lib/python3.7/dist-packages (from cmd2>=1.0.0->cliff->optuna) (0.2.5)\n",
            "Requirement already satisfied: MarkupSafe>=0.9.2 in /usr/local/lib/python3.7/dist-packages (from Mako->alembic>=1.5.0->optuna) (2.0.1)\n"
          ]
        }
      ]
    },
    {
      "cell_type": "code",
      "source": [
        "def optuna_lr(trial):\n",
        "  penalty=trial.suggest_categorical('penalty', ['l2','none'])\n",
        "  solver=trial.suggest_categorical('solver', ['lbfgs', 'saga'])\n",
        "  C=trial.suggest_float('C', 0.01, 1, step=0.01, log=False)\n",
        "\n",
        "  model=linear_model.LogisticRegression(penalty=penalty,\n",
        "                                        solver=solver,\n",
        "                                        C=C,\n",
        "                                        max_iter=1000,\n",
        "                                        random_state=13)\n",
        "  \n",
        "  model.fit(X_train, y_train)\n",
        "  score = cross_val_score(model, X, y, cv=5, scoring=\"f1\", n_jobs=-1).mean()\n",
        "\n",
        "  return score"
      ],
      "metadata": {
        "id": "H_Q_J_G9KGyM"
      },
      "execution_count": null,
      "outputs": []
    },
    {
      "cell_type": "code",
      "source": [
        "import optuna\n",
        "%time\n",
        "study=optuna.create_study(study_name=\"LogisticRegression\", direction='maximize')\n",
        "study.optimize(optuna_lr, n_trials=50)\n",
        "\n",
        "print('Лучшие параметры: {}'.format(study.best_params))\n",
        "print('Лучшее значение метрики: {}'.format(study.best_value))"
      ],
      "metadata": {
        "id": "qnwLPvR2RIct",
        "colab": {
          "base_uri": "https://localhost:8080/"
        },
        "outputId": "1e32c4f4-2119-47f8-b167-4cdd16ecce0d"
      },
      "execution_count": null,
      "outputs": [
        {
          "output_type": "stream",
          "name": "stderr",
          "text": [
            "\u001b[32m[I 2022-10-17 15:41:17,917]\u001b[0m A new study created in memory with name: LogisticRegression\u001b[0m\n"
          ]
        },
        {
          "output_type": "stream",
          "name": "stdout",
          "text": [
            "CPU times: user 2 µs, sys: 0 ns, total: 2 µs\n",
            "Wall time: 5.72 µs\n"
          ]
        },
        {
          "output_type": "stream",
          "name": "stderr",
          "text": [
            "\u001b[32m[I 2022-10-17 15:43:24,056]\u001b[0m Trial 0 finished with value: 0.7807266544149869 and parameters: {'penalty': 'l2', 'solver': 'saga', 'C': 0.2}. Best is trial 0 with value: 0.7807266544149869.\u001b[0m\n",
            "\u001b[32m[I 2022-10-17 15:47:02,321]\u001b[0m Trial 1 finished with value: 0.7771744045455328 and parameters: {'penalty': 'l2', 'solver': 'saga', 'C': 0.75}. Best is trial 0 with value: 0.7807266544149869.\u001b[0m\n",
            "/usr/local/lib/python3.7/dist-packages/sklearn/linear_model/_logistic.py:1484: UserWarning: Setting penalty='none' will ignore the C and l1_ratio parameters\n",
            "  \"Setting penalty='none' will ignore the C and l1_ratio parameters\"\n",
            "/usr/local/lib/python3.7/dist-packages/sklearn/linear_model/_logistic.py:818: ConvergenceWarning: lbfgs failed to converge (status=1):\n",
            "STOP: TOTAL NO. of ITERATIONS REACHED LIMIT.\n",
            "\n",
            "Increase the number of iterations (max_iter) or scale the data as shown in:\n",
            "    https://scikit-learn.org/stable/modules/preprocessing.html\n",
            "Please also refer to the documentation for alternative solver options:\n",
            "    https://scikit-learn.org/stable/modules/linear_model.html#logistic-regression\n",
            "  extra_warning_msg=_LOGISTIC_SOLVER_CONVERGENCE_MSG,\n",
            "\u001b[32m[I 2022-10-17 15:47:50,992]\u001b[0m Trial 2 finished with value: 0.7268486972829951 and parameters: {'penalty': 'none', 'solver': 'lbfgs', 'C': 0.89}. Best is trial 0 with value: 0.7807266544149869.\u001b[0m\n",
            "/usr/local/lib/python3.7/dist-packages/sklearn/linear_model/_sag.py:354: ConvergenceWarning: The max_iter was reached which means the coef_ did not converge\n",
            "  ConvergenceWarning,\n",
            "\u001b[32m[I 2022-10-17 15:54:20,204]\u001b[0m Trial 3 finished with value: 0.7567875582638045 and parameters: {'penalty': 'none', 'solver': 'saga', 'C': 1.0}. Best is trial 0 with value: 0.7807266544149869.\u001b[0m\n",
            "\u001b[32m[I 2022-10-17 15:57:19,065]\u001b[0m Trial 4 finished with value: 0.7779549970322187 and parameters: {'penalty': 'l2', 'solver': 'saga', 'C': 0.5700000000000001}. Best is trial 0 with value: 0.7807266544149869.\u001b[0m\n",
            "\u001b[32m[I 2022-10-17 15:59:37,388]\u001b[0m Trial 5 finished with value: 0.7780526244718626 and parameters: {'penalty': 'l2', 'solver': 'saga', 'C': 0.41000000000000003}. Best is trial 0 with value: 0.7807266544149869.\u001b[0m\n",
            "\u001b[32m[I 2022-10-17 15:59:54,529]\u001b[0m Trial 6 finished with value: 0.7804603473406714 and parameters: {'penalty': 'l2', 'solver': 'lbfgs', 'C': 0.51}. Best is trial 0 with value: 0.7807266544149869.\u001b[0m\n",
            "/usr/local/lib/python3.7/dist-packages/sklearn/linear_model/_logistic.py:1484: UserWarning: Setting penalty='none' will ignore the C and l1_ratio parameters\n",
            "  \"Setting penalty='none' will ignore the C and l1_ratio parameters\"\n",
            "/usr/local/lib/python3.7/dist-packages/sklearn/linear_model/_logistic.py:818: ConvergenceWarning: lbfgs failed to converge (status=1):\n",
            "STOP: TOTAL NO. of ITERATIONS REACHED LIMIT.\n",
            "\n",
            "Increase the number of iterations (max_iter) or scale the data as shown in:\n",
            "    https://scikit-learn.org/stable/modules/preprocessing.html\n",
            "Please also refer to the documentation for alternative solver options:\n",
            "    https://scikit-learn.org/stable/modules/linear_model.html#logistic-regression\n",
            "  extra_warning_msg=_LOGISTIC_SOLVER_CONVERGENCE_MSG,\n",
            "\u001b[32m[I 2022-10-17 16:00:45,106]\u001b[0m Trial 7 finished with value: 0.7268486972829951 and parameters: {'penalty': 'none', 'solver': 'lbfgs', 'C': 0.36000000000000004}. Best is trial 0 with value: 0.7807266544149869.\u001b[0m\n",
            "/usr/local/lib/python3.7/dist-packages/sklearn/linear_model/_logistic.py:1484: UserWarning: Setting penalty='none' will ignore the C and l1_ratio parameters\n",
            "  \"Setting penalty='none' will ignore the C and l1_ratio parameters\"\n",
            "/usr/local/lib/python3.7/dist-packages/sklearn/linear_model/_sag.py:354: ConvergenceWarning: The max_iter was reached which means the coef_ did not converge\n",
            "  ConvergenceWarning,\n",
            "\u001b[32m[I 2022-10-17 16:07:12,116]\u001b[0m Trial 8 finished with value: 0.7567875582638045 and parameters: {'penalty': 'none', 'solver': 'saga', 'C': 0.78}. Best is trial 0 with value: 0.7807266544149869.\u001b[0m\n",
            "\u001b[32m[I 2022-10-17 16:07:32,239]\u001b[0m Trial 9 finished with value: 0.7787481547615962 and parameters: {'penalty': 'l2', 'solver': 'lbfgs', 'C': 0.68}. Best is trial 0 with value: 0.7807266544149869.\u001b[0m\n",
            "\u001b[32m[I 2022-10-17 16:09:32,531]\u001b[0m Trial 10 finished with value: 0.7866743041280643 and parameters: {'penalty': 'l2', 'solver': 'saga', 'C': 0.060000000000000005}. Best is trial 10 with value: 0.7866743041280643.\u001b[0m\n",
            "\u001b[32m[I 2022-10-17 16:11:27,220]\u001b[0m Trial 11 finished with value: 0.7897124883823335 and parameters: {'penalty': 'l2', 'solver': 'saga', 'C': 0.04}. Best is trial 11 with value: 0.7897124883823335.\u001b[0m\n",
            "\u001b[32m[I 2022-10-17 16:12:29,392]\u001b[0m Trial 12 finished with value: 0.7838901806138469 and parameters: {'penalty': 'l2', 'solver': 'saga', 'C': 0.01}. Best is trial 11 with value: 0.7897124883823335.\u001b[0m\n",
            "\u001b[32m[I 2022-10-17 16:13:32,115]\u001b[0m Trial 13 finished with value: 0.7838901806138469 and parameters: {'penalty': 'l2', 'solver': 'saga', 'C': 0.01}. Best is trial 11 with value: 0.7897124883823335.\u001b[0m\n",
            "\u001b[32m[I 2022-10-17 16:15:30,178]\u001b[0m Trial 14 finished with value: 0.7806068023495534 and parameters: {'penalty': 'l2', 'solver': 'saga', 'C': 0.21000000000000002}. Best is trial 11 with value: 0.7897124883823335.\u001b[0m\n",
            "\u001b[32m[I 2022-10-17 16:17:38,104]\u001b[0m Trial 15 finished with value: 0.7812031929494072 and parameters: {'penalty': 'l2', 'solver': 'saga', 'C': 0.17}. Best is trial 11 with value: 0.7897124883823335.\u001b[0m\n",
            "\u001b[32m[I 2022-10-17 16:19:50,568]\u001b[0m Trial 16 finished with value: 0.7823727723786279 and parameters: {'penalty': 'l2', 'solver': 'saga', 'C': 0.14}. Best is trial 11 with value: 0.7897124883823335.\u001b[0m\n",
            "\u001b[32m[I 2022-10-17 16:21:51,158]\u001b[0m Trial 17 finished with value: 0.7789341074905937 and parameters: {'penalty': 'l2', 'solver': 'saga', 'C': 0.34}. Best is trial 11 with value: 0.7897124883823335.\u001b[0m\n",
            "/usr/local/lib/python3.7/dist-packages/sklearn/linear_model/_logistic.py:1484: UserWarning: Setting penalty='none' will ignore the C and l1_ratio parameters\n",
            "  \"Setting penalty='none' will ignore the C and l1_ratio parameters\"\n",
            "/usr/local/lib/python3.7/dist-packages/sklearn/linear_model/_logistic.py:818: ConvergenceWarning: lbfgs failed to converge (status=1):\n",
            "STOP: TOTAL NO. of ITERATIONS REACHED LIMIT.\n",
            "\n",
            "Increase the number of iterations (max_iter) or scale the data as shown in:\n",
            "    https://scikit-learn.org/stable/modules/preprocessing.html\n",
            "Please also refer to the documentation for alternative solver options:\n",
            "    https://scikit-learn.org/stable/modules/linear_model.html#logistic-regression\n",
            "  extra_warning_msg=_LOGISTIC_SOLVER_CONVERGENCE_MSG,\n",
            "\u001b[32m[I 2022-10-17 16:22:40,529]\u001b[0m Trial 18 finished with value: 0.7268486972829951 and parameters: {'penalty': 'none', 'solver': 'lbfgs', 'C': 0.09999999999999999}. Best is trial 11 with value: 0.7897124883823335.\u001b[0m\n",
            "\u001b[32m[I 2022-10-17 16:24:27,688]\u001b[0m Trial 19 finished with value: 0.7812771885237811 and parameters: {'penalty': 'l2', 'solver': 'saga', 'C': 0.28}. Best is trial 11 with value: 0.7897124883823335.\u001b[0m\n",
            "\u001b[32m[I 2022-10-17 16:26:37,534]\u001b[0m Trial 20 finished with value: 0.7868576501958148 and parameters: {'penalty': 'l2', 'solver': 'saga', 'C': 0.09}. Best is trial 11 with value: 0.7897124883823335.\u001b[0m\n",
            "\u001b[32m[I 2022-10-17 16:28:44,635]\u001b[0m Trial 21 finished with value: 0.7866764787879152 and parameters: {'penalty': 'l2', 'solver': 'saga', 'C': 0.08}. Best is trial 11 with value: 0.7897124883823335.\u001b[0m\n",
            "\u001b[32m[I 2022-10-17 16:30:28,088]\u001b[0m Trial 22 finished with value: 0.7796603933696156 and parameters: {'penalty': 'l2', 'solver': 'saga', 'C': 0.26}. Best is trial 11 with value: 0.7897124883823335.\u001b[0m\n",
            "\u001b[32m[I 2022-10-17 16:32:39,923]\u001b[0m Trial 23 finished with value: 0.7843850977891768 and parameters: {'penalty': 'l2', 'solver': 'saga', 'C': 0.09999999999999999}. Best is trial 11 with value: 0.7897124883823335.\u001b[0m\n",
            "\u001b[32m[I 2022-10-17 16:34:46,774]\u001b[0m Trial 24 finished with value: 0.7866764787879152 and parameters: {'penalty': 'l2', 'solver': 'saga', 'C': 0.08}. Best is trial 11 with value: 0.7897124883823335.\u001b[0m\n",
            "\u001b[32m[I 2022-10-17 16:36:32,050]\u001b[0m Trial 25 finished with value: 0.780711323773154 and parameters: {'penalty': 'l2', 'solver': 'saga', 'C': 0.27}. Best is trial 11 with value: 0.7897124883823335.\u001b[0m\n",
            "/usr/local/lib/python3.7/dist-packages/sklearn/linear_model/_logistic.py:1484: UserWarning: Setting penalty='none' will ignore the C and l1_ratio parameters\n",
            "  \"Setting penalty='none' will ignore the C and l1_ratio parameters\"\n",
            "/usr/local/lib/python3.7/dist-packages/sklearn/linear_model/_logistic.py:818: ConvergenceWarning: lbfgs failed to converge (status=1):\n",
            "STOP: TOTAL NO. of ITERATIONS REACHED LIMIT.\n",
            "\n",
            "Increase the number of iterations (max_iter) or scale the data as shown in:\n",
            "    https://scikit-learn.org/stable/modules/preprocessing.html\n",
            "Please also refer to the documentation for alternative solver options:\n",
            "    https://scikit-learn.org/stable/modules/linear_model.html#logistic-regression\n",
            "  extra_warning_msg=_LOGISTIC_SOLVER_CONVERGENCE_MSG,\n",
            "\u001b[32m[I 2022-10-17 16:37:20,471]\u001b[0m Trial 26 finished with value: 0.7268486972829951 and parameters: {'penalty': 'none', 'solver': 'lbfgs', 'C': 0.44}. Best is trial 11 with value: 0.7897124883823335.\u001b[0m\n",
            "\u001b[32m[I 2022-10-17 16:39:28,921]\u001b[0m Trial 27 finished with value: 0.7810990803123412 and parameters: {'penalty': 'l2', 'solver': 'saga', 'C': 0.16}. Best is trial 11 with value: 0.7897124883823335.\u001b[0m\n",
            "\u001b[32m[I 2022-10-17 16:41:27,076]\u001b[0m Trial 28 finished with value: 0.7866743041280643 and parameters: {'penalty': 'l2', 'solver': 'saga', 'C': 0.060000000000000005}. Best is trial 11 with value: 0.7897124883823335.\u001b[0m\n",
            "\u001b[32m[I 2022-10-17 16:43:28,631]\u001b[0m Trial 29 finished with value: 0.7807266544149869 and parameters: {'penalty': 'l2', 'solver': 'saga', 'C': 0.2}. Best is trial 11 with value: 0.7897124883823335.\u001b[0m\n",
            "\u001b[32m[I 2022-10-17 16:44:29,478]\u001b[0m Trial 30 finished with value: 0.7838901806138469 and parameters: {'penalty': 'l2', 'solver': 'saga', 'C': 0.01}. Best is trial 11 with value: 0.7897124883823335.\u001b[0m\n",
            "\u001b[32m[I 2022-10-17 16:46:41,361]\u001b[0m Trial 31 finished with value: 0.7843850977891768 and parameters: {'penalty': 'l2', 'solver': 'saga', 'C': 0.09999999999999999}. Best is trial 11 with value: 0.7897124883823335.\u001b[0m\n",
            "\u001b[32m[I 2022-10-17 16:48:36,464]\u001b[0m Trial 32 finished with value: 0.7814607436653243 and parameters: {'penalty': 'l2', 'solver': 'saga', 'C': 0.22}. Best is trial 11 with value: 0.7897124883823335.\u001b[0m\n",
            "\u001b[32m[I 2022-10-17 16:50:40,417]\u001b[0m Trial 33 finished with value: 0.7870528951492943 and parameters: {'penalty': 'l2', 'solver': 'saga', 'C': 0.06999999999999999}. Best is trial 11 with value: 0.7897124883823335.\u001b[0m\n",
            "\u001b[32m[I 2022-10-17 16:52:52,983]\u001b[0m Trial 34 finished with value: 0.7823727723786279 and parameters: {'penalty': 'l2', 'solver': 'saga', 'C': 0.14}. Best is trial 11 with value: 0.7897124883823335.\u001b[0m\n",
            "/usr/local/lib/python3.7/dist-packages/sklearn/linear_model/_logistic.py:1484: UserWarning: Setting penalty='none' will ignore the C and l1_ratio parameters\n",
            "  \"Setting penalty='none' will ignore the C and l1_ratio parameters\"\n",
            "/usr/local/lib/python3.7/dist-packages/sklearn/linear_model/_sag.py:354: ConvergenceWarning: The max_iter was reached which means the coef_ did not converge\n",
            "  ConvergenceWarning,\n",
            "\u001b[32m[I 2022-10-17 16:59:16,719]\u001b[0m Trial 35 finished with value: 0.7567875582638045 and parameters: {'penalty': 'none', 'solver': 'saga', 'C': 0.33}. Best is trial 11 with value: 0.7897124883823335.\u001b[0m\n",
            "\u001b[32m[I 2022-10-17 17:01:12,714]\u001b[0m Trial 36 finished with value: 0.7864781402597262 and parameters: {'penalty': 'l2', 'solver': 'saga', 'C': 0.05}. Best is trial 11 with value: 0.7897124883823335.\u001b[0m\n",
            "\u001b[32m[I 2022-10-17 17:01:29,965]\u001b[0m Trial 37 finished with value: 0.7800129305082344 and parameters: {'penalty': 'l2', 'solver': 'lbfgs', 'C': 0.56}. Best is trial 11 with value: 0.7897124883823335.\u001b[0m\n",
            "/usr/local/lib/python3.7/dist-packages/sklearn/linear_model/_sag.py:354: ConvergenceWarning: The max_iter was reached which means the coef_ did not converge\n",
            "  ConvergenceWarning,\n",
            "\u001b[32m[I 2022-10-17 17:07:51,799]\u001b[0m Trial 38 finished with value: 0.7567875582638045 and parameters: {'penalty': 'none', 'solver': 'saga', 'C': 1.0}. Best is trial 11 with value: 0.7897124883823335.\u001b[0m\n",
            "\u001b[32m[I 2022-10-17 17:10:05,554]\u001b[0m Trial 39 finished with value: 0.7828655766917504 and parameters: {'penalty': 'l2', 'solver': 'saga', 'C': 0.13}. Best is trial 11 with value: 0.7897124883823335.\u001b[0m\n",
            "\u001b[32m[I 2022-10-17 17:10:21,479]\u001b[0m Trial 40 finished with value: 0.778803908388087 and parameters: {'penalty': 'l2', 'solver': 'lbfgs', 'C': 0.43}. Best is trial 11 with value: 0.7897124883823335.\u001b[0m\n",
            "\u001b[32m[I 2022-10-17 17:12:19,632]\u001b[0m Trial 41 finished with value: 0.7866743041280643 and parameters: {'penalty': 'l2', 'solver': 'saga', 'C': 0.060000000000000005}. Best is trial 11 with value: 0.7897124883823335.\u001b[0m\n",
            "\u001b[32m[I 2022-10-17 17:14:32,930]\u001b[0m Trial 42 finished with value: 0.7843850977891768 and parameters: {'penalty': 'l2', 'solver': 'saga', 'C': 0.09999999999999999}. Best is trial 11 with value: 0.7897124883823335.\u001b[0m\n",
            "\u001b[32m[I 2022-10-17 17:18:33,775]\u001b[0m Trial 43 finished with value: 0.7762601144129195 and parameters: {'penalty': 'l2', 'solver': 'saga', 'C': 0.88}. Best is trial 11 with value: 0.7897124883823335.\u001b[0m\n",
            "\u001b[32m[I 2022-10-17 17:20:24,032]\u001b[0m Trial 44 finished with value: 0.7816577130668403 and parameters: {'penalty': 'l2', 'solver': 'saga', 'C': 0.23}. Best is trial 11 with value: 0.7897124883823335.\u001b[0m\n",
            "\u001b[32m[I 2022-10-17 17:22:18,514]\u001b[0m Trial 45 finished with value: 0.7864781402597262 and parameters: {'penalty': 'l2', 'solver': 'saga', 'C': 0.05}. Best is trial 11 with value: 0.7897124883823335.\u001b[0m\n",
            "/usr/local/lib/python3.7/dist-packages/sklearn/linear_model/_logistic.py:1484: UserWarning: Setting penalty='none' will ignore the C and l1_ratio parameters\n",
            "  \"Setting penalty='none' will ignore the C and l1_ratio parameters\"\n",
            "/usr/local/lib/python3.7/dist-packages/sklearn/linear_model/_sag.py:354: ConvergenceWarning: The max_iter was reached which means the coef_ did not converge\n",
            "  ConvergenceWarning,\n",
            "\u001b[32m[I 2022-10-17 17:28:45,857]\u001b[0m Trial 46 finished with value: 0.7567875582638045 and parameters: {'penalty': 'none', 'solver': 'saga', 'C': 0.19}. Best is trial 11 with value: 0.7897124883823335.\u001b[0m\n",
            "\u001b[32m[I 2022-10-17 17:29:47,336]\u001b[0m Trial 47 finished with value: 0.7838901806138469 and parameters: {'penalty': 'l2', 'solver': 'saga', 'C': 0.01}. Best is trial 11 with value: 0.7897124883823335.\u001b[0m\n",
            "\u001b[32m[I 2022-10-17 17:30:06,540]\u001b[0m Trial 48 finished with value: 0.777594638476859 and parameters: {'penalty': 'l2', 'solver': 'lbfgs', 'C': 0.72}. Best is trial 11 with value: 0.7897124883823335.\u001b[0m\n",
            "\u001b[32m[I 2022-10-17 17:32:22,558]\u001b[0m Trial 49 finished with value: 0.7847641434298577 and parameters: {'penalty': 'l2', 'solver': 'saga', 'C': 0.12}. Best is trial 11 with value: 0.7897124883823335.\u001b[0m\n"
          ]
        },
        {
          "output_type": "stream",
          "name": "stdout",
          "text": [
            "Лучшие параметры: {'penalty': 'l2', 'solver': 'saga', 'C': 0.04}\n",
            "Лучшее значение метрики: 0.7897124883823335\n"
          ]
        }
      ]
    },
    {
      "cell_type": "code",
      "source": [
        "model=linear_model.LogisticRegression(**study.best_params, max_iter=10000, random_state=13)\n",
        "model.fit(X_train, y_train)\n",
        "y_train_pred=model.predict(X_train)\n",
        "print('Значение accuracy на тестовом наборе:{}'.format(model.score(X_test, y_test)))\n",
        "y_test_pred=model.predict(X_test)\n",
        "print('Значение f1_score на тестовом наборе:{}'.format(metrics.f1_score(y_test, y_test_pred)))"
      ],
      "metadata": {
        "id": "6PHqh3jNSigF",
        "colab": {
          "base_uri": "https://localhost:8080/"
        },
        "outputId": "0aed684d-0309-4bcc-a1e8-dd58fd3bae95"
      },
      "execution_count": null,
      "outputs": [
        {
          "output_type": "stream",
          "name": "stdout",
          "text": [
            "Значение accuracy на тестовом наборе:0.7816245006657789\n",
            "Значение f1_score на тестовом наборе:0.803357314148681\n"
          ]
        }
      ]
    },
    {
      "cell_type": "markdown",
      "source": [
        "За 50 итераций улучшения метрики не достигнуто.\n",
        "Попробуем визуализировать"
      ],
      "metadata": {
        "id": "0YOiazKoCchl"
      }
    },
    {
      "cell_type": "code",
      "source": [
        "optuna.visualization.is_available()"
      ],
      "metadata": {
        "id": "1U6s5IJ6Trzs",
        "colab": {
          "base_uri": "https://localhost:8080/"
        },
        "outputId": "f783287d-517e-486e-f814-a9aa259e1b25"
      },
      "execution_count": null,
      "outputs": [
        {
          "output_type": "execute_result",
          "data": {
            "text/plain": [
              "True"
            ]
          },
          "metadata": {},
          "execution_count": 15
        }
      ]
    },
    {
      "cell_type": "code",
      "source": [
        "optuna.visualization.plot_optimization_history(\n",
        "    study, target_name=\"f1_score\"\n",
        ")"
      ],
      "metadata": {
        "id": "QajY6dHST2Jc",
        "colab": {
          "base_uri": "https://localhost:8080/",
          "height": 542
        },
        "outputId": "7b878082-bf3b-4d39-972d-4a76c0611154"
      },
      "execution_count": null,
      "outputs": [
        {
          "output_type": "display_data",
          "data": {
            "text/html": [
              "<html>\n",
              "<head><meta charset=\"utf-8\" /></head>\n",
              "<body>\n",
              "    <div>            <script src=\"https://cdnjs.cloudflare.com/ajax/libs/mathjax/2.7.5/MathJax.js?config=TeX-AMS-MML_SVG\"></script><script type=\"text/javascript\">if (window.MathJax) {MathJax.Hub.Config({SVG: {font: \"STIX-Web\"}});}</script>                <script type=\"text/javascript\">window.PlotlyConfig = {MathJaxConfig: 'local'};</script>\n",
              "        <script src=\"https://cdn.plot.ly/plotly-2.8.3.min.js\"></script>                <div id=\"231c23dc-57f4-420f-b590-99e8a9f87214\" class=\"plotly-graph-div\" style=\"height:525px; width:100%;\"></div>            <script type=\"text/javascript\">                                    window.PLOTLYENV=window.PLOTLYENV || {};                                    if (document.getElementById(\"231c23dc-57f4-420f-b590-99e8a9f87214\")) {                    Plotly.newPlot(                        \"231c23dc-57f4-420f-b590-99e8a9f87214\",                        [{\"mode\":\"markers\",\"name\":\"f1_score\",\"x\":[0,1,2,3,4,5,6,7,8,9,10,11,12,13,14,15,16,17,18,19,20,21,22,23,24,25,26,27,28,29,30,31,32,33,34,35,36,37,38,39,40,41,42,43,44,45,46,47,48,49],\"y\":[0.7807266544149869,0.7771744045455328,0.7268486972829951,0.7567875582638045,0.7779549970322187,0.7780526244718626,0.7804603473406714,0.7268486972829951,0.7567875582638045,0.7787481547615962,0.7866743041280643,0.7897124883823335,0.7838901806138469,0.7838901806138469,0.7806068023495534,0.7812031929494072,0.7823727723786279,0.7789341074905937,0.7268486972829951,0.7812771885237811,0.7868576501958148,0.7866764787879152,0.7796603933696156,0.7843850977891768,0.7866764787879152,0.780711323773154,0.7268486972829951,0.7810990803123412,0.7866743041280643,0.7807266544149869,0.7838901806138469,0.7843850977891768,0.7814607436653243,0.7870528951492943,0.7823727723786279,0.7567875582638045,0.7864781402597262,0.7800129305082344,0.7567875582638045,0.7828655766917504,0.778803908388087,0.7866743041280643,0.7843850977891768,0.7762601144129195,0.7816577130668403,0.7864781402597262,0.7567875582638045,0.7838901806138469,0.777594638476859,0.7847641434298577],\"type\":\"scatter\"},{\"name\":\"Best Value\",\"x\":[0,1,2,3,4,5,6,7,8,9,10,11,12,13,14,15,16,17,18,19,20,21,22,23,24,25,26,27,28,29,30,31,32,33,34,35,36,37,38,39,40,41,42,43,44,45,46,47,48,49],\"y\":[0.7807266544149869,0.7807266544149869,0.7807266544149869,0.7807266544149869,0.7807266544149869,0.7807266544149869,0.7807266544149869,0.7807266544149869,0.7807266544149869,0.7807266544149869,0.7866743041280643,0.7897124883823335,0.7897124883823335,0.7897124883823335,0.7897124883823335,0.7897124883823335,0.7897124883823335,0.7897124883823335,0.7897124883823335,0.7897124883823335,0.7897124883823335,0.7897124883823335,0.7897124883823335,0.7897124883823335,0.7897124883823335,0.7897124883823335,0.7897124883823335,0.7897124883823335,0.7897124883823335,0.7897124883823335,0.7897124883823335,0.7897124883823335,0.7897124883823335,0.7897124883823335,0.7897124883823335,0.7897124883823335,0.7897124883823335,0.7897124883823335,0.7897124883823335,0.7897124883823335,0.7897124883823335,0.7897124883823335,0.7897124883823335,0.7897124883823335,0.7897124883823335,0.7897124883823335,0.7897124883823335,0.7897124883823335,0.7897124883823335,0.7897124883823335],\"type\":\"scatter\"}],                        {\"title\":{\"text\":\"Optimization History Plot\"},\"xaxis\":{\"title\":{\"text\":\"Trial\"}},\"yaxis\":{\"title\":{\"text\":\"f1_score\"}},\"template\":{\"data\":{\"bar\":[{\"error_x\":{\"color\":\"#2a3f5f\"},\"error_y\":{\"color\":\"#2a3f5f\"},\"marker\":{\"line\":{\"color\":\"#E5ECF6\",\"width\":0.5},\"pattern\":{\"fillmode\":\"overlay\",\"size\":10,\"solidity\":0.2}},\"type\":\"bar\"}],\"barpolar\":[{\"marker\":{\"line\":{\"color\":\"#E5ECF6\",\"width\":0.5},\"pattern\":{\"fillmode\":\"overlay\",\"size\":10,\"solidity\":0.2}},\"type\":\"barpolar\"}],\"carpet\":[{\"aaxis\":{\"endlinecolor\":\"#2a3f5f\",\"gridcolor\":\"white\",\"linecolor\":\"white\",\"minorgridcolor\":\"white\",\"startlinecolor\":\"#2a3f5f\"},\"baxis\":{\"endlinecolor\":\"#2a3f5f\",\"gridcolor\":\"white\",\"linecolor\":\"white\",\"minorgridcolor\":\"white\",\"startlinecolor\":\"#2a3f5f\"},\"type\":\"carpet\"}],\"choropleth\":[{\"colorbar\":{\"outlinewidth\":0,\"ticks\":\"\"},\"type\":\"choropleth\"}],\"contour\":[{\"colorbar\":{\"outlinewidth\":0,\"ticks\":\"\"},\"colorscale\":[[0.0,\"#0d0887\"],[0.1111111111111111,\"#46039f\"],[0.2222222222222222,\"#7201a8\"],[0.3333333333333333,\"#9c179e\"],[0.4444444444444444,\"#bd3786\"],[0.5555555555555556,\"#d8576b\"],[0.6666666666666666,\"#ed7953\"],[0.7777777777777778,\"#fb9f3a\"],[0.8888888888888888,\"#fdca26\"],[1.0,\"#f0f921\"]],\"type\":\"contour\"}],\"contourcarpet\":[{\"colorbar\":{\"outlinewidth\":0,\"ticks\":\"\"},\"type\":\"contourcarpet\"}],\"heatmap\":[{\"colorbar\":{\"outlinewidth\":0,\"ticks\":\"\"},\"colorscale\":[[0.0,\"#0d0887\"],[0.1111111111111111,\"#46039f\"],[0.2222222222222222,\"#7201a8\"],[0.3333333333333333,\"#9c179e\"],[0.4444444444444444,\"#bd3786\"],[0.5555555555555556,\"#d8576b\"],[0.6666666666666666,\"#ed7953\"],[0.7777777777777778,\"#fb9f3a\"],[0.8888888888888888,\"#fdca26\"],[1.0,\"#f0f921\"]],\"type\":\"heatmap\"}],\"heatmapgl\":[{\"colorbar\":{\"outlinewidth\":0,\"ticks\":\"\"},\"colorscale\":[[0.0,\"#0d0887\"],[0.1111111111111111,\"#46039f\"],[0.2222222222222222,\"#7201a8\"],[0.3333333333333333,\"#9c179e\"],[0.4444444444444444,\"#bd3786\"],[0.5555555555555556,\"#d8576b\"],[0.6666666666666666,\"#ed7953\"],[0.7777777777777778,\"#fb9f3a\"],[0.8888888888888888,\"#fdca26\"],[1.0,\"#f0f921\"]],\"type\":\"heatmapgl\"}],\"histogram\":[{\"marker\":{\"pattern\":{\"fillmode\":\"overlay\",\"size\":10,\"solidity\":0.2}},\"type\":\"histogram\"}],\"histogram2d\":[{\"colorbar\":{\"outlinewidth\":0,\"ticks\":\"\"},\"colorscale\":[[0.0,\"#0d0887\"],[0.1111111111111111,\"#46039f\"],[0.2222222222222222,\"#7201a8\"],[0.3333333333333333,\"#9c179e\"],[0.4444444444444444,\"#bd3786\"],[0.5555555555555556,\"#d8576b\"],[0.6666666666666666,\"#ed7953\"],[0.7777777777777778,\"#fb9f3a\"],[0.8888888888888888,\"#fdca26\"],[1.0,\"#f0f921\"]],\"type\":\"histogram2d\"}],\"histogram2dcontour\":[{\"colorbar\":{\"outlinewidth\":0,\"ticks\":\"\"},\"colorscale\":[[0.0,\"#0d0887\"],[0.1111111111111111,\"#46039f\"],[0.2222222222222222,\"#7201a8\"],[0.3333333333333333,\"#9c179e\"],[0.4444444444444444,\"#bd3786\"],[0.5555555555555556,\"#d8576b\"],[0.6666666666666666,\"#ed7953\"],[0.7777777777777778,\"#fb9f3a\"],[0.8888888888888888,\"#fdca26\"],[1.0,\"#f0f921\"]],\"type\":\"histogram2dcontour\"}],\"mesh3d\":[{\"colorbar\":{\"outlinewidth\":0,\"ticks\":\"\"},\"type\":\"mesh3d\"}],\"parcoords\":[{\"line\":{\"colorbar\":{\"outlinewidth\":0,\"ticks\":\"\"}},\"type\":\"parcoords\"}],\"pie\":[{\"automargin\":true,\"type\":\"pie\"}],\"scatter\":[{\"marker\":{\"colorbar\":{\"outlinewidth\":0,\"ticks\":\"\"}},\"type\":\"scatter\"}],\"scatter3d\":[{\"line\":{\"colorbar\":{\"outlinewidth\":0,\"ticks\":\"\"}},\"marker\":{\"colorbar\":{\"outlinewidth\":0,\"ticks\":\"\"}},\"type\":\"scatter3d\"}],\"scattercarpet\":[{\"marker\":{\"colorbar\":{\"outlinewidth\":0,\"ticks\":\"\"}},\"type\":\"scattercarpet\"}],\"scattergeo\":[{\"marker\":{\"colorbar\":{\"outlinewidth\":0,\"ticks\":\"\"}},\"type\":\"scattergeo\"}],\"scattergl\":[{\"marker\":{\"colorbar\":{\"outlinewidth\":0,\"ticks\":\"\"}},\"type\":\"scattergl\"}],\"scattermapbox\":[{\"marker\":{\"colorbar\":{\"outlinewidth\":0,\"ticks\":\"\"}},\"type\":\"scattermapbox\"}],\"scatterpolar\":[{\"marker\":{\"colorbar\":{\"outlinewidth\":0,\"ticks\":\"\"}},\"type\":\"scatterpolar\"}],\"scatterpolargl\":[{\"marker\":{\"colorbar\":{\"outlinewidth\":0,\"ticks\":\"\"}},\"type\":\"scatterpolargl\"}],\"scatterternary\":[{\"marker\":{\"colorbar\":{\"outlinewidth\":0,\"ticks\":\"\"}},\"type\":\"scatterternary\"}],\"surface\":[{\"colorbar\":{\"outlinewidth\":0,\"ticks\":\"\"},\"colorscale\":[[0.0,\"#0d0887\"],[0.1111111111111111,\"#46039f\"],[0.2222222222222222,\"#7201a8\"],[0.3333333333333333,\"#9c179e\"],[0.4444444444444444,\"#bd3786\"],[0.5555555555555556,\"#d8576b\"],[0.6666666666666666,\"#ed7953\"],[0.7777777777777778,\"#fb9f3a\"],[0.8888888888888888,\"#fdca26\"],[1.0,\"#f0f921\"]],\"type\":\"surface\"}],\"table\":[{\"cells\":{\"fill\":{\"color\":\"#EBF0F8\"},\"line\":{\"color\":\"white\"}},\"header\":{\"fill\":{\"color\":\"#C8D4E3\"},\"line\":{\"color\":\"white\"}},\"type\":\"table\"}]},\"layout\":{\"annotationdefaults\":{\"arrowcolor\":\"#2a3f5f\",\"arrowhead\":0,\"arrowwidth\":1},\"autotypenumbers\":\"strict\",\"coloraxis\":{\"colorbar\":{\"outlinewidth\":0,\"ticks\":\"\"}},\"colorscale\":{\"diverging\":[[0,\"#8e0152\"],[0.1,\"#c51b7d\"],[0.2,\"#de77ae\"],[0.3,\"#f1b6da\"],[0.4,\"#fde0ef\"],[0.5,\"#f7f7f7\"],[0.6,\"#e6f5d0\"],[0.7,\"#b8e186\"],[0.8,\"#7fbc41\"],[0.9,\"#4d9221\"],[1,\"#276419\"]],\"sequential\":[[0.0,\"#0d0887\"],[0.1111111111111111,\"#46039f\"],[0.2222222222222222,\"#7201a8\"],[0.3333333333333333,\"#9c179e\"],[0.4444444444444444,\"#bd3786\"],[0.5555555555555556,\"#d8576b\"],[0.6666666666666666,\"#ed7953\"],[0.7777777777777778,\"#fb9f3a\"],[0.8888888888888888,\"#fdca26\"],[1.0,\"#f0f921\"]],\"sequentialminus\":[[0.0,\"#0d0887\"],[0.1111111111111111,\"#46039f\"],[0.2222222222222222,\"#7201a8\"],[0.3333333333333333,\"#9c179e\"],[0.4444444444444444,\"#bd3786\"],[0.5555555555555556,\"#d8576b\"],[0.6666666666666666,\"#ed7953\"],[0.7777777777777778,\"#fb9f3a\"],[0.8888888888888888,\"#fdca26\"],[1.0,\"#f0f921\"]]},\"colorway\":[\"#636efa\",\"#EF553B\",\"#00cc96\",\"#ab63fa\",\"#FFA15A\",\"#19d3f3\",\"#FF6692\",\"#B6E880\",\"#FF97FF\",\"#FECB52\"],\"font\":{\"color\":\"#2a3f5f\"},\"geo\":{\"bgcolor\":\"white\",\"lakecolor\":\"white\",\"landcolor\":\"#E5ECF6\",\"showlakes\":true,\"showland\":true,\"subunitcolor\":\"white\"},\"hoverlabel\":{\"align\":\"left\"},\"hovermode\":\"closest\",\"mapbox\":{\"style\":\"light\"},\"paper_bgcolor\":\"white\",\"plot_bgcolor\":\"#E5ECF6\",\"polar\":{\"angularaxis\":{\"gridcolor\":\"white\",\"linecolor\":\"white\",\"ticks\":\"\"},\"bgcolor\":\"#E5ECF6\",\"radialaxis\":{\"gridcolor\":\"white\",\"linecolor\":\"white\",\"ticks\":\"\"}},\"scene\":{\"xaxis\":{\"backgroundcolor\":\"#E5ECF6\",\"gridcolor\":\"white\",\"gridwidth\":2,\"linecolor\":\"white\",\"showbackground\":true,\"ticks\":\"\",\"zerolinecolor\":\"white\"},\"yaxis\":{\"backgroundcolor\":\"#E5ECF6\",\"gridcolor\":\"white\",\"gridwidth\":2,\"linecolor\":\"white\",\"showbackground\":true,\"ticks\":\"\",\"zerolinecolor\":\"white\"},\"zaxis\":{\"backgroundcolor\":\"#E5ECF6\",\"gridcolor\":\"white\",\"gridwidth\":2,\"linecolor\":\"white\",\"showbackground\":true,\"ticks\":\"\",\"zerolinecolor\":\"white\"}},\"shapedefaults\":{\"line\":{\"color\":\"#2a3f5f\"}},\"ternary\":{\"aaxis\":{\"gridcolor\":\"white\",\"linecolor\":\"white\",\"ticks\":\"\"},\"baxis\":{\"gridcolor\":\"white\",\"linecolor\":\"white\",\"ticks\":\"\"},\"bgcolor\":\"#E5ECF6\",\"caxis\":{\"gridcolor\":\"white\",\"linecolor\":\"white\",\"ticks\":\"\"}},\"title\":{\"x\":0.05},\"xaxis\":{\"automargin\":true,\"gridcolor\":\"white\",\"linecolor\":\"white\",\"ticks\":\"\",\"title\":{\"standoff\":15},\"zerolinecolor\":\"white\",\"zerolinewidth\":2},\"yaxis\":{\"automargin\":true,\"gridcolor\":\"white\",\"linecolor\":\"white\",\"ticks\":\"\",\"title\":{\"standoff\":15},\"zerolinecolor\":\"white\",\"zerolinewidth\":2}}}},                        {\"responsive\": true}                    ).then(function(){\n",
              "                            \n",
              "var gd = document.getElementById('231c23dc-57f4-420f-b590-99e8a9f87214');\n",
              "var x = new MutationObserver(function (mutations, observer) {{\n",
              "        var display = window.getComputedStyle(gd).display;\n",
              "        if (!display || display === 'none') {{\n",
              "            console.log([gd, 'removed!']);\n",
              "            Plotly.purge(gd);\n",
              "            observer.disconnect();\n",
              "        }}\n",
              "}});\n",
              "\n",
              "// Listen for the removal of the full notebook cells\n",
              "var notebookContainer = gd.closest('#notebook-container');\n",
              "if (notebookContainer) {{\n",
              "    x.observe(notebookContainer, {childList: true});\n",
              "}}\n",
              "\n",
              "// Listen for the clearing of the current output cell\n",
              "var outputEl = gd.closest('.output');\n",
              "if (outputEl) {{\n",
              "    x.observe(outputEl, {childList: true});\n",
              "}}\n",
              "\n",
              "                        })                };                            </script>        </div>\n",
              "</body>\n",
              "</html>"
            ]
          },
          "metadata": {}
        }
      ]
    },
    {
      "cell_type": "markdown",
      "source": [
        "Лучший результат получент на 12 итерации"
      ],
      "metadata": {
        "id": "dqkPB_3qCx79"
      }
    },
    {
      "cell_type": "code",
      "source": [
        "optuna.visualization.plot_param_importances(\n",
        "    study, target_name=\"f1_score\"\n",
        ")"
      ],
      "metadata": {
        "id": "NVWrRiJ5UJc5",
        "colab": {
          "base_uri": "https://localhost:8080/",
          "height": 542
        },
        "outputId": "b00ec211-80f3-4b30-da25-1cf891ec0360"
      },
      "execution_count": null,
      "outputs": [
        {
          "output_type": "display_data",
          "data": {
            "text/html": [
              "<html>\n",
              "<head><meta charset=\"utf-8\" /></head>\n",
              "<body>\n",
              "    <div>            <script src=\"https://cdnjs.cloudflare.com/ajax/libs/mathjax/2.7.5/MathJax.js?config=TeX-AMS-MML_SVG\"></script><script type=\"text/javascript\">if (window.MathJax) {MathJax.Hub.Config({SVG: {font: \"STIX-Web\"}});}</script>                <script type=\"text/javascript\">window.PlotlyConfig = {MathJaxConfig: 'local'};</script>\n",
              "        <script src=\"https://cdn.plot.ly/plotly-2.8.3.min.js\"></script>                <div id=\"13b13d28-e40c-486b-a845-2096399566b6\" class=\"plotly-graph-div\" style=\"height:525px; width:100%;\"></div>            <script type=\"text/javascript\">                                    window.PLOTLYENV=window.PLOTLYENV || {};                                    if (document.getElementById(\"13b13d28-e40c-486b-a845-2096399566b6\")) {                    Plotly.newPlot(                        \"13b13d28-e40c-486b-a845-2096399566b6\",                        [{\"cliponaxis\":false,\"hovertemplate\":[\"C (FloatDistribution): 0.005128180165115141<extra></extra>\",\"solver (CategoricalDistribution): 0.126372124069751<extra></extra>\",\"penalty (CategoricalDistribution): 0.8684996957651339<extra></extra>\"],\"marker\":{\"color\":\"rgb(66,146,198)\"},\"orientation\":\"h\",\"text\":[\"<0.01\",\"0.13\",\"0.87\"],\"textposition\":\"outside\",\"x\":[0.005128180165115141,0.126372124069751,0.8684996957651339],\"y\":[\"C\",\"solver\",\"penalty\"],\"type\":\"bar\"}],                        {\"showlegend\":false,\"title\":{\"text\":\"Hyperparameter Importances\"},\"xaxis\":{\"title\":{\"text\":\"Importance for f1_score\"}},\"yaxis\":{\"title\":{\"text\":\"Hyperparameter\"}},\"template\":{\"data\":{\"bar\":[{\"error_x\":{\"color\":\"#2a3f5f\"},\"error_y\":{\"color\":\"#2a3f5f\"},\"marker\":{\"line\":{\"color\":\"#E5ECF6\",\"width\":0.5},\"pattern\":{\"fillmode\":\"overlay\",\"size\":10,\"solidity\":0.2}},\"type\":\"bar\"}],\"barpolar\":[{\"marker\":{\"line\":{\"color\":\"#E5ECF6\",\"width\":0.5},\"pattern\":{\"fillmode\":\"overlay\",\"size\":10,\"solidity\":0.2}},\"type\":\"barpolar\"}],\"carpet\":[{\"aaxis\":{\"endlinecolor\":\"#2a3f5f\",\"gridcolor\":\"white\",\"linecolor\":\"white\",\"minorgridcolor\":\"white\",\"startlinecolor\":\"#2a3f5f\"},\"baxis\":{\"endlinecolor\":\"#2a3f5f\",\"gridcolor\":\"white\",\"linecolor\":\"white\",\"minorgridcolor\":\"white\",\"startlinecolor\":\"#2a3f5f\"},\"type\":\"carpet\"}],\"choropleth\":[{\"colorbar\":{\"outlinewidth\":0,\"ticks\":\"\"},\"type\":\"choropleth\"}],\"contour\":[{\"colorbar\":{\"outlinewidth\":0,\"ticks\":\"\"},\"colorscale\":[[0.0,\"#0d0887\"],[0.1111111111111111,\"#46039f\"],[0.2222222222222222,\"#7201a8\"],[0.3333333333333333,\"#9c179e\"],[0.4444444444444444,\"#bd3786\"],[0.5555555555555556,\"#d8576b\"],[0.6666666666666666,\"#ed7953\"],[0.7777777777777778,\"#fb9f3a\"],[0.8888888888888888,\"#fdca26\"],[1.0,\"#f0f921\"]],\"type\":\"contour\"}],\"contourcarpet\":[{\"colorbar\":{\"outlinewidth\":0,\"ticks\":\"\"},\"type\":\"contourcarpet\"}],\"heatmap\":[{\"colorbar\":{\"outlinewidth\":0,\"ticks\":\"\"},\"colorscale\":[[0.0,\"#0d0887\"],[0.1111111111111111,\"#46039f\"],[0.2222222222222222,\"#7201a8\"],[0.3333333333333333,\"#9c179e\"],[0.4444444444444444,\"#bd3786\"],[0.5555555555555556,\"#d8576b\"],[0.6666666666666666,\"#ed7953\"],[0.7777777777777778,\"#fb9f3a\"],[0.8888888888888888,\"#fdca26\"],[1.0,\"#f0f921\"]],\"type\":\"heatmap\"}],\"heatmapgl\":[{\"colorbar\":{\"outlinewidth\":0,\"ticks\":\"\"},\"colorscale\":[[0.0,\"#0d0887\"],[0.1111111111111111,\"#46039f\"],[0.2222222222222222,\"#7201a8\"],[0.3333333333333333,\"#9c179e\"],[0.4444444444444444,\"#bd3786\"],[0.5555555555555556,\"#d8576b\"],[0.6666666666666666,\"#ed7953\"],[0.7777777777777778,\"#fb9f3a\"],[0.8888888888888888,\"#fdca26\"],[1.0,\"#f0f921\"]],\"type\":\"heatmapgl\"}],\"histogram\":[{\"marker\":{\"pattern\":{\"fillmode\":\"overlay\",\"size\":10,\"solidity\":0.2}},\"type\":\"histogram\"}],\"histogram2d\":[{\"colorbar\":{\"outlinewidth\":0,\"ticks\":\"\"},\"colorscale\":[[0.0,\"#0d0887\"],[0.1111111111111111,\"#46039f\"],[0.2222222222222222,\"#7201a8\"],[0.3333333333333333,\"#9c179e\"],[0.4444444444444444,\"#bd3786\"],[0.5555555555555556,\"#d8576b\"],[0.6666666666666666,\"#ed7953\"],[0.7777777777777778,\"#fb9f3a\"],[0.8888888888888888,\"#fdca26\"],[1.0,\"#f0f921\"]],\"type\":\"histogram2d\"}],\"histogram2dcontour\":[{\"colorbar\":{\"outlinewidth\":0,\"ticks\":\"\"},\"colorscale\":[[0.0,\"#0d0887\"],[0.1111111111111111,\"#46039f\"],[0.2222222222222222,\"#7201a8\"],[0.3333333333333333,\"#9c179e\"],[0.4444444444444444,\"#bd3786\"],[0.5555555555555556,\"#d8576b\"],[0.6666666666666666,\"#ed7953\"],[0.7777777777777778,\"#fb9f3a\"],[0.8888888888888888,\"#fdca26\"],[1.0,\"#f0f921\"]],\"type\":\"histogram2dcontour\"}],\"mesh3d\":[{\"colorbar\":{\"outlinewidth\":0,\"ticks\":\"\"},\"type\":\"mesh3d\"}],\"parcoords\":[{\"line\":{\"colorbar\":{\"outlinewidth\":0,\"ticks\":\"\"}},\"type\":\"parcoords\"}],\"pie\":[{\"automargin\":true,\"type\":\"pie\"}],\"scatter\":[{\"marker\":{\"colorbar\":{\"outlinewidth\":0,\"ticks\":\"\"}},\"type\":\"scatter\"}],\"scatter3d\":[{\"line\":{\"colorbar\":{\"outlinewidth\":0,\"ticks\":\"\"}},\"marker\":{\"colorbar\":{\"outlinewidth\":0,\"ticks\":\"\"}},\"type\":\"scatter3d\"}],\"scattercarpet\":[{\"marker\":{\"colorbar\":{\"outlinewidth\":0,\"ticks\":\"\"}},\"type\":\"scattercarpet\"}],\"scattergeo\":[{\"marker\":{\"colorbar\":{\"outlinewidth\":0,\"ticks\":\"\"}},\"type\":\"scattergeo\"}],\"scattergl\":[{\"marker\":{\"colorbar\":{\"outlinewidth\":0,\"ticks\":\"\"}},\"type\":\"scattergl\"}],\"scattermapbox\":[{\"marker\":{\"colorbar\":{\"outlinewidth\":0,\"ticks\":\"\"}},\"type\":\"scattermapbox\"}],\"scatterpolar\":[{\"marker\":{\"colorbar\":{\"outlinewidth\":0,\"ticks\":\"\"}},\"type\":\"scatterpolar\"}],\"scatterpolargl\":[{\"marker\":{\"colorbar\":{\"outlinewidth\":0,\"ticks\":\"\"}},\"type\":\"scatterpolargl\"}],\"scatterternary\":[{\"marker\":{\"colorbar\":{\"outlinewidth\":0,\"ticks\":\"\"}},\"type\":\"scatterternary\"}],\"surface\":[{\"colorbar\":{\"outlinewidth\":0,\"ticks\":\"\"},\"colorscale\":[[0.0,\"#0d0887\"],[0.1111111111111111,\"#46039f\"],[0.2222222222222222,\"#7201a8\"],[0.3333333333333333,\"#9c179e\"],[0.4444444444444444,\"#bd3786\"],[0.5555555555555556,\"#d8576b\"],[0.6666666666666666,\"#ed7953\"],[0.7777777777777778,\"#fb9f3a\"],[0.8888888888888888,\"#fdca26\"],[1.0,\"#f0f921\"]],\"type\":\"surface\"}],\"table\":[{\"cells\":{\"fill\":{\"color\":\"#EBF0F8\"},\"line\":{\"color\":\"white\"}},\"header\":{\"fill\":{\"color\":\"#C8D4E3\"},\"line\":{\"color\":\"white\"}},\"type\":\"table\"}]},\"layout\":{\"annotationdefaults\":{\"arrowcolor\":\"#2a3f5f\",\"arrowhead\":0,\"arrowwidth\":1},\"autotypenumbers\":\"strict\",\"coloraxis\":{\"colorbar\":{\"outlinewidth\":0,\"ticks\":\"\"}},\"colorscale\":{\"diverging\":[[0,\"#8e0152\"],[0.1,\"#c51b7d\"],[0.2,\"#de77ae\"],[0.3,\"#f1b6da\"],[0.4,\"#fde0ef\"],[0.5,\"#f7f7f7\"],[0.6,\"#e6f5d0\"],[0.7,\"#b8e186\"],[0.8,\"#7fbc41\"],[0.9,\"#4d9221\"],[1,\"#276419\"]],\"sequential\":[[0.0,\"#0d0887\"],[0.1111111111111111,\"#46039f\"],[0.2222222222222222,\"#7201a8\"],[0.3333333333333333,\"#9c179e\"],[0.4444444444444444,\"#bd3786\"],[0.5555555555555556,\"#d8576b\"],[0.6666666666666666,\"#ed7953\"],[0.7777777777777778,\"#fb9f3a\"],[0.8888888888888888,\"#fdca26\"],[1.0,\"#f0f921\"]],\"sequentialminus\":[[0.0,\"#0d0887\"],[0.1111111111111111,\"#46039f\"],[0.2222222222222222,\"#7201a8\"],[0.3333333333333333,\"#9c179e\"],[0.4444444444444444,\"#bd3786\"],[0.5555555555555556,\"#d8576b\"],[0.6666666666666666,\"#ed7953\"],[0.7777777777777778,\"#fb9f3a\"],[0.8888888888888888,\"#fdca26\"],[1.0,\"#f0f921\"]]},\"colorway\":[\"#636efa\",\"#EF553B\",\"#00cc96\",\"#ab63fa\",\"#FFA15A\",\"#19d3f3\",\"#FF6692\",\"#B6E880\",\"#FF97FF\",\"#FECB52\"],\"font\":{\"color\":\"#2a3f5f\"},\"geo\":{\"bgcolor\":\"white\",\"lakecolor\":\"white\",\"landcolor\":\"#E5ECF6\",\"showlakes\":true,\"showland\":true,\"subunitcolor\":\"white\"},\"hoverlabel\":{\"align\":\"left\"},\"hovermode\":\"closest\",\"mapbox\":{\"style\":\"light\"},\"paper_bgcolor\":\"white\",\"plot_bgcolor\":\"#E5ECF6\",\"polar\":{\"angularaxis\":{\"gridcolor\":\"white\",\"linecolor\":\"white\",\"ticks\":\"\"},\"bgcolor\":\"#E5ECF6\",\"radialaxis\":{\"gridcolor\":\"white\",\"linecolor\":\"white\",\"ticks\":\"\"}},\"scene\":{\"xaxis\":{\"backgroundcolor\":\"#E5ECF6\",\"gridcolor\":\"white\",\"gridwidth\":2,\"linecolor\":\"white\",\"showbackground\":true,\"ticks\":\"\",\"zerolinecolor\":\"white\"},\"yaxis\":{\"backgroundcolor\":\"#E5ECF6\",\"gridcolor\":\"white\",\"gridwidth\":2,\"linecolor\":\"white\",\"showbackground\":true,\"ticks\":\"\",\"zerolinecolor\":\"white\"},\"zaxis\":{\"backgroundcolor\":\"#E5ECF6\",\"gridcolor\":\"white\",\"gridwidth\":2,\"linecolor\":\"white\",\"showbackground\":true,\"ticks\":\"\",\"zerolinecolor\":\"white\"}},\"shapedefaults\":{\"line\":{\"color\":\"#2a3f5f\"}},\"ternary\":{\"aaxis\":{\"gridcolor\":\"white\",\"linecolor\":\"white\",\"ticks\":\"\"},\"baxis\":{\"gridcolor\":\"white\",\"linecolor\":\"white\",\"ticks\":\"\"},\"bgcolor\":\"#E5ECF6\",\"caxis\":{\"gridcolor\":\"white\",\"linecolor\":\"white\",\"ticks\":\"\"}},\"title\":{\"x\":0.05},\"xaxis\":{\"automargin\":true,\"gridcolor\":\"white\",\"linecolor\":\"white\",\"ticks\":\"\",\"title\":{\"standoff\":15},\"zerolinecolor\":\"white\",\"zerolinewidth\":2},\"yaxis\":{\"automargin\":true,\"gridcolor\":\"white\",\"linecolor\":\"white\",\"ticks\":\"\",\"title\":{\"standoff\":15},\"zerolinecolor\":\"white\",\"zerolinewidth\":2}}}},                        {\"responsive\": true}                    ).then(function(){\n",
              "                            \n",
              "var gd = document.getElementById('13b13d28-e40c-486b-a845-2096399566b6');\n",
              "var x = new MutationObserver(function (mutations, observer) {{\n",
              "        var display = window.getComputedStyle(gd).display;\n",
              "        if (!display || display === 'none') {{\n",
              "            console.log([gd, 'removed!']);\n",
              "            Plotly.purge(gd);\n",
              "            observer.disconnect();\n",
              "        }}\n",
              "}});\n",
              "\n",
              "// Listen for the removal of the full notebook cells\n",
              "var notebookContainer = gd.closest('#notebook-container');\n",
              "if (notebookContainer) {{\n",
              "    x.observe(notebookContainer, {childList: true});\n",
              "}}\n",
              "\n",
              "// Listen for the clearing of the current output cell\n",
              "var outputEl = gd.closest('.output');\n",
              "if (outputEl) {{\n",
              "    x.observe(outputEl, {childList: true});\n",
              "}}\n",
              "\n",
              "                        })                };                            </script>        </div>\n",
              "</body>\n",
              "</html>"
            ]
          },
          "metadata": {}
        }
      ]
    },
    {
      "cell_type": "markdown",
      "source": [
        "Максимальное влияние на метрику оказывает параметр 'penalty'"
      ],
      "metadata": {
        "id": "B2AsIXT7DSGj"
      }
    },
    {
      "cell_type": "code",
      "source": [
        "optuna.visualization.plot_contour(\n",
        "    study, params=[\"penalty\",\"solver\"],\n",
        "    target_name='f1_score'\n",
        ")"
      ],
      "metadata": {
        "id": "xk3ZimxcUa-6",
        "colab": {
          "base_uri": "https://localhost:8080/",
          "height": 542
        },
        "outputId": "81e80388-6948-4676-a864-6fa5d55b2d9e"
      },
      "execution_count": null,
      "outputs": [
        {
          "output_type": "display_data",
          "data": {
            "text/html": [
              "<html>\n",
              "<head><meta charset=\"utf-8\" /></head>\n",
              "<body>\n",
              "    <div>            <script src=\"https://cdnjs.cloudflare.com/ajax/libs/mathjax/2.7.5/MathJax.js?config=TeX-AMS-MML_SVG\"></script><script type=\"text/javascript\">if (window.MathJax) {MathJax.Hub.Config({SVG: {font: \"STIX-Web\"}});}</script>                <script type=\"text/javascript\">window.PlotlyConfig = {MathJaxConfig: 'local'};</script>\n",
              "        <script src=\"https://cdn.plot.ly/plotly-2.8.3.min.js\"></script>                <div id=\"659779ae-024f-4b9b-b7b8-8c14a2bda0d1\" class=\"plotly-graph-div\" style=\"height:525px; width:100%;\"></div>            <script type=\"text/javascript\">                                    window.PLOTLYENV=window.PLOTLYENV || {};                                    if (document.getElementById(\"659779ae-024f-4b9b-b7b8-8c14a2bda0d1\")) {                    Plotly.newPlot(                        \"659779ae-024f-4b9b-b7b8-8c14a2bda0d1\",                        [{\"colorbar\":{\"title\":{\"text\":\"f1_score\"}},\"colorscale\":[[0.0,\"rgb(247,251,255)\"],[0.125,\"rgb(222,235,247)\"],[0.25,\"rgb(198,219,239)\"],[0.375,\"rgb(158,202,225)\"],[0.5,\"rgb(107,174,214)\"],[0.625,\"rgb(66,146,198)\"],[0.75,\"rgb(33,113,181)\"],[0.875,\"rgb(8,81,156)\"],[1.0,\"rgb(8,48,107)\"]],\"connectgaps\":true,\"contours\":{\"coloring\":\"heatmap\"},\"hoverinfo\":\"none\",\"line\":{\"smoothing\":1.3},\"reversescale\":false,\"x\":[\"l2\",\"none\"],\"y\":[\"lbfgs\",\"saga\"],\"z\":[[0.777594638476859,0.7268486972829951],[0.7847641434298577,0.7567875582638045]],\"type\":\"contour\"},{\"marker\":{\"color\":\"black\",\"line\":{\"color\":\"Grey\",\"width\":2.0}},\"mode\":\"markers\",\"showlegend\":false,\"x\":[\"l2\",\"l2\",\"none\",\"none\",\"l2\",\"l2\",\"l2\",\"none\",\"none\",\"l2\",\"l2\",\"l2\",\"l2\",\"l2\",\"l2\",\"l2\",\"l2\",\"l2\",\"none\",\"l2\",\"l2\",\"l2\",\"l2\",\"l2\",\"l2\",\"l2\",\"none\",\"l2\",\"l2\",\"l2\",\"l2\",\"l2\",\"l2\",\"l2\",\"l2\",\"none\",\"l2\",\"l2\",\"none\",\"l2\",\"l2\",\"l2\",\"l2\",\"l2\",\"l2\",\"l2\",\"none\",\"l2\",\"l2\",\"l2\"],\"y\":[\"saga\",\"saga\",\"lbfgs\",\"saga\",\"saga\",\"saga\",\"lbfgs\",\"lbfgs\",\"saga\",\"lbfgs\",\"saga\",\"saga\",\"saga\",\"saga\",\"saga\",\"saga\",\"saga\",\"saga\",\"lbfgs\",\"saga\",\"saga\",\"saga\",\"saga\",\"saga\",\"saga\",\"saga\",\"lbfgs\",\"saga\",\"saga\",\"saga\",\"saga\",\"saga\",\"saga\",\"saga\",\"saga\",\"saga\",\"saga\",\"lbfgs\",\"saga\",\"saga\",\"lbfgs\",\"saga\",\"saga\",\"saga\",\"saga\",\"saga\",\"saga\",\"saga\",\"lbfgs\",\"saga\"],\"type\":\"scatter\"}],                        {\"title\":{\"text\":\"Contour Plot\"},\"template\":{\"data\":{\"bar\":[{\"error_x\":{\"color\":\"#2a3f5f\"},\"error_y\":{\"color\":\"#2a3f5f\"},\"marker\":{\"line\":{\"color\":\"#E5ECF6\",\"width\":0.5},\"pattern\":{\"fillmode\":\"overlay\",\"size\":10,\"solidity\":0.2}},\"type\":\"bar\"}],\"barpolar\":[{\"marker\":{\"line\":{\"color\":\"#E5ECF6\",\"width\":0.5},\"pattern\":{\"fillmode\":\"overlay\",\"size\":10,\"solidity\":0.2}},\"type\":\"barpolar\"}],\"carpet\":[{\"aaxis\":{\"endlinecolor\":\"#2a3f5f\",\"gridcolor\":\"white\",\"linecolor\":\"white\",\"minorgridcolor\":\"white\",\"startlinecolor\":\"#2a3f5f\"},\"baxis\":{\"endlinecolor\":\"#2a3f5f\",\"gridcolor\":\"white\",\"linecolor\":\"white\",\"minorgridcolor\":\"white\",\"startlinecolor\":\"#2a3f5f\"},\"type\":\"carpet\"}],\"choropleth\":[{\"colorbar\":{\"outlinewidth\":0,\"ticks\":\"\"},\"type\":\"choropleth\"}],\"contour\":[{\"colorbar\":{\"outlinewidth\":0,\"ticks\":\"\"},\"colorscale\":[[0.0,\"#0d0887\"],[0.1111111111111111,\"#46039f\"],[0.2222222222222222,\"#7201a8\"],[0.3333333333333333,\"#9c179e\"],[0.4444444444444444,\"#bd3786\"],[0.5555555555555556,\"#d8576b\"],[0.6666666666666666,\"#ed7953\"],[0.7777777777777778,\"#fb9f3a\"],[0.8888888888888888,\"#fdca26\"],[1.0,\"#f0f921\"]],\"type\":\"contour\"}],\"contourcarpet\":[{\"colorbar\":{\"outlinewidth\":0,\"ticks\":\"\"},\"type\":\"contourcarpet\"}],\"heatmap\":[{\"colorbar\":{\"outlinewidth\":0,\"ticks\":\"\"},\"colorscale\":[[0.0,\"#0d0887\"],[0.1111111111111111,\"#46039f\"],[0.2222222222222222,\"#7201a8\"],[0.3333333333333333,\"#9c179e\"],[0.4444444444444444,\"#bd3786\"],[0.5555555555555556,\"#d8576b\"],[0.6666666666666666,\"#ed7953\"],[0.7777777777777778,\"#fb9f3a\"],[0.8888888888888888,\"#fdca26\"],[1.0,\"#f0f921\"]],\"type\":\"heatmap\"}],\"heatmapgl\":[{\"colorbar\":{\"outlinewidth\":0,\"ticks\":\"\"},\"colorscale\":[[0.0,\"#0d0887\"],[0.1111111111111111,\"#46039f\"],[0.2222222222222222,\"#7201a8\"],[0.3333333333333333,\"#9c179e\"],[0.4444444444444444,\"#bd3786\"],[0.5555555555555556,\"#d8576b\"],[0.6666666666666666,\"#ed7953\"],[0.7777777777777778,\"#fb9f3a\"],[0.8888888888888888,\"#fdca26\"],[1.0,\"#f0f921\"]],\"type\":\"heatmapgl\"}],\"histogram\":[{\"marker\":{\"pattern\":{\"fillmode\":\"overlay\",\"size\":10,\"solidity\":0.2}},\"type\":\"histogram\"}],\"histogram2d\":[{\"colorbar\":{\"outlinewidth\":0,\"ticks\":\"\"},\"colorscale\":[[0.0,\"#0d0887\"],[0.1111111111111111,\"#46039f\"],[0.2222222222222222,\"#7201a8\"],[0.3333333333333333,\"#9c179e\"],[0.4444444444444444,\"#bd3786\"],[0.5555555555555556,\"#d8576b\"],[0.6666666666666666,\"#ed7953\"],[0.7777777777777778,\"#fb9f3a\"],[0.8888888888888888,\"#fdca26\"],[1.0,\"#f0f921\"]],\"type\":\"histogram2d\"}],\"histogram2dcontour\":[{\"colorbar\":{\"outlinewidth\":0,\"ticks\":\"\"},\"colorscale\":[[0.0,\"#0d0887\"],[0.1111111111111111,\"#46039f\"],[0.2222222222222222,\"#7201a8\"],[0.3333333333333333,\"#9c179e\"],[0.4444444444444444,\"#bd3786\"],[0.5555555555555556,\"#d8576b\"],[0.6666666666666666,\"#ed7953\"],[0.7777777777777778,\"#fb9f3a\"],[0.8888888888888888,\"#fdca26\"],[1.0,\"#f0f921\"]],\"type\":\"histogram2dcontour\"}],\"mesh3d\":[{\"colorbar\":{\"outlinewidth\":0,\"ticks\":\"\"},\"type\":\"mesh3d\"}],\"parcoords\":[{\"line\":{\"colorbar\":{\"outlinewidth\":0,\"ticks\":\"\"}},\"type\":\"parcoords\"}],\"pie\":[{\"automargin\":true,\"type\":\"pie\"}],\"scatter\":[{\"marker\":{\"colorbar\":{\"outlinewidth\":0,\"ticks\":\"\"}},\"type\":\"scatter\"}],\"scatter3d\":[{\"line\":{\"colorbar\":{\"outlinewidth\":0,\"ticks\":\"\"}},\"marker\":{\"colorbar\":{\"outlinewidth\":0,\"ticks\":\"\"}},\"type\":\"scatter3d\"}],\"scattercarpet\":[{\"marker\":{\"colorbar\":{\"outlinewidth\":0,\"ticks\":\"\"}},\"type\":\"scattercarpet\"}],\"scattergeo\":[{\"marker\":{\"colorbar\":{\"outlinewidth\":0,\"ticks\":\"\"}},\"type\":\"scattergeo\"}],\"scattergl\":[{\"marker\":{\"colorbar\":{\"outlinewidth\":0,\"ticks\":\"\"}},\"type\":\"scattergl\"}],\"scattermapbox\":[{\"marker\":{\"colorbar\":{\"outlinewidth\":0,\"ticks\":\"\"}},\"type\":\"scattermapbox\"}],\"scatterpolar\":[{\"marker\":{\"colorbar\":{\"outlinewidth\":0,\"ticks\":\"\"}},\"type\":\"scatterpolar\"}],\"scatterpolargl\":[{\"marker\":{\"colorbar\":{\"outlinewidth\":0,\"ticks\":\"\"}},\"type\":\"scatterpolargl\"}],\"scatterternary\":[{\"marker\":{\"colorbar\":{\"outlinewidth\":0,\"ticks\":\"\"}},\"type\":\"scatterternary\"}],\"surface\":[{\"colorbar\":{\"outlinewidth\":0,\"ticks\":\"\"},\"colorscale\":[[0.0,\"#0d0887\"],[0.1111111111111111,\"#46039f\"],[0.2222222222222222,\"#7201a8\"],[0.3333333333333333,\"#9c179e\"],[0.4444444444444444,\"#bd3786\"],[0.5555555555555556,\"#d8576b\"],[0.6666666666666666,\"#ed7953\"],[0.7777777777777778,\"#fb9f3a\"],[0.8888888888888888,\"#fdca26\"],[1.0,\"#f0f921\"]],\"type\":\"surface\"}],\"table\":[{\"cells\":{\"fill\":{\"color\":\"#EBF0F8\"},\"line\":{\"color\":\"white\"}},\"header\":{\"fill\":{\"color\":\"#C8D4E3\"},\"line\":{\"color\":\"white\"}},\"type\":\"table\"}]},\"layout\":{\"annotationdefaults\":{\"arrowcolor\":\"#2a3f5f\",\"arrowhead\":0,\"arrowwidth\":1},\"autotypenumbers\":\"strict\",\"coloraxis\":{\"colorbar\":{\"outlinewidth\":0,\"ticks\":\"\"}},\"colorscale\":{\"diverging\":[[0,\"#8e0152\"],[0.1,\"#c51b7d\"],[0.2,\"#de77ae\"],[0.3,\"#f1b6da\"],[0.4,\"#fde0ef\"],[0.5,\"#f7f7f7\"],[0.6,\"#e6f5d0\"],[0.7,\"#b8e186\"],[0.8,\"#7fbc41\"],[0.9,\"#4d9221\"],[1,\"#276419\"]],\"sequential\":[[0.0,\"#0d0887\"],[0.1111111111111111,\"#46039f\"],[0.2222222222222222,\"#7201a8\"],[0.3333333333333333,\"#9c179e\"],[0.4444444444444444,\"#bd3786\"],[0.5555555555555556,\"#d8576b\"],[0.6666666666666666,\"#ed7953\"],[0.7777777777777778,\"#fb9f3a\"],[0.8888888888888888,\"#fdca26\"],[1.0,\"#f0f921\"]],\"sequentialminus\":[[0.0,\"#0d0887\"],[0.1111111111111111,\"#46039f\"],[0.2222222222222222,\"#7201a8\"],[0.3333333333333333,\"#9c179e\"],[0.4444444444444444,\"#bd3786\"],[0.5555555555555556,\"#d8576b\"],[0.6666666666666666,\"#ed7953\"],[0.7777777777777778,\"#fb9f3a\"],[0.8888888888888888,\"#fdca26\"],[1.0,\"#f0f921\"]]},\"colorway\":[\"#636efa\",\"#EF553B\",\"#00cc96\",\"#ab63fa\",\"#FFA15A\",\"#19d3f3\",\"#FF6692\",\"#B6E880\",\"#FF97FF\",\"#FECB52\"],\"font\":{\"color\":\"#2a3f5f\"},\"geo\":{\"bgcolor\":\"white\",\"lakecolor\":\"white\",\"landcolor\":\"#E5ECF6\",\"showlakes\":true,\"showland\":true,\"subunitcolor\":\"white\"},\"hoverlabel\":{\"align\":\"left\"},\"hovermode\":\"closest\",\"mapbox\":{\"style\":\"light\"},\"paper_bgcolor\":\"white\",\"plot_bgcolor\":\"#E5ECF6\",\"polar\":{\"angularaxis\":{\"gridcolor\":\"white\",\"linecolor\":\"white\",\"ticks\":\"\"},\"bgcolor\":\"#E5ECF6\",\"radialaxis\":{\"gridcolor\":\"white\",\"linecolor\":\"white\",\"ticks\":\"\"}},\"scene\":{\"xaxis\":{\"backgroundcolor\":\"#E5ECF6\",\"gridcolor\":\"white\",\"gridwidth\":2,\"linecolor\":\"white\",\"showbackground\":true,\"ticks\":\"\",\"zerolinecolor\":\"white\"},\"yaxis\":{\"backgroundcolor\":\"#E5ECF6\",\"gridcolor\":\"white\",\"gridwidth\":2,\"linecolor\":\"white\",\"showbackground\":true,\"ticks\":\"\",\"zerolinecolor\":\"white\"},\"zaxis\":{\"backgroundcolor\":\"#E5ECF6\",\"gridcolor\":\"white\",\"gridwidth\":2,\"linecolor\":\"white\",\"showbackground\":true,\"ticks\":\"\",\"zerolinecolor\":\"white\"}},\"shapedefaults\":{\"line\":{\"color\":\"#2a3f5f\"}},\"ternary\":{\"aaxis\":{\"gridcolor\":\"white\",\"linecolor\":\"white\",\"ticks\":\"\"},\"baxis\":{\"gridcolor\":\"white\",\"linecolor\":\"white\",\"ticks\":\"\"},\"bgcolor\":\"#E5ECF6\",\"caxis\":{\"gridcolor\":\"white\",\"linecolor\":\"white\",\"ticks\":\"\"}},\"title\":{\"x\":0.05},\"xaxis\":{\"automargin\":true,\"gridcolor\":\"white\",\"linecolor\":\"white\",\"ticks\":\"\",\"title\":{\"standoff\":15},\"zerolinecolor\":\"white\",\"zerolinewidth\":2},\"yaxis\":{\"automargin\":true,\"gridcolor\":\"white\",\"linecolor\":\"white\",\"ticks\":\"\",\"title\":{\"standoff\":15},\"zerolinecolor\":\"white\",\"zerolinewidth\":2}}},\"xaxis\":{\"title\":{\"text\":\"penalty\"},\"range\":[-0.05,1.05],\"type\":\"category\"},\"yaxis\":{\"title\":{\"text\":\"solver\"},\"range\":[-0.05,1.05],\"type\":\"category\"}},                        {\"responsive\": true}                    ).then(function(){\n",
              "                            \n",
              "var gd = document.getElementById('659779ae-024f-4b9b-b7b8-8c14a2bda0d1');\n",
              "var x = new MutationObserver(function (mutations, observer) {{\n",
              "        var display = window.getComputedStyle(gd).display;\n",
              "        if (!display || display === 'none') {{\n",
              "            console.log([gd, 'removed!']);\n",
              "            Plotly.purge(gd);\n",
              "            observer.disconnect();\n",
              "        }}\n",
              "}});\n",
              "\n",
              "// Listen for the removal of the full notebook cells\n",
              "var notebookContainer = gd.closest('#notebook-container');\n",
              "if (notebookContainer) {{\n",
              "    x.observe(notebookContainer, {childList: true});\n",
              "}}\n",
              "\n",
              "// Listen for the clearing of the current output cell\n",
              "var outputEl = gd.closest('.output');\n",
              "if (outputEl) {{\n",
              "    x.observe(outputEl, {childList: true});\n",
              "}}\n",
              "\n",
              "                        })                };                            </script>        </div>\n",
              "</body>\n",
              "</html>"
            ]
          },
          "metadata": {}
        }
      ]
    },
    {
      "cell_type": "markdown",
      "metadata": {
        "id": "EJcuW88O4l7C"
      },
      "source": [
        "# Проведем такие же подборы гиперпараметров на ансамбле RandomForest"
      ]
    },
    {
      "cell_type": "code",
      "execution_count": null,
      "metadata": {
        "id": "S3Ig3lit4kyz",
        "colab": {
          "base_uri": "https://localhost:8080/"
        },
        "outputId": "25bcf366-bac0-423c-d260-66bcd3dccf32"
      },
      "outputs": [
        {
          "output_type": "stream",
          "name": "stdout",
          "text": [
            "accuracy на тестовом наборе (rf): 0.84\n",
            "f1_score на тестовом наборе (rf): 0.85\n"
          ]
        }
      ],
      "source": [
        "rnd_fst = ensemble.RandomForestClassifier(\n",
        "    criterion='entropy', #критерий эффективности\n",
        "    random_state=13\n",
        "    )\n",
        "\n",
        "#Обучаем модель\n",
        "rnd_fst.fit(X_train, y_train)\n",
        "print(\"accuracy на тестовом наборе (rf): {:.2f}\".format(rnd_fst.score(X_test, y_test)))\n",
        "y_test_pred = rnd_fst.predict(X_test)\n",
        "print('f1_score на тестовом наборе (rf): {:.2f}'.format(metrics.f1_score(y_test, y_test_pred)))"
      ]
    },
    {
      "cell_type": "markdown",
      "source": [
        "Результат превзошел логистическую регрессию, 0.85 больше 0.81"
      ],
      "metadata": {
        "id": "YNI-dtmHD9WL"
      }
    },
    {
      "cell_type": "markdown",
      "metadata": {
        "id": "dnNUna0S4w2_"
      },
      "source": [
        "#GreedSearch на модели Random Forest"
      ]
    },
    {
      "cell_type": "code",
      "execution_count": null,
      "metadata": {
        "id": "8OovWRkr4wHm",
        "colab": {
          "base_uri": "https://localhost:8080/"
        },
        "outputId": "58d813e1-1073-4d34-860e-9478e7aac615"
      },
      "outputs": [
        {
          "output_type": "stream",
          "name": "stdout",
          "text": [
            "CPU times: user 27.5 s, sys: 2.27 s, total: 29.8 s\n",
            "Wall time: 46min 48s\n",
            "accuracy на тестовом наборе: 0.82\n",
            "f1_score на тестовом наборе: 0.84\n",
            "Наилучшие значения гиперпараметров: {'max_depth': 15, 'min_samples_leaf': 2, 'n_estimators': 300}\n"
          ]
        }
      ],
      "source": [
        "param_grid = [{'max_depth': [5,10,15,20,25],\n",
        "               'min_samples_leaf': [2,3,4,5,6,7,8,9],\n",
        "               'n_estimators': [100, 200, 300, 400, 500]}\n",
        "              ]\n",
        "\n",
        "grid_search = GridSearchCV(\n",
        "    estimator=ensemble.RandomForestClassifier(\n",
        "        criterion='entropy', #критерий эффективности\n",
        "        random_state=13\n",
        "    ), \n",
        "    param_grid=param_grid, \n",
        "    cv=5, \n",
        "    n_jobs = -1\n",
        ")\n",
        "\n",
        "%time grid_search.fit(X_train, y_train) \n",
        "print(\"accuracy на тестовом наборе: {:.2f}\".format(grid_search.score(X_test, y_test)))\n",
        "y_test_pred = grid_search.predict(X_test)\n",
        "print('f1_score на тестовом наборе: {:.2f}'.format(metrics.f1_score(y_test, y_test_pred)))\n",
        "print(\"Наилучшие значения гиперпараметров: {}\".format(grid_search.best_params_))"
      ]
    },
    {
      "cell_type": "markdown",
      "source": [
        "Подбор занял 47 минут, но метрику улучшить не удалось"
      ],
      "metadata": {
        "id": "BaFeiPn3HnZ4"
      }
    },
    {
      "cell_type": "markdown",
      "metadata": {
        "id": "ZO1uG6Y346dv"
      },
      "source": [
        "# RandomSearch на модели RandomForest"
      ]
    },
    {
      "cell_type": "code",
      "execution_count": null,
      "metadata": {
        "id": "ziy7hUWO465K",
        "colab": {
          "base_uri": "https://localhost:8080/"
        },
        "outputId": "4d9816ed-4b5a-4264-dfa5-da2c9f73830c"
      },
      "outputs": [
        {
          "output_type": "stream",
          "name": "stdout",
          "text": [
            "CPU times: user 6.86 s, sys: 475 ms, total: 7.33 s\n",
            "Wall time: 7min 5s\n",
            "accuracy на тестовом наборе: 0.82\n",
            "f1_score на тестовом наборе: 0.84\n",
            "Наилучшие значения гиперпараметров: {'n_estimators': 173, 'min_samples_leaf': 3, 'max_depth': 14}\n"
          ]
        }
      ],
      "source": [
        "param_distributions = {'min_samples_leaf': list(np.linspace(1, 100, 50, dtype=int)),\n",
        "              'max_depth': list(np.linspace(1, 30, 50, dtype=int)),\n",
        "              'n_estimators': list(np.linspace(100, 500, 50, dtype=int))\n",
        "              }\n",
        "            \n",
        "random_search_tree = RandomizedSearchCV(\n",
        "    estimator=ensemble.RandomForestClassifier(criterion='entropy', random_state=13), \n",
        "    param_distributions=param_distributions, \n",
        "    cv=5,\n",
        "    n_iter = 50, \n",
        "    n_jobs = -1\n",
        ")  \n",
        "%time random_search_tree.fit(X_train, y_train) \n",
        "print(\"accuracy на тестовом наборе: {:.2f}\".format(random_search_tree.score(X_test, y_test)))\n",
        "y_test_pred = random_search_tree.predict(X_test)\n",
        "print('f1_score на тестовом наборе: {:.2f}'.format(metrics.f1_score(y_test, y_test_pred)))\n",
        "print(\"Наилучшие значения гиперпараметров: {}\".format(random_search_tree.best_params_))"
      ]
    },
    {
      "cell_type": "markdown",
      "source": [
        "За 7 минут удалось получить тот же результат что и при GS, но с другими параметрами"
      ],
      "metadata": {
        "id": "YqRAT9RAaETx"
      }
    },
    {
      "cell_type": "markdown",
      "source": [
        "# Hyperopt RandomForest"
      ],
      "metadata": {
        "id": "l4bBvkltMePW"
      }
    },
    {
      "cell_type": "code",
      "source": [
        "space = {'n_estimators': hp.quniform('n_estimators', 100, 500, 1),\n",
        "    'max_depth': hp.quniform('max_depth', 1, 30, 1),\n",
        "    'min_samples_leaf': hp.quniform('min_samples_leaf', 1, 10, 1)    }\n",
        "\n",
        "random_state = 13\n",
        "def hyperopt_rf(params, cv=5, X=X_train, y=y_train, random_state=random_state):\n",
        "    # функция получает комбинацию гиперпараметров в \"params\"\n",
        "    params = {'n_estimators': int(params['n_estimators']), 'max_depth': int(params['max_depth']), 'min_samples_leaf': int(params['min_samples_leaf'])}\n",
        "# используем эту комбинацию для построения модели\n",
        "    model = ensemble.RandomForestClassifier(**params, random_state=random_state)\n",
        "\n",
        "    # обучаем модель\n",
        "    model.fit(X, y)\n",
        "    score = cross_val_score(model, X, y, cv=cv, scoring=\"f1\", n_jobs=-1).mean()\n",
        "\n",
        "    # метрику необходимо минимизировать, поэтому ставим знак минус\n",
        "    return -score\n",
        "\n",
        "%time\n",
        "\n",
        "trials = Trials() # используется для логирования результатов\n",
        "\n",
        "best=fmin(hyperopt_rf, # наша функция \n",
        "          space=space, # пространство гиперпараметров\n",
        "          algo=tpe.suggest, # алгоритм оптимизации, установлен по умолчанию, задавать необязательно\n",
        "          max_evals=20, # максимальное количество итераций\n",
        "          trials=trials, # логирование результатов\n",
        "          rstate=np.random.RandomState(random_state)# фиксируем для повторяемости результата\n",
        "         )\n",
        "print(\"Наилучшие значения гиперпараметров {}\".format(best))"
      ],
      "metadata": {
        "colab": {
          "base_uri": "https://localhost:8080/"
        },
        "id": "pzVhM18yMlBu",
        "outputId": "3e73e7e6-2b76-4870-e23e-b6d56461452f"
      },
      "execution_count": null,
      "outputs": [
        {
          "output_type": "stream",
          "name": "stdout",
          "text": [
            "CPU times: user 5 µs, sys: 0 ns, total: 5 µs\n",
            "Wall time: 16 µs\n",
            "100%|██████████| 20/20 [05:24<00:00, 16.24s/it, best loss: -0.8108575555084491]\n",
            "Наилучшие значения гиперпараметров {'max_depth': 23.0, 'min_samples_leaf': 4.0, 'n_estimators': 107.0}\n"
          ]
        }
      ]
    },
    {
      "cell_type": "markdown",
      "source": [
        "Попробуем продолжить подбор"
      ],
      "metadata": {
        "id": "rJKsaHRTny25"
      }
    },
    {
      "cell_type": "code",
      "source": [
        "best=fmin(hyperopt_rf, space=space, algo=tpe.suggest, max_evals=50, trials=trials, rstate=np.random.RandomState(random_state))\n",
        "print(\"Наилучшие значения гп{}\".format(best))"
      ],
      "metadata": {
        "id": "c3RPTvCWTOpR",
        "colab": {
          "base_uri": "https://localhost:8080/"
        },
        "outputId": "e67e56f9-8131-4a89-b8c5-f6764f982492"
      },
      "execution_count": null,
      "outputs": [
        {
          "output_type": "stream",
          "name": "stdout",
          "text": [
            "100%|██████████| 30/30 [07:07<00:00, 14.24s/it, best loss: -0.8147971554775992]\n",
            "Наилучшие значения гп{'max_depth': 27.0, 'min_samples_leaf': 4.0, 'n_estimators': 103.0}\n"
          ]
        }
      ]
    },
    {
      "cell_type": "code",
      "execution_count": null,
      "metadata": {
        "id": "SoVPvXtSFO49",
        "colab": {
          "base_uri": "https://localhost:8080/"
        },
        "outputId": "006a4b45-5fd0-44d2-8b6f-08f38befe5e3"
      },
      "outputs": [
        {
          "output_type": "stream",
          "name": "stdout",
          "text": [
            "f1_score на обучающем наборе: 0.96\n",
            "accuracy на тестовом наборе: 0.82\n",
            "f1_score на тестовом наборе: 0.84\n"
          ]
        }
      ],
      "source": [
        "# рассчитаем точность для тестовой выборки\n",
        "model = ensemble.RandomForestClassifier(\n",
        "    random_state=random_state, \n",
        "    n_estimators=int(best['n_estimators']),\n",
        "    max_depth=int(best['max_depth']),\n",
        "    min_samples_leaf=int(best['min_samples_leaf'])\n",
        ")\n",
        "model.fit(X_train, y_train)\n",
        "y_train_pred = model.predict(X_train)\n",
        "print('f1_score на обучающем наборе: {:.2f}'.format(metrics.f1_score(y_train, y_train_pred)))\n",
        "print(\"accuracy на тестовом наборе: {:.2f}\".format(model.score(X_test, y_test)))\n",
        "y_test_pred = model.predict(X_test)\n",
        "print('f1_score на тестовом наборе: {:.2f}'.format(metrics.f1_score(y_test, y_test_pred)))"
      ]
    },
    {
      "cell_type": "markdown",
      "source": [
        "Подборка гиперпараметров Hyperopt за 50 итераций не смогла улучшить результат двух предыдущих подборов\n",
        "\n",
        "Визуализация"
      ],
      "metadata": {
        "id": "2-gpzFfmntus"
      }
    },
    {
      "cell_type": "code",
      "source": [
        "# отрисуем, как менялась точность при различных гиперпараметрах\n",
        "tpe_results=np.array([[x['result']['loss'],\n",
        "                      x['misc']['vals']['max_depth'][0],\n",
        "                      x['misc']['vals']['n_estimators'][0]] for x in trials.trials])\n",
        "\n",
        "tpe_results_df=pd.DataFrame(tpe_results,\n",
        "                           columns=['score', 'max_depth', 'n_estimators'])\n",
        "# тепловая карта в данном случае не очень наглядна, возьмем линейный график\n",
        "tpe_results_df.plot(subplots=True,figsize=(10, 10));"
      ],
      "metadata": {
        "colab": {
          "base_uri": "https://localhost:8080/",
          "height": 592
        },
        "id": "jS1kzoLJi815",
        "outputId": "ebe42a4a-520c-44cf-db8c-f461832f5689"
      },
      "execution_count": null,
      "outputs": [
        {
          "output_type": "display_data",
          "data": {
            "text/plain": [
              "<Figure size 720x720 with 3 Axes>"
            ],
            "image/png": "[encoded data removed]"
          },
          "metadata": {}
        }
      ]
    },
    {
      "cell_type": "markdown",
      "source": [],
      "metadata": {
        "id": "hQQaM6XgnsiY"
      }
    },
    {
      "cell_type": "markdown",
      "source": [
        "# Подберем параметры при помощи Optuna, кроссвалидацию установим из 5 фолдов"
      ],
      "metadata": {
        "id": "DfmW3ob_TDy6"
      }
    },
    {
      "cell_type": "code",
      "source": [
        "def optuna_rf(trial):\n",
        "  # задаем пространства поиска гиперпараметров\n",
        "  n_estimators = trial.suggest_int('n_estimators', 100, 600, 50)\n",
        "  max_depth = trial.suggest_int('max_depth', 1, 40, 1)\n",
        "  min_samples_leaf = trial.suggest_int('min_samples_leaf', 1, 15, 1)\n",
        "\n",
        "  # создаем модель\n",
        "  model = ensemble.RandomForestClassifier(n_estimators=n_estimators,\n",
        "                                          max_depth=max_depth,\n",
        "                                          min_samples_leaf=min_samples_leaf,\n",
        "                                          random_state=random_state)\n",
        "  # обучаем модель\n",
        "  model.fit(X_train, y_train)\n",
        "  score = cross_val_score(model, X, y, cv=5, scoring=\"f1\", n_jobs=-1).mean()\n",
        "\n",
        "  return score\n",
        "  \n",
        "random_state = 42"
      ],
      "metadata": {
        "id": "xkt46C5Zoq9Q"
      },
      "execution_count": 52,
      "outputs": []
    },
    {
      "cell_type": "code",
      "source": [
        "import optuna\n",
        "%time\n",
        "# cоздаем объект исследования\n",
        "# можем напрямую указать, что нам необходимо максимизировать метрику direction=\"maximize\"\n",
        "study = optuna.create_study(study_name=\"RandomForestClassifier\", direction=\"maximize\")\n",
        "# ищем лучшую комбинацию гиперпараметров n_trials раз\n",
        "study.optimize(optuna_rf, n_trials=40)"
      ],
      "metadata": {
        "colab": {
          "base_uri": "https://localhost:8080/"
        },
        "id": "AbUsEThuoxO5",
        "outputId": "8d4a4b12-585f-4df3-b5c1-83bb54df4e97"
      },
      "execution_count": 53,
      "outputs": [
        {
          "output_type": "stream",
          "name": "stderr",
          "text": [
            "\u001b[32m[I 2022-10-28 09:19:48,590]\u001b[0m A new study created in memory with name: RandomForestClassifier\u001b[0m\n"
          ]
        },
        {
          "output_type": "stream",
          "name": "stdout",
          "text": [
            "CPU times: user 8 µs, sys: 1 µs, total: 9 µs\n",
            "Wall time: 13.6 µs\n"
          ]
        },
        {
          "output_type": "stream",
          "name": "stderr",
          "text": [
            "\u001b[32m[I 2022-10-28 09:20:08,975]\u001b[0m Trial 0 finished with value: 0.8046648651393136 and parameters: {'n_estimators': 300, 'max_depth': 39, 'min_samples_leaf': 7}. Best is trial 0 with value: 0.8046648651393136.\u001b[0m\n",
            "\u001b[32m[I 2022-10-28 09:20:20,521]\u001b[0m Trial 1 finished with value: 0.7957629868110592 and parameters: {'n_estimators': 200, 'max_depth': 21, 'min_samples_leaf': 11}. Best is trial 0 with value: 0.8046648651393136.\u001b[0m\n",
            "\u001b[32m[I 2022-10-28 09:20:27,801]\u001b[0m Trial 2 finished with value: 0.731593853978213 and parameters: {'n_estimators': 400, 'max_depth': 2, 'min_samples_leaf': 6}. Best is trial 0 with value: 0.8046648651393136.\u001b[0m\n",
            "\u001b[32m[I 2022-10-28 09:20:49,063]\u001b[0m Trial 3 finished with value: 0.8149607563618684 and parameters: {'n_estimators': 250, 'max_depth': 38, 'min_samples_leaf': 1}. Best is trial 3 with value: 0.8149607563618684.\u001b[0m\n",
            "\u001b[32m[I 2022-10-28 09:21:18,115]\u001b[0m Trial 4 finished with value: 0.8018846330776309 and parameters: {'n_estimators': 500, 'max_depth': 9, 'min_samples_leaf': 2}. Best is trial 3 with value: 0.8149607563618684.\u001b[0m\n",
            "\u001b[32m[I 2022-10-28 09:21:30,381]\u001b[0m Trial 5 finished with value: 0.7729708106132909 and parameters: {'n_estimators': 300, 'max_depth': 7, 'min_samples_leaf': 15}. Best is trial 3 with value: 0.8149607563618684.\u001b[0m\n",
            "\u001b[32m[I 2022-10-28 09:21:44,704]\u001b[0m Trial 6 finished with value: 0.8055112185508261 and parameters: {'n_estimators': 200, 'max_depth': 40, 'min_samples_leaf': 7}. Best is trial 3 with value: 0.8149607563618684.\u001b[0m\n",
            "\u001b[32m[I 2022-10-28 09:22:16,327]\u001b[0m Trial 7 finished with value: 0.7937721727575241 and parameters: {'n_estimators': 600, 'max_depth': 40, 'min_samples_leaf': 13}. Best is trial 3 with value: 0.8149607563618684.\u001b[0m\n",
            "\u001b[32m[I 2022-10-28 09:22:29,877]\u001b[0m Trial 8 finished with value: 0.8070293480509703 and parameters: {'n_estimators': 200, 'max_depth': 24, 'min_samples_leaf': 5}. Best is trial 3 with value: 0.8149607563618684.\u001b[0m\n",
            "\u001b[32m[I 2022-10-28 09:22:42,943]\u001b[0m Trial 9 finished with value: 0.8039183232764782 and parameters: {'n_estimators': 200, 'max_depth': 28, 'min_samples_leaf': 6}. Best is trial 3 with value: 0.8149607563618684.\u001b[0m\n",
            "\u001b[32m[I 2022-10-28 09:22:51,795]\u001b[0m Trial 10 finished with value: 0.8128117238857696 and parameters: {'n_estimators': 100, 'max_depth': 31, 'min_samples_leaf': 1}. Best is trial 3 with value: 0.8149607563618684.\u001b[0m\n",
            "\u001b[32m[I 2022-10-28 09:23:00,543]\u001b[0m Trial 11 finished with value: 0.8139243374983509 and parameters: {'n_estimators': 100, 'max_depth': 32, 'min_samples_leaf': 1}. Best is trial 3 with value: 0.8149607563618684.\u001b[0m\n",
            "\u001b[32m[I 2022-10-28 09:23:08,285]\u001b[0m Trial 12 finished with value: 0.8119177949671617 and parameters: {'n_estimators': 100, 'max_depth': 32, 'min_samples_leaf': 3}. Best is trial 3 with value: 0.8149607563618684.\u001b[0m\n",
            "\u001b[32m[I 2022-10-28 09:23:37,831]\u001b[0m Trial 13 finished with value: 0.8145030965651205 and parameters: {'n_estimators': 400, 'max_depth': 34, 'min_samples_leaf': 3}. Best is trial 3 with value: 0.8149607563618684.\u001b[0m\n",
            "\u001b[32m[I 2022-10-28 09:24:05,345]\u001b[0m Trial 14 finished with value: 0.8107059722332766 and parameters: {'n_estimators': 400, 'max_depth': 17, 'min_samples_leaf': 4}. Best is trial 3 with value: 0.8149607563618684.\u001b[0m\n",
            "\u001b[32m[I 2022-10-28 09:24:34,517]\u001b[0m Trial 15 finished with value: 0.7999039163201 and parameters: {'n_estimators': 500, 'max_depth': 34, 'min_samples_leaf': 9}. Best is trial 3 with value: 0.8149607563618684.\u001b[0m\n",
            "\u001b[32m[I 2022-10-28 09:25:00,096]\u001b[0m Trial 16 finished with value: 0.8140709743108197 and parameters: {'n_estimators': 350, 'max_depth': 25, 'min_samples_leaf': 3}. Best is trial 3 with value: 0.8149607563618684.\u001b[0m\n",
            "\u001b[32m[I 2022-10-28 09:25:31,702]\u001b[0m Trial 17 finished with value: 0.8119128079082106 and parameters: {'n_estimators': 450, 'max_depth': 16, 'min_samples_leaf': 4}. Best is trial 3 with value: 0.8149607563618684.\u001b[0m\n",
            "\u001b[32m[I 2022-10-28 09:25:49,416]\u001b[0m Trial 18 finished with value: 0.7997819476289291 and parameters: {'n_estimators': 300, 'max_depth': 35, 'min_samples_leaf': 9}. Best is trial 3 with value: 0.8149607563618684.\u001b[0m\n",
            "\u001b[32m[I 2022-10-28 09:26:35,255]\u001b[0m Trial 19 finished with value: 0.8152436044020774 and parameters: {'n_estimators': 550, 'max_depth': 36, 'min_samples_leaf': 1}. Best is trial 19 with value: 0.8152436044020774.\u001b[0m\n",
            "\u001b[32m[I 2022-10-28 09:27:25,103]\u001b[0m Trial 20 finished with value: 0.8143488205423095 and parameters: {'n_estimators': 600, 'max_depth': 29, 'min_samples_leaf': 1}. Best is trial 19 with value: 0.8152436044020774.\u001b[0m\n",
            "\u001b[32m[I 2022-10-28 09:28:05,523]\u001b[0m Trial 21 finished with value: 0.8120884459134052 and parameters: {'n_estimators': 550, 'max_depth': 36, 'min_samples_leaf': 3}. Best is trial 19 with value: 0.8152436044020774.\u001b[0m\n",
            "\u001b[32m[I 2022-10-28 09:28:40,482]\u001b[0m Trial 22 finished with value: 0.8160494512008114 and parameters: {'n_estimators': 450, 'max_depth': 37, 'min_samples_leaf': 2}. Best is trial 22 with value: 0.8160494512008114.\u001b[0m\n",
            "\u001b[32m[I 2022-10-28 09:29:23,969]\u001b[0m Trial 23 finished with value: 0.8150346059118055 and parameters: {'n_estimators': 500, 'max_depth': 37, 'min_samples_leaf': 1}. Best is trial 22 with value: 0.8160494512008114.\u001b[0m\n",
            "\u001b[32m[I 2022-10-28 09:30:03,099]\u001b[0m Trial 24 finished with value: 0.8158446715926134 and parameters: {'n_estimators': 500, 'max_depth': 27, 'min_samples_leaf': 2}. Best is trial 22 with value: 0.8160494512008114.\u001b[0m\n",
            "\u001b[32m[I 2022-10-28 09:30:39,667]\u001b[0m Trial 25 finished with value: 0.8083837553987827 and parameters: {'n_estimators': 550, 'max_depth': 27, 'min_samples_leaf': 5}. Best is trial 22 with value: 0.8160494512008114.\u001b[0m\n",
            "\u001b[32m[I 2022-10-28 09:31:14,653]\u001b[0m Trial 26 finished with value: 0.8161182123773194 and parameters: {'n_estimators': 450, 'max_depth': 22, 'min_samples_leaf': 2}. Best is trial 26 with value: 0.8161182123773194.\u001b[0m\n",
            "\u001b[32m[I 2022-10-28 09:31:45,865]\u001b[0m Trial 27 finished with value: 0.8117085092190163 and parameters: {'n_estimators': 450, 'max_depth': 21, 'min_samples_leaf': 4}. Best is trial 26 with value: 0.8161182123773194.\u001b[0m\n",
            "\u001b[32m[I 2022-10-28 09:32:18,883]\u001b[0m Trial 28 finished with value: 0.8143269229673529 and parameters: {'n_estimators': 450, 'max_depth': 15, 'min_samples_leaf': 2}. Best is trial 26 with value: 0.8161182123773194.\u001b[0m\n",
            "\u001b[32m[I 2022-10-28 09:32:39,023]\u001b[0m Trial 29 finished with value: 0.7990736037934015 and parameters: {'n_estimators': 350, 'max_depth': 12, 'min_samples_leaf': 8}. Best is trial 26 with value: 0.8161182123773194.\u001b[0m\n",
            "\u001b[32m[I 2022-10-28 09:33:18,692]\u001b[0m Trial 30 finished with value: 0.8090281955538721 and parameters: {'n_estimators': 450, 'max_depth': 24, 'min_samples_leaf': 5}. Best is trial 26 with value: 0.8161182123773194.\u001b[0m\n",
            "\u001b[32m[I 2022-10-28 09:34:00,978]\u001b[0m Trial 31 finished with value: 0.8133850427327302 and parameters: {'n_estimators': 550, 'max_depth': 19, 'min_samples_leaf': 2}. Best is trial 26 with value: 0.8161182123773194.\u001b[0m\n",
            "\u001b[32m[I 2022-10-28 09:34:39,527]\u001b[0m Trial 32 finished with value: 0.816139445361723 and parameters: {'n_estimators': 500, 'max_depth': 30, 'min_samples_leaf': 2}. Best is trial 32 with value: 0.816139445361723.\u001b[0m\n",
            "\u001b[32m[I 2022-10-28 09:35:19,338]\u001b[0m Trial 33 finished with value: 0.8153444595755885 and parameters: {'n_estimators': 500, 'max_depth': 22, 'min_samples_leaf': 2}. Best is trial 32 with value: 0.816139445361723.\u001b[0m\n",
            "\u001b[32m[I 2022-10-28 09:35:41,819]\u001b[0m Trial 34 finished with value: 0.7952369741705416 and parameters: {'n_estimators': 400, 'max_depth': 30, 'min_samples_leaf': 11}. Best is trial 32 with value: 0.816139445361723.\u001b[0m\n",
            "\u001b[32m[I 2022-10-28 09:36:16,587]\u001b[0m Trial 35 finished with value: 0.8125486605684008 and parameters: {'n_estimators': 500, 'max_depth': 26, 'min_samples_leaf': 4}. Best is trial 32 with value: 0.816139445361723.\u001b[0m\n",
            "\u001b[32m[I 2022-10-28 09:36:52,209]\u001b[0m Trial 36 finished with value: 0.8138306300561929 and parameters: {'n_estimators': 450, 'max_depth': 19, 'min_samples_leaf': 2}. Best is trial 32 with value: 0.816139445361723.\u001b[0m\n",
            "\u001b[32m[I 2022-10-28 09:37:17,948]\u001b[0m Trial 37 finished with value: 0.8040407387391444 and parameters: {'n_estimators': 400, 'max_depth': 22, 'min_samples_leaf': 6}. Best is trial 32 with value: 0.816139445361723.\u001b[0m\n",
            "\u001b[32m[I 2022-10-28 09:37:28,749]\u001b[0m Trial 38 finished with value: 0.7312361907412459 and parameters: {'n_estimators': 600, 'max_depth': 2, 'min_samples_leaf': 3}. Best is trial 32 with value: 0.816139445361723.\u001b[0m\n",
            "\u001b[32m[I 2022-10-28 09:37:56,180]\u001b[0m Trial 39 finished with value: 0.8178762115126039 and parameters: {'n_estimators': 350, 'max_depth': 38, 'min_samples_leaf': 2}. Best is trial 39 with value: 0.8178762115126039.\u001b[0m\n"
          ]
        }
      ]
    },
    {
      "cell_type": "code",
      "source": [
        "# выводим результаты на обучающей выборке\n",
        "print(\"Наилучшие значения гиперпараметров {}\".format(study.best_params))\n",
        "print(\"f1_score на обучающем наборе: {:.2f}\".format(study.best_value))"
      ],
      "metadata": {
        "colab": {
          "base_uri": "https://localhost:8080/"
        },
        "id": "1ARWxvCIq6yr",
        "outputId": "1d483b58-1537-45de-e15b-cf62c33667b5"
      },
      "execution_count": 54,
      "outputs": [
        {
          "output_type": "stream",
          "name": "stdout",
          "text": [
            "Наилучшие значения гиперпараметров {'n_estimators': 350, 'max_depth': 38, 'min_samples_leaf': 2}\n",
            "f1_score на обучающем наборе: 0.82\n"
          ]
        }
      ]
    },
    {
      "cell_type": "markdown",
      "source": [
        "Лучшие параметры подобраны только на 40 итерации\n"
      ],
      "metadata": {
        "id": "_uSaXaor0eDW"
      }
    },
    {
      "cell_type": "code",
      "source": [
        "# рассчитаем точность для тестовой выборки\n",
        "model = ensemble.RandomForestClassifier(**study.best_params,random_state=random_state, )\n",
        "model.fit(X_train, y_train)\n",
        "y_train_pred = model.predict(X_train)\n",
        "print(\"accuracy на обучающем наборе: {:.2f}\".format(model.score(X_train, y_train)))\n",
        "print(\"accuracy на тестовом наборе: {:.2f}\".format(model.score(X_test, y_test)))\n",
        "y_test_pred = model.predict(X_test)\n",
        "print('f1_score на тестовом наборе: {:.2f}'.format(metrics.f1_score(y_test, y_test_pred)))"
      ],
      "metadata": {
        "colab": {
          "base_uri": "https://localhost:8080/"
        },
        "id": "Olfhna-Kq-ZU",
        "outputId": "e9d75556-b4c1-4d5e-d36b-f71ced929d8e"
      },
      "execution_count": 55,
      "outputs": [
        {
          "output_type": "stream",
          "name": "stdout",
          "text": [
            "accuracy на обучающем наборе: 0.99\n",
            "accuracy на тестовом наборе: 0.83\n",
            "f1_score на тестовом наборе: 0.84\n"
          ]
        }
      ]
    },
    {
      "cell_type": "markdown",
      "source": [
        "Запустим еще 10 итераций"
      ],
      "metadata": {
        "id": "XuVYG0c00oHu"
      }
    },
    {
      "cell_type": "code",
      "source": [
        "%time\n",
        "# можем прододжить подбор, указав n_trials(любое число, которое добавится к предыдущим итерациям) \n",
        "study.optimize(optuna_rf, n_trials=10)"
      ],
      "metadata": {
        "colab": {
          "base_uri": "https://localhost:8080/"
        },
        "id": "MbiRH81_rJdy",
        "outputId": "0edec445-2f4d-438e-a54f-a955ceb3c582"
      },
      "execution_count": 56,
      "outputs": [
        {
          "output_type": "stream",
          "name": "stdout",
          "text": [
            "CPU times: user 5 µs, sys: 0 ns, total: 5 µs\n",
            "Wall time: 10.5 µs\n"
          ]
        },
        {
          "output_type": "stream",
          "name": "stderr",
          "text": [
            "\u001b[32m[I 2022-10-28 09:40:06,430]\u001b[0m Trial 40 finished with value: 0.8033424676139298 and parameters: {'n_estimators': 350, 'max_depth': 38, 'min_samples_leaf': 7}. Best is trial 39 with value: 0.8178762115126039.\u001b[0m\n",
            "\u001b[32m[I 2022-10-28 09:40:26,140]\u001b[0m Trial 41 finished with value: 0.8177761172362151 and parameters: {'n_estimators': 250, 'max_depth': 33, 'min_samples_leaf': 2}. Best is trial 39 with value: 0.8178762115126039.\u001b[0m\n",
            "\u001b[32m[I 2022-10-28 09:40:47,477]\u001b[0m Trial 42 finished with value: 0.8179758617765804 and parameters: {'n_estimators': 250, 'max_depth': 39, 'min_samples_leaf': 2}. Best is trial 42 with value: 0.8179758617765804.\u001b[0m\n",
            "\u001b[32m[I 2022-10-28 09:41:06,110]\u001b[0m Trial 43 finished with value: 0.8140309741133296 and parameters: {'n_estimators': 250, 'max_depth': 39, 'min_samples_leaf': 3}. Best is trial 42 with value: 0.8179758617765804.\u001b[0m\n",
            "\u001b[32m[I 2022-10-28 09:41:27,518]\u001b[0m Trial 44 finished with value: 0.815176189553747 and parameters: {'n_estimators': 250, 'max_depth': 33, 'min_samples_leaf': 1}. Best is trial 42 with value: 0.8179758617765804.\u001b[0m\n",
            "\u001b[32m[I 2022-10-28 09:41:35,794]\u001b[0m Trial 45 finished with value: 0.7901252909371672 and parameters: {'n_estimators': 150, 'max_depth': 40, 'min_samples_leaf': 14}. Best is trial 42 with value: 0.8179758617765804.\u001b[0m\n",
            "\u001b[32m[I 2022-10-28 09:41:53,490]\u001b[0m Trial 46 finished with value: 0.8094692908093286 and parameters: {'n_estimators': 250, 'max_depth': 30, 'min_samples_leaf': 4}. Best is trial 42 with value: 0.8179758617765804.\u001b[0m\n",
            "\u001b[32m[I 2022-10-28 09:42:13,645]\u001b[0m Trial 47 finished with value: 0.8102873123771992 and parameters: {'n_estimators': 300, 'max_depth': 32, 'min_samples_leaf': 5}. Best is trial 42 with value: 0.8179758617765804.\u001b[0m\n",
            "\u001b[32m[I 2022-10-28 09:42:30,262]\u001b[0m Trial 48 finished with value: 0.8125984512360038 and parameters: {'n_estimators': 200, 'max_depth': 34, 'min_samples_leaf': 3}. Best is trial 42 with value: 0.8179758617765804.\u001b[0m\n",
            "\u001b[32m[I 2022-10-28 09:42:43,195]\u001b[0m Trial 49 finished with value: 0.7974815559133915 and parameters: {'n_estimators': 150, 'max_depth': 38, 'min_samples_leaf': 11}. Best is trial 42 with value: 0.8179758617765804.\u001b[0m\n"
          ]
        }
      ]
    },
    {
      "cell_type": "code",
      "source": [
        "# рассчитаем точность для тестовой выборки\n",
        "model = ensemble.RandomForestClassifier(**study.best_params,random_state=random_state, )\n",
        "model.fit(X_train, y_train)\n",
        "y_train_pred = model.predict(X_train)\n",
        "print(\"accuracy на обучающем наборе: {:.2f}\".format(model.score(X_train, y_train)))\n",
        "print(\"accuracy на тестовом наборе: {:.2f}\".format(model.score(X_test, y_test)))\n",
        "y_test_pred = model.predict(X_test)\n",
        "print('f1_score на тестовом наборе: {:.2f}'.format(metrics.f1_score(y_test, y_test_pred)))"
      ],
      "metadata": {
        "colab": {
          "base_uri": "https://localhost:8080/"
        },
        "id": "DKjLyvtA-Ljy",
        "outputId": "dd76cbaa-541d-4619-9bba-df7aa6e295b4"
      },
      "execution_count": 57,
      "outputs": [
        {
          "output_type": "stream",
          "name": "stdout",
          "text": [
            "accuracy на обучающем наборе: 0.99\n",
            "accuracy на тестовом наборе: 0.83\n",
            "f1_score на тестовом наборе: 0.84\n"
          ]
        }
      ]
    },
    {
      "cell_type": "markdown",
      "source": [
        "Метрики не улучшились, однако accuracy на обучающем наборе близко к 1 что может говорить о переобученности модели"
      ],
      "metadata": {
        "id": "oVVtaB-_-VwP"
      }
    },
    {
      "cell_type": "code",
      "source": [
        "optuna.visualization.is_available()"
      ],
      "metadata": {
        "colab": {
          "base_uri": "https://localhost:8080/"
        },
        "id": "T-TaJjbz-0nO",
        "outputId": "53202611-b413-4ed0-b9b9-c1374df64786"
      },
      "execution_count": 58,
      "outputs": [
        {
          "output_type": "execute_result",
          "data": {
            "text/plain": [
              "True"
            ]
          },
          "metadata": {},
          "execution_count": 58
        }
      ]
    },
    {
      "cell_type": "code",
      "source": [
        "optuna.visualization.plot_optimization_history(\n",
        "    study, target_name=\"f1_score\"\n",
        ")"
      ],
      "metadata": {
        "colab": {
          "base_uri": "https://localhost:8080/",
          "height": 542
        },
        "id": "wmbXnwRx-9mL",
        "outputId": "69af3d16-7b3a-4672-93bb-bb1d79d93786"
      },
      "execution_count": 59,
      "outputs": [
        {
          "output_type": "display_data",
          "data": {
            "text/html": [
              "<html>\n",
              "<head><meta charset=\"utf-8\" /></head>\n",
              "<body>\n",
              "    <div>            <script src=\"https://cdnjs.cloudflare.com/ajax/libs/mathjax/2.7.5/MathJax.js?config=TeX-AMS-MML_SVG\"></script><script type=\"text/javascript\">if (window.MathJax) {MathJax.Hub.Config({SVG: {font: \"STIX-Web\"}});}</script>                <script type=\"text/javascript\">window.PlotlyConfig = {MathJaxConfig: 'local'};</script>\n",
              "        <script src=\"https://cdn.plot.ly/plotly-2.8.3.min.js\"></script>                <div id=\"f6a0bcdd-24e5-4040-836d-fbd70c8544c1\" class=\"plotly-graph-div\" style=\"height:525px; width:100%;\"></div>            <script type=\"text/javascript\">                                    window.PLOTLYENV=window.PLOTLYENV || {};                                    if (document.getElementById(\"f6a0bcdd-24e5-4040-836d-fbd70c8544c1\")) {                    Plotly.newPlot(                        \"f6a0bcdd-24e5-4040-836d-fbd70c8544c1\",                        [{\"mode\":\"markers\",\"name\":\"f1_score\",\"x\":[0,1,2,3,4,5,6,7,8,9,10,11,12,13,14,15,16,17,18,19,20,21,22,23,24,25,26,27,28,29,30,31,32,33,34,35,36,37,38,39,40,41,42,43,44,45,46,47,48,49],\"y\":[0.8046648651393136,0.7957629868110592,0.731593853978213,0.8149607563618684,0.8018846330776309,0.7729708106132909,0.8055112185508261,0.7937721727575241,0.8070293480509703,0.8039183232764782,0.8128117238857696,0.8139243374983509,0.8119177949671617,0.8145030965651205,0.8107059722332766,0.7999039163201,0.8140709743108197,0.8119128079082106,0.7997819476289291,0.8152436044020774,0.8143488205423095,0.8120884459134052,0.8160494512008114,0.8150346059118055,0.8158446715926134,0.8083837553987827,0.8161182123773194,0.8117085092190163,0.8143269229673529,0.7990736037934015,0.8090281955538721,0.8133850427327302,0.816139445361723,0.8153444595755885,0.7952369741705416,0.8125486605684008,0.8138306300561929,0.8040407387391444,0.7312361907412459,0.8178762115126039,0.8033424676139298,0.8177761172362151,0.8179758617765804,0.8140309741133296,0.815176189553747,0.7901252909371672,0.8094692908093286,0.8102873123771992,0.8125984512360038,0.7974815559133915],\"type\":\"scatter\"},{\"name\":\"Best Value\",\"x\":[0,1,2,3,4,5,6,7,8,9,10,11,12,13,14,15,16,17,18,19,20,21,22,23,24,25,26,27,28,29,30,31,32,33,34,35,36,37,38,39,40,41,42,43,44,45,46,47,48,49],\"y\":[0.8046648651393136,0.8046648651393136,0.8046648651393136,0.8149607563618684,0.8149607563618684,0.8149607563618684,0.8149607563618684,0.8149607563618684,0.8149607563618684,0.8149607563618684,0.8149607563618684,0.8149607563618684,0.8149607563618684,0.8149607563618684,0.8149607563618684,0.8149607563618684,0.8149607563618684,0.8149607563618684,0.8149607563618684,0.8152436044020774,0.8152436044020774,0.8152436044020774,0.8160494512008114,0.8160494512008114,0.8160494512008114,0.8160494512008114,0.8161182123773194,0.8161182123773194,0.8161182123773194,0.8161182123773194,0.8161182123773194,0.8161182123773194,0.816139445361723,0.816139445361723,0.816139445361723,0.816139445361723,0.816139445361723,0.816139445361723,0.816139445361723,0.8178762115126039,0.8178762115126039,0.8178762115126039,0.8179758617765804,0.8179758617765804,0.8179758617765804,0.8179758617765804,0.8179758617765804,0.8179758617765804,0.8179758617765804,0.8179758617765804],\"type\":\"scatter\"}],                        {\"title\":{\"text\":\"Optimization History Plot\"},\"xaxis\":{\"title\":{\"text\":\"Trial\"}},\"yaxis\":{\"title\":{\"text\":\"f1_score\"}},\"template\":{\"data\":{\"bar\":[{\"error_x\":{\"color\":\"#2a3f5f\"},\"error_y\":{\"color\":\"#2a3f5f\"},\"marker\":{\"line\":{\"color\":\"#E5ECF6\",\"width\":0.5},\"pattern\":{\"fillmode\":\"overlay\",\"size\":10,\"solidity\":0.2}},\"type\":\"bar\"}],\"barpolar\":[{\"marker\":{\"line\":{\"color\":\"#E5ECF6\",\"width\":0.5},\"pattern\":{\"fillmode\":\"overlay\",\"size\":10,\"solidity\":0.2}},\"type\":\"barpolar\"}],\"carpet\":[{\"aaxis\":{\"endlinecolor\":\"#2a3f5f\",\"gridcolor\":\"white\",\"linecolor\":\"white\",\"minorgridcolor\":\"white\",\"startlinecolor\":\"#2a3f5f\"},\"baxis\":{\"endlinecolor\":\"#2a3f5f\",\"gridcolor\":\"white\",\"linecolor\":\"white\",\"minorgridcolor\":\"white\",\"startlinecolor\":\"#2a3f5f\"},\"type\":\"carpet\"}],\"choropleth\":[{\"colorbar\":{\"outlinewidth\":0,\"ticks\":\"\"},\"type\":\"choropleth\"}],\"contour\":[{\"colorbar\":{\"outlinewidth\":0,\"ticks\":\"\"},\"colorscale\":[[0.0,\"#0d0887\"],[0.1111111111111111,\"#46039f\"],[0.2222222222222222,\"#7201a8\"],[0.3333333333333333,\"#9c179e\"],[0.4444444444444444,\"#bd3786\"],[0.5555555555555556,\"#d8576b\"],[0.6666666666666666,\"#ed7953\"],[0.7777777777777778,\"#fb9f3a\"],[0.8888888888888888,\"#fdca26\"],[1.0,\"#f0f921\"]],\"type\":\"contour\"}],\"contourcarpet\":[{\"colorbar\":{\"outlinewidth\":0,\"ticks\":\"\"},\"type\":\"contourcarpet\"}],\"heatmap\":[{\"colorbar\":{\"outlinewidth\":0,\"ticks\":\"\"},\"colorscale\":[[0.0,\"#0d0887\"],[0.1111111111111111,\"#46039f\"],[0.2222222222222222,\"#7201a8\"],[0.3333333333333333,\"#9c179e\"],[0.4444444444444444,\"#bd3786\"],[0.5555555555555556,\"#d8576b\"],[0.6666666666666666,\"#ed7953\"],[0.7777777777777778,\"#fb9f3a\"],[0.8888888888888888,\"#fdca26\"],[1.0,\"#f0f921\"]],\"type\":\"heatmap\"}],\"heatmapgl\":[{\"colorbar\":{\"outlinewidth\":0,\"ticks\":\"\"},\"colorscale\":[[0.0,\"#0d0887\"],[0.1111111111111111,\"#46039f\"],[0.2222222222222222,\"#7201a8\"],[0.3333333333333333,\"#9c179e\"],[0.4444444444444444,\"#bd3786\"],[0.5555555555555556,\"#d8576b\"],[0.6666666666666666,\"#ed7953\"],[0.7777777777777778,\"#fb9f3a\"],[0.8888888888888888,\"#fdca26\"],[1.0,\"#f0f921\"]],\"type\":\"heatmapgl\"}],\"histogram\":[{\"marker\":{\"pattern\":{\"fillmode\":\"overlay\",\"size\":10,\"solidity\":0.2}},\"type\":\"histogram\"}],\"histogram2d\":[{\"colorbar\":{\"outlinewidth\":0,\"ticks\":\"\"},\"colorscale\":[[0.0,\"#0d0887\"],[0.1111111111111111,\"#46039f\"],[0.2222222222222222,\"#7201a8\"],[0.3333333333333333,\"#9c179e\"],[0.4444444444444444,\"#bd3786\"],[0.5555555555555556,\"#d8576b\"],[0.6666666666666666,\"#ed7953\"],[0.7777777777777778,\"#fb9f3a\"],[0.8888888888888888,\"#fdca26\"],[1.0,\"#f0f921\"]],\"type\":\"histogram2d\"}],\"histogram2dcontour\":[{\"colorbar\":{\"outlinewidth\":0,\"ticks\":\"\"},\"colorscale\":[[0.0,\"#0d0887\"],[0.1111111111111111,\"#46039f\"],[0.2222222222222222,\"#7201a8\"],[0.3333333333333333,\"#9c179e\"],[0.4444444444444444,\"#bd3786\"],[0.5555555555555556,\"#d8576b\"],[0.6666666666666666,\"#ed7953\"],[0.7777777777777778,\"#fb9f3a\"],[0.8888888888888888,\"#fdca26\"],[1.0,\"#f0f921\"]],\"type\":\"histogram2dcontour\"}],\"mesh3d\":[{\"colorbar\":{\"outlinewidth\":0,\"ticks\":\"\"},\"type\":\"mesh3d\"}],\"parcoords\":[{\"line\":{\"colorbar\":{\"outlinewidth\":0,\"ticks\":\"\"}},\"type\":\"parcoords\"}],\"pie\":[{\"automargin\":true,\"type\":\"pie\"}],\"scatter\":[{\"marker\":{\"colorbar\":{\"outlinewidth\":0,\"ticks\":\"\"}},\"type\":\"scatter\"}],\"scatter3d\":[{\"line\":{\"colorbar\":{\"outlinewidth\":0,\"ticks\":\"\"}},\"marker\":{\"colorbar\":{\"outlinewidth\":0,\"ticks\":\"\"}},\"type\":\"scatter3d\"}],\"scattercarpet\":[{\"marker\":{\"colorbar\":{\"outlinewidth\":0,\"ticks\":\"\"}},\"type\":\"scattercarpet\"}],\"scattergeo\":[{\"marker\":{\"colorbar\":{\"outlinewidth\":0,\"ticks\":\"\"}},\"type\":\"scattergeo\"}],\"scattergl\":[{\"marker\":{\"colorbar\":{\"outlinewidth\":0,\"ticks\":\"\"}},\"type\":\"scattergl\"}],\"scattermapbox\":[{\"marker\":{\"colorbar\":{\"outlinewidth\":0,\"ticks\":\"\"}},\"type\":\"scattermapbox\"}],\"scatterpolar\":[{\"marker\":{\"colorbar\":{\"outlinewidth\":0,\"ticks\":\"\"}},\"type\":\"scatterpolar\"}],\"scatterpolargl\":[{\"marker\":{\"colorbar\":{\"outlinewidth\":0,\"ticks\":\"\"}},\"type\":\"scatterpolargl\"}],\"scatterternary\":[{\"marker\":{\"colorbar\":{\"outlinewidth\":0,\"ticks\":\"\"}},\"type\":\"scatterternary\"}],\"surface\":[{\"colorbar\":{\"outlinewidth\":0,\"ticks\":\"\"},\"colorscale\":[[0.0,\"#0d0887\"],[0.1111111111111111,\"#46039f\"],[0.2222222222222222,\"#7201a8\"],[0.3333333333333333,\"#9c179e\"],[0.4444444444444444,\"#bd3786\"],[0.5555555555555556,\"#d8576b\"],[0.6666666666666666,\"#ed7953\"],[0.7777777777777778,\"#fb9f3a\"],[0.8888888888888888,\"#fdca26\"],[1.0,\"#f0f921\"]],\"type\":\"surface\"}],\"table\":[{\"cells\":{\"fill\":{\"color\":\"#EBF0F8\"},\"line\":{\"color\":\"white\"}},\"header\":{\"fill\":{\"color\":\"#C8D4E3\"},\"line\":{\"color\":\"white\"}},\"type\":\"table\"}]},\"layout\":{\"annotationdefaults\":{\"arrowcolor\":\"#2a3f5f\",\"arrowhead\":0,\"arrowwidth\":1},\"autotypenumbers\":\"strict\",\"coloraxis\":{\"colorbar\":{\"outlinewidth\":0,\"ticks\":\"\"}},\"colorscale\":{\"diverging\":[[0,\"#8e0152\"],[0.1,\"#c51b7d\"],[0.2,\"#de77ae\"],[0.3,\"#f1b6da\"],[0.4,\"#fde0ef\"],[0.5,\"#f7f7f7\"],[0.6,\"#e6f5d0\"],[0.7,\"#b8e186\"],[0.8,\"#7fbc41\"],[0.9,\"#4d9221\"],[1,\"#276419\"]],\"sequential\":[[0.0,\"#0d0887\"],[0.1111111111111111,\"#46039f\"],[0.2222222222222222,\"#7201a8\"],[0.3333333333333333,\"#9c179e\"],[0.4444444444444444,\"#bd3786\"],[0.5555555555555556,\"#d8576b\"],[0.6666666666666666,\"#ed7953\"],[0.7777777777777778,\"#fb9f3a\"],[0.8888888888888888,\"#fdca26\"],[1.0,\"#f0f921\"]],\"sequentialminus\":[[0.0,\"#0d0887\"],[0.1111111111111111,\"#46039f\"],[0.2222222222222222,\"#7201a8\"],[0.3333333333333333,\"#9c179e\"],[0.4444444444444444,\"#bd3786\"],[0.5555555555555556,\"#d8576b\"],[0.6666666666666666,\"#ed7953\"],[0.7777777777777778,\"#fb9f3a\"],[0.8888888888888888,\"#fdca26\"],[1.0,\"#f0f921\"]]},\"colorway\":[\"#636efa\",\"#EF553B\",\"#00cc96\",\"#ab63fa\",\"#FFA15A\",\"#19d3f3\",\"#FF6692\",\"#B6E880\",\"#FF97FF\",\"#FECB52\"],\"font\":{\"color\":\"#2a3f5f\"},\"geo\":{\"bgcolor\":\"white\",\"lakecolor\":\"white\",\"landcolor\":\"#E5ECF6\",\"showlakes\":true,\"showland\":true,\"subunitcolor\":\"white\"},\"hoverlabel\":{\"align\":\"left\"},\"hovermode\":\"closest\",\"mapbox\":{\"style\":\"light\"},\"paper_bgcolor\":\"white\",\"plot_bgcolor\":\"#E5ECF6\",\"polar\":{\"angularaxis\":{\"gridcolor\":\"white\",\"linecolor\":\"white\",\"ticks\":\"\"},\"bgcolor\":\"#E5ECF6\",\"radialaxis\":{\"gridcolor\":\"white\",\"linecolor\":\"white\",\"ticks\":\"\"}},\"scene\":{\"xaxis\":{\"backgroundcolor\":\"#E5ECF6\",\"gridcolor\":\"white\",\"gridwidth\":2,\"linecolor\":\"white\",\"showbackground\":true,\"ticks\":\"\",\"zerolinecolor\":\"white\"},\"yaxis\":{\"backgroundcolor\":\"#E5ECF6\",\"gridcolor\":\"white\",\"gridwidth\":2,\"linecolor\":\"white\",\"showbackground\":true,\"ticks\":\"\",\"zerolinecolor\":\"white\"},\"zaxis\":{\"backgroundcolor\":\"#E5ECF6\",\"gridcolor\":\"white\",\"gridwidth\":2,\"linecolor\":\"white\",\"showbackground\":true,\"ticks\":\"\",\"zerolinecolor\":\"white\"}},\"shapedefaults\":{\"line\":{\"color\":\"#2a3f5f\"}},\"ternary\":{\"aaxis\":{\"gridcolor\":\"white\",\"linecolor\":\"white\",\"ticks\":\"\"},\"baxis\":{\"gridcolor\":\"white\",\"linecolor\":\"white\",\"ticks\":\"\"},\"bgcolor\":\"#E5ECF6\",\"caxis\":{\"gridcolor\":\"white\",\"linecolor\":\"white\",\"ticks\":\"\"}},\"title\":{\"x\":0.05},\"xaxis\":{\"automargin\":true,\"gridcolor\":\"white\",\"linecolor\":\"white\",\"ticks\":\"\",\"title\":{\"standoff\":15},\"zerolinecolor\":\"white\",\"zerolinewidth\":2},\"yaxis\":{\"automargin\":true,\"gridcolor\":\"white\",\"linecolor\":\"white\",\"ticks\":\"\",\"title\":{\"standoff\":15},\"zerolinecolor\":\"white\",\"zerolinewidth\":2}}}},                        {\"responsive\": true}                    ).then(function(){\n",
              "                            \n",
              "var gd = document.getElementById('f6a0bcdd-24e5-4040-836d-fbd70c8544c1');\n",
              "var x = new MutationObserver(function (mutations, observer) {{\n",
              "        var display = window.getComputedStyle(gd).display;\n",
              "        if (!display || display === 'none') {{\n",
              "            console.log([gd, 'removed!']);\n",
              "            Plotly.purge(gd);\n",
              "            observer.disconnect();\n",
              "        }}\n",
              "}});\n",
              "\n",
              "// Listen for the removal of the full notebook cells\n",
              "var notebookContainer = gd.closest('#notebook-container');\n",
              "if (notebookContainer) {{\n",
              "    x.observe(notebookContainer, {childList: true});\n",
              "}}\n",
              "\n",
              "// Listen for the clearing of the current output cell\n",
              "var outputEl = gd.closest('.output');\n",
              "if (outputEl) {{\n",
              "    x.observe(outputEl, {childList: true});\n",
              "}}\n",
              "\n",
              "                        })                };                            </script>        </div>\n",
              "</body>\n",
              "</html>"
            ]
          },
          "metadata": {}
        }
      ]
    },
    {
      "cell_type": "code",
      "source": [
        "optuna.visualization.plot_param_importances(\n",
        "    study, target_name=\"f1_score\"\n",
        ")"
      ],
      "metadata": {
        "colab": {
          "base_uri": "https://localhost:8080/",
          "height": 542
        },
        "id": "AQ228oq7_WYK",
        "outputId": "532be86e-09e3-4a3d-9796-2115a68266f9"
      },
      "execution_count": 60,
      "outputs": [
        {
          "output_type": "display_data",
          "data": {
            "text/html": [
              "<html>\n",
              "<head><meta charset=\"utf-8\" /></head>\n",
              "<body>\n",
              "    <div>            <script src=\"https://cdnjs.cloudflare.com/ajax/libs/mathjax/2.7.5/MathJax.js?config=TeX-AMS-MML_SVG\"></script><script type=\"text/javascript\">if (window.MathJax) {MathJax.Hub.Config({SVG: {font: \"STIX-Web\"}});}</script>                <script type=\"text/javascript\">window.PlotlyConfig = {MathJaxConfig: 'local'};</script>\n",
              "        <script src=\"https://cdn.plot.ly/plotly-2.8.3.min.js\"></script>                <div id=\"b14290a5-3ace-4eb8-9564-a555d0b635eb\" class=\"plotly-graph-div\" style=\"height:525px; width:100%;\"></div>            <script type=\"text/javascript\">                                    window.PLOTLYENV=window.PLOTLYENV || {};                                    if (document.getElementById(\"b14290a5-3ace-4eb8-9564-a555d0b635eb\")) {                    Plotly.newPlot(                        \"b14290a5-3ace-4eb8-9564-a555d0b635eb\",                        [{\"cliponaxis\":false,\"hovertemplate\":[\"n_estimators (IntDistribution): 0.016938479246661118<extra></extra>\",\"min_samples_leaf (IntDistribution): 0.15102518771547033<extra></extra>\",\"max_depth (IntDistribution): 0.8320363330378685<extra></extra>\"],\"marker\":{\"color\":\"rgb(66,146,198)\"},\"orientation\":\"h\",\"text\":[\"0.02\",\"0.15\",\"0.83\"],\"textposition\":\"outside\",\"x\":[0.016938479246661118,0.15102518771547033,0.8320363330378685],\"y\":[\"n_estimators\",\"min_samples_leaf\",\"max_depth\"],\"type\":\"bar\"}],                        {\"showlegend\":false,\"title\":{\"text\":\"Hyperparameter Importances\"},\"xaxis\":{\"title\":{\"text\":\"Importance for f1_score\"}},\"yaxis\":{\"title\":{\"text\":\"Hyperparameter\"}},\"template\":{\"data\":{\"bar\":[{\"error_x\":{\"color\":\"#2a3f5f\"},\"error_y\":{\"color\":\"#2a3f5f\"},\"marker\":{\"line\":{\"color\":\"#E5ECF6\",\"width\":0.5},\"pattern\":{\"fillmode\":\"overlay\",\"size\":10,\"solidity\":0.2}},\"type\":\"bar\"}],\"barpolar\":[{\"marker\":{\"line\":{\"color\":\"#E5ECF6\",\"width\":0.5},\"pattern\":{\"fillmode\":\"overlay\",\"size\":10,\"solidity\":0.2}},\"type\":\"barpolar\"}],\"carpet\":[{\"aaxis\":{\"endlinecolor\":\"#2a3f5f\",\"gridcolor\":\"white\",\"linecolor\":\"white\",\"minorgridcolor\":\"white\",\"startlinecolor\":\"#2a3f5f\"},\"baxis\":{\"endlinecolor\":\"#2a3f5f\",\"gridcolor\":\"white\",\"linecolor\":\"white\",\"minorgridcolor\":\"white\",\"startlinecolor\":\"#2a3f5f\"},\"type\":\"carpet\"}],\"choropleth\":[{\"colorbar\":{\"outlinewidth\":0,\"ticks\":\"\"},\"type\":\"choropleth\"}],\"contour\":[{\"colorbar\":{\"outlinewidth\":0,\"ticks\":\"\"},\"colorscale\":[[0.0,\"#0d0887\"],[0.1111111111111111,\"#46039f\"],[0.2222222222222222,\"#7201a8\"],[0.3333333333333333,\"#9c179e\"],[0.4444444444444444,\"#bd3786\"],[0.5555555555555556,\"#d8576b\"],[0.6666666666666666,\"#ed7953\"],[0.7777777777777778,\"#fb9f3a\"],[0.8888888888888888,\"#fdca26\"],[1.0,\"#f0f921\"]],\"type\":\"contour\"}],\"contourcarpet\":[{\"colorbar\":{\"outlinewidth\":0,\"ticks\":\"\"},\"type\":\"contourcarpet\"}],\"heatmap\":[{\"colorbar\":{\"outlinewidth\":0,\"ticks\":\"\"},\"colorscale\":[[0.0,\"#0d0887\"],[0.1111111111111111,\"#46039f\"],[0.2222222222222222,\"#7201a8\"],[0.3333333333333333,\"#9c179e\"],[0.4444444444444444,\"#bd3786\"],[0.5555555555555556,\"#d8576b\"],[0.6666666666666666,\"#ed7953\"],[0.7777777777777778,\"#fb9f3a\"],[0.8888888888888888,\"#fdca26\"],[1.0,\"#f0f921\"]],\"type\":\"heatmap\"}],\"heatmapgl\":[{\"colorbar\":{\"outlinewidth\":0,\"ticks\":\"\"},\"colorscale\":[[0.0,\"#0d0887\"],[0.1111111111111111,\"#46039f\"],[0.2222222222222222,\"#7201a8\"],[0.3333333333333333,\"#9c179e\"],[0.4444444444444444,\"#bd3786\"],[0.5555555555555556,\"#d8576b\"],[0.6666666666666666,\"#ed7953\"],[0.7777777777777778,\"#fb9f3a\"],[0.8888888888888888,\"#fdca26\"],[1.0,\"#f0f921\"]],\"type\":\"heatmapgl\"}],\"histogram\":[{\"marker\":{\"pattern\":{\"fillmode\":\"overlay\",\"size\":10,\"solidity\":0.2}},\"type\":\"histogram\"}],\"histogram2d\":[{\"colorbar\":{\"outlinewidth\":0,\"ticks\":\"\"},\"colorscale\":[[0.0,\"#0d0887\"],[0.1111111111111111,\"#46039f\"],[0.2222222222222222,\"#7201a8\"],[0.3333333333333333,\"#9c179e\"],[0.4444444444444444,\"#bd3786\"],[0.5555555555555556,\"#d8576b\"],[0.6666666666666666,\"#ed7953\"],[0.7777777777777778,\"#fb9f3a\"],[0.8888888888888888,\"#fdca26\"],[1.0,\"#f0f921\"]],\"type\":\"histogram2d\"}],\"histogram2dcontour\":[{\"colorbar\":{\"outlinewidth\":0,\"ticks\":\"\"},\"colorscale\":[[0.0,\"#0d0887\"],[0.1111111111111111,\"#46039f\"],[0.2222222222222222,\"#7201a8\"],[0.3333333333333333,\"#9c179e\"],[0.4444444444444444,\"#bd3786\"],[0.5555555555555556,\"#d8576b\"],[0.6666666666666666,\"#ed7953\"],[0.7777777777777778,\"#fb9f3a\"],[0.8888888888888888,\"#fdca26\"],[1.0,\"#f0f921\"]],\"type\":\"histogram2dcontour\"}],\"mesh3d\":[{\"colorbar\":{\"outlinewidth\":0,\"ticks\":\"\"},\"type\":\"mesh3d\"}],\"parcoords\":[{\"line\":{\"colorbar\":{\"outlinewidth\":0,\"ticks\":\"\"}},\"type\":\"parcoords\"}],\"pie\":[{\"automargin\":true,\"type\":\"pie\"}],\"scatter\":[{\"marker\":{\"colorbar\":{\"outlinewidth\":0,\"ticks\":\"\"}},\"type\":\"scatter\"}],\"scatter3d\":[{\"line\":{\"colorbar\":{\"outlinewidth\":0,\"ticks\":\"\"}},\"marker\":{\"colorbar\":{\"outlinewidth\":0,\"ticks\":\"\"}},\"type\":\"scatter3d\"}],\"scattercarpet\":[{\"marker\":{\"colorbar\":{\"outlinewidth\":0,\"ticks\":\"\"}},\"type\":\"scattercarpet\"}],\"scattergeo\":[{\"marker\":{\"colorbar\":{\"outlinewidth\":0,\"ticks\":\"\"}},\"type\":\"scattergeo\"}],\"scattergl\":[{\"marker\":{\"colorbar\":{\"outlinewidth\":0,\"ticks\":\"\"}},\"type\":\"scattergl\"}],\"scattermapbox\":[{\"marker\":{\"colorbar\":{\"outlinewidth\":0,\"ticks\":\"\"}},\"type\":\"scattermapbox\"}],\"scatterpolar\":[{\"marker\":{\"colorbar\":{\"outlinewidth\":0,\"ticks\":\"\"}},\"type\":\"scatterpolar\"}],\"scatterpolargl\":[{\"marker\":{\"colorbar\":{\"outlinewidth\":0,\"ticks\":\"\"}},\"type\":\"scatterpolargl\"}],\"scatterternary\":[{\"marker\":{\"colorbar\":{\"outlinewidth\":0,\"ticks\":\"\"}},\"type\":\"scatterternary\"}],\"surface\":[{\"colorbar\":{\"outlinewidth\":0,\"ticks\":\"\"},\"colorscale\":[[0.0,\"#0d0887\"],[0.1111111111111111,\"#46039f\"],[0.2222222222222222,\"#7201a8\"],[0.3333333333333333,\"#9c179e\"],[0.4444444444444444,\"#bd3786\"],[0.5555555555555556,\"#d8576b\"],[0.6666666666666666,\"#ed7953\"],[0.7777777777777778,\"#fb9f3a\"],[0.8888888888888888,\"#fdca26\"],[1.0,\"#f0f921\"]],\"type\":\"surface\"}],\"table\":[{\"cells\":{\"fill\":{\"color\":\"#EBF0F8\"},\"line\":{\"color\":\"white\"}},\"header\":{\"fill\":{\"color\":\"#C8D4E3\"},\"line\":{\"color\":\"white\"}},\"type\":\"table\"}]},\"layout\":{\"annotationdefaults\":{\"arrowcolor\":\"#2a3f5f\",\"arrowhead\":0,\"arrowwidth\":1},\"autotypenumbers\":\"strict\",\"coloraxis\":{\"colorbar\":{\"outlinewidth\":0,\"ticks\":\"\"}},\"colorscale\":{\"diverging\":[[0,\"#8e0152\"],[0.1,\"#c51b7d\"],[0.2,\"#de77ae\"],[0.3,\"#f1b6da\"],[0.4,\"#fde0ef\"],[0.5,\"#f7f7f7\"],[0.6,\"#e6f5d0\"],[0.7,\"#b8e186\"],[0.8,\"#7fbc41\"],[0.9,\"#4d9221\"],[1,\"#276419\"]],\"sequential\":[[0.0,\"#0d0887\"],[0.1111111111111111,\"#46039f\"],[0.2222222222222222,\"#7201a8\"],[0.3333333333333333,\"#9c179e\"],[0.4444444444444444,\"#bd3786\"],[0.5555555555555556,\"#d8576b\"],[0.6666666666666666,\"#ed7953\"],[0.7777777777777778,\"#fb9f3a\"],[0.8888888888888888,\"#fdca26\"],[1.0,\"#f0f921\"]],\"sequentialminus\":[[0.0,\"#0d0887\"],[0.1111111111111111,\"#46039f\"],[0.2222222222222222,\"#7201a8\"],[0.3333333333333333,\"#9c179e\"],[0.4444444444444444,\"#bd3786\"],[0.5555555555555556,\"#d8576b\"],[0.6666666666666666,\"#ed7953\"],[0.7777777777777778,\"#fb9f3a\"],[0.8888888888888888,\"#fdca26\"],[1.0,\"#f0f921\"]]},\"colorway\":[\"#636efa\",\"#EF553B\",\"#00cc96\",\"#ab63fa\",\"#FFA15A\",\"#19d3f3\",\"#FF6692\",\"#B6E880\",\"#FF97FF\",\"#FECB52\"],\"font\":{\"color\":\"#2a3f5f\"},\"geo\":{\"bgcolor\":\"white\",\"lakecolor\":\"white\",\"landcolor\":\"#E5ECF6\",\"showlakes\":true,\"showland\":true,\"subunitcolor\":\"white\"},\"hoverlabel\":{\"align\":\"left\"},\"hovermode\":\"closest\",\"mapbox\":{\"style\":\"light\"},\"paper_bgcolor\":\"white\",\"plot_bgcolor\":\"#E5ECF6\",\"polar\":{\"angularaxis\":{\"gridcolor\":\"white\",\"linecolor\":\"white\",\"ticks\":\"\"},\"bgcolor\":\"#E5ECF6\",\"radialaxis\":{\"gridcolor\":\"white\",\"linecolor\":\"white\",\"ticks\":\"\"}},\"scene\":{\"xaxis\":{\"backgroundcolor\":\"#E5ECF6\",\"gridcolor\":\"white\",\"gridwidth\":2,\"linecolor\":\"white\",\"showbackground\":true,\"ticks\":\"\",\"zerolinecolor\":\"white\"},\"yaxis\":{\"backgroundcolor\":\"#E5ECF6\",\"gridcolor\":\"white\",\"gridwidth\":2,\"linecolor\":\"white\",\"showbackground\":true,\"ticks\":\"\",\"zerolinecolor\":\"white\"},\"zaxis\":{\"backgroundcolor\":\"#E5ECF6\",\"gridcolor\":\"white\",\"gridwidth\":2,\"linecolor\":\"white\",\"showbackground\":true,\"ticks\":\"\",\"zerolinecolor\":\"white\"}},\"shapedefaults\":{\"line\":{\"color\":\"#2a3f5f\"}},\"ternary\":{\"aaxis\":{\"gridcolor\":\"white\",\"linecolor\":\"white\",\"ticks\":\"\"},\"baxis\":{\"gridcolor\":\"white\",\"linecolor\":\"white\",\"ticks\":\"\"},\"bgcolor\":\"#E5ECF6\",\"caxis\":{\"gridcolor\":\"white\",\"linecolor\":\"white\",\"ticks\":\"\"}},\"title\":{\"x\":0.05},\"xaxis\":{\"automargin\":true,\"gridcolor\":\"white\",\"linecolor\":\"white\",\"ticks\":\"\",\"title\":{\"standoff\":15},\"zerolinecolor\":\"white\",\"zerolinewidth\":2},\"yaxis\":{\"automargin\":true,\"gridcolor\":\"white\",\"linecolor\":\"white\",\"ticks\":\"\",\"title\":{\"standoff\":15},\"zerolinecolor\":\"white\",\"zerolinewidth\":2}}}},                        {\"responsive\": true}                    ).then(function(){\n",
              "                            \n",
              "var gd = document.getElementById('b14290a5-3ace-4eb8-9564-a555d0b635eb');\n",
              "var x = new MutationObserver(function (mutations, observer) {{\n",
              "        var display = window.getComputedStyle(gd).display;\n",
              "        if (!display || display === 'none') {{\n",
              "            console.log([gd, 'removed!']);\n",
              "            Plotly.purge(gd);\n",
              "            observer.disconnect();\n",
              "        }}\n",
              "}});\n",
              "\n",
              "// Listen for the removal of the full notebook cells\n",
              "var notebookContainer = gd.closest('#notebook-container');\n",
              "if (notebookContainer) {{\n",
              "    x.observe(notebookContainer, {childList: true});\n",
              "}}\n",
              "\n",
              "// Listen for the clearing of the current output cell\n",
              "var outputEl = gd.closest('.output');\n",
              "if (outputEl) {{\n",
              "    x.observe(outputEl, {childList: true});\n",
              "}}\n",
              "\n",
              "                        })                };                            </script>        </div>\n",
              "</body>\n",
              "</html>"
            ]
          },
          "metadata": {}
        }
      ]
    },
    {
      "cell_type": "code",
      "source": [
        "optuna.visualization.plot_contour(\n",
        "    study, params=[\"max_depth\",\"min_samples_leaf\", \"n_estimators\"],\n",
        "    target_name='f1_score'\n",
        ")"
      ],
      "metadata": {
        "colab": {
          "base_uri": "https://localhost:8080/",
          "height": 542
        },
        "id": "SM9gEvXr_sdA",
        "outputId": "aef098b2-564c-446a-e90a-a2288dee2355"
      },
      "execution_count": 64,
      "outputs": [
        {
          "output_type": "display_data",
          "data": {
            "text/html": [
              "<html>\n",
              "<head><meta charset=\"utf-8\" /></head>\n",
              "<body>\n",
              "    <div>            <script src=\"https://cdnjs.cloudflare.com/ajax/libs/mathjax/2.7.5/MathJax.js?config=TeX-AMS-MML_SVG\"></script><script type=\"text/javascript\">if (window.MathJax) {MathJax.Hub.Config({SVG: {font: \"STIX-Web\"}});}</script>                <script type=\"text/javascript\">window.PlotlyConfig = {MathJaxConfig: 'local'};</script>\n",
              "        <script src=\"https://cdn.plot.ly/plotly-2.8.3.min.js\"></script>                <div id=\"bcd9bde7-695c-4842-8733-41f51b8d9b03\" class=\"plotly-graph-div\" style=\"height:525px; width:100%;\"></div>            <script type=\"text/javascript\">                                    window.PLOTLYENV=window.PLOTLYENV || {};                                    if (document.getElementById(\"bcd9bde7-695c-4842-8733-41f51b8d9b03\")) {                    Plotly.newPlot(                        \"bcd9bde7-695c-4842-8733-41f51b8d9b03\",                        [{\"type\":\"scatter\",\"xaxis\":\"x\",\"yaxis\":\"y\"},{\"colorbar\":{\"title\":{\"text\":\"f1_score\"}},\"colorscale\":[[0.0,\"rgb(247,251,255)\"],[0.125,\"rgb(222,235,247)\"],[0.25,\"rgb(198,219,239)\"],[0.375,\"rgb(158,202,225)\"],[0.5,\"rgb(107,174,214)\"],[0.625,\"rgb(66,146,198)\"],[0.75,\"rgb(33,113,181)\"],[0.875,\"rgb(8,81,156)\"],[1.0,\"rgb(8,48,107)\"]],\"connectgaps\":true,\"contours\":{\"coloring\":\"heatmap\"},\"hoverinfo\":\"none\",\"line\":{\"smoothing\":1.3},\"reversescale\":false,\"showscale\":true,\"x\":[0.09999999999999987,2,7,9,12,15,16,17,19,21,22,24,25,26,27,28,29,30,31,32,33,34,35,36,37,38,39,40,41.9],\"y\":[0.29999999999999993,1,2,3,4,5,6,7,8,9,11,13,14,15,15.7],\"z\":[[null,null,null,null,null,null,null,null,null,null,null,null,null,null,null,null,null,null,null,null,null,null,null,null,null,null,null,null,null],[null,null,null,null,null,null,null,null,null,null,null,null,null,null,null,null,0.8143488205423095,null,0.8128117238857696,0.8139243374983509,0.815176189553747,null,null,0.8152436044020774,0.8150346059118055,0.8149607563618684,null,null,null],[null,null,null,0.8018846330776309,null,0.8143269229673529,null,null,0.8138306300561929,null,0.8153444595755885,null,null,null,0.8158446715926134,null,null,0.816139445361723,null,null,0.8177761172362151,null,null,null,0.8160494512008114,0.8178762115126039,0.8179758617765804,null,null],[null,0.7312361907412459,null,null,null,null,null,null,null,null,null,null,0.8140709743108197,null,null,null,null,null,null,0.8119177949671617,null,0.8125984512360038,null,0.8120884459134052,null,null,0.8140309741133296,null,null],[null,null,null,null,null,null,0.8119128079082106,0.8107059722332766,null,0.8117085092190163,null,null,null,0.8125486605684008,null,null,null,0.8094692908093286,null,null,null,null,null,null,null,null,null,null,null],[null,null,null,null,null,null,null,null,null,null,null,0.8090281955538721,null,null,0.8083837553987827,null,null,null,null,0.8102873123771992,null,null,null,null,null,null,null,null,null],[null,0.731593853978213,null,null,null,null,null,null,null,null,0.8040407387391444,null,null,null,null,0.8039183232764782,null,null,null,null,null,null,null,null,null,null,null,null,null],[null,null,null,null,null,null,null,null,null,null,null,null,null,null,null,null,null,null,null,null,null,null,null,null,null,0.8033424676139298,0.8046648651393136,0.8055112185508261,null],[null,null,null,null,0.7990736037934015,null,null,null,null,null,null,null,null,null,null,null,null,null,null,null,null,null,null,null,null,null,null,null,null],[null,null,null,null,null,null,null,null,null,null,null,null,null,null,null,null,null,null,null,null,null,0.7999039163201,0.7997819476289291,null,null,null,null,null,null],[null,null,null,null,null,null,null,null,null,0.7957629868110592,null,null,null,null,null,null,null,0.7952369741705416,null,null,null,null,null,null,null,0.7974815559133915,null,null,null],[null,null,null,null,null,null,null,null,null,null,null,null,null,null,null,null,null,null,null,null,null,null,null,null,null,null,null,0.7937721727575241,null],[null,null,null,null,null,null,null,null,null,null,null,null,null,null,null,null,null,null,null,null,null,null,null,null,null,null,null,0.7901252909371672,null],[null,null,0.7729708106132909,null,null,null,null,null,null,null,null,null,null,null,null,null,null,null,null,null,null,null,null,null,null,null,null,null,null],[null,null,null,null,null,null,null,null,null,null,null,null,null,null,null,null,null,null,null,null,null,null,null,null,null,null,null,null,null]],\"type\":\"contour\",\"xaxis\":\"x4\",\"yaxis\":\"y4\"},{\"marker\":{\"color\":\"black\",\"line\":{\"color\":\"Grey\",\"width\":2.0}},\"mode\":\"markers\",\"showlegend\":false,\"x\":[39,21,2,38,9,7,40,40,24,28,31,32,32,34,17,34,25,16,35,36,29,36,37,37,27,27,22,21,15,12,24,19,30,22,30,26,19,22,2,38,38,33,39,39,33,40,30,32,34,38],\"y\":[7,11,6,1,2,15,7,13,5,6,1,1,3,3,4,9,3,4,9,1,1,3,2,1,2,5,2,4,2,8,5,2,2,2,11,4,2,6,3,2,7,2,2,3,1,14,4,5,3,11],\"type\":\"scatter\",\"xaxis\":\"x4\",\"yaxis\":\"y4\"},{\"colorbar\":{\"title\":{\"text\":\"f1_score\"}},\"colorscale\":[[0.0,\"rgb(247,251,255)\"],[0.125,\"rgb(222,235,247)\"],[0.25,\"rgb(198,219,239)\"],[0.375,\"rgb(158,202,225)\"],[0.5,\"rgb(107,174,214)\"],[0.625,\"rgb(66,146,198)\"],[0.75,\"rgb(33,113,181)\"],[0.875,\"rgb(8,81,156)\"],[1.0,\"rgb(8,48,107)\"]],\"connectgaps\":true,\"contours\":{\"coloring\":\"heatmap\"},\"hoverinfo\":\"none\",\"line\":{\"smoothing\":1.3},\"reversescale\":false,\"showscale\":false,\"x\":[0.09999999999999987,2,7,9,12,15,16,17,19,21,22,24,25,26,27,28,29,30,31,32,33,34,35,36,37,38,39,40,41.9],\"y\":[75.0,100,150,200,250,300,350,400,450,500,550,600,625.0],\"z\":[[null,null,null,null,null,null,null,null,null,null,null,null,null,null,null,null,null,null,null,null,null,null,null,null,null,null,null,null,null],[null,null,null,null,null,null,null,null,null,null,null,null,null,null,null,null,null,null,0.8128117238857696,0.8119177949671617,null,null,null,null,null,null,null,null,null],[null,null,null,null,null,null,null,null,null,null,null,null,null,null,null,null,null,null,null,null,null,null,null,null,null,0.7974815559133915,null,0.7901252909371672,null],[null,null,null,null,null,null,null,null,null,0.7957629868110592,null,0.8070293480509703,null,null,null,0.8039183232764782,null,null,null,null,null,0.8125984512360038,null,null,null,null,null,0.8055112185508261,null],[null,null,null,null,null,null,null,null,null,null,null,null,null,null,null,null,null,0.8094692908093286,null,null,0.815176189553747,null,null,null,null,0.8149607563618684,0.8140309741133296,null,null],[null,null,0.7729708106132909,null,null,null,null,null,null,null,null,null,null,null,null,null,null,null,null,0.8102873123771992,null,null,0.7997819476289291,null,null,null,0.8046648651393136,null,null],[null,null,null,null,0.7990736037934015,null,null,null,null,null,null,null,0.8140709743108197,null,null,null,null,null,null,null,null,null,null,null,null,0.8033424676139298,null,null,null],[null,0.731593853978213,null,null,null,null,null,0.8107059722332766,null,null,0.8040407387391444,null,null,null,null,null,null,0.7952369741705416,null,null,null,0.8145030965651205,null,null,null,null,null,null,null],[null,null,null,null,null,0.8143269229673529,0.8119128079082106,null,0.8138306300561929,0.8117085092190163,0.8161182123773194,0.8090281955538721,null,null,null,null,null,null,null,null,null,null,null,null,0.8160494512008114,null,null,null,null],[null,null,null,0.8018846330776309,null,null,null,null,null,null,0.8153444595755885,null,null,0.8125486605684008,0.8158446715926134,null,null,0.816139445361723,null,null,null,0.7999039163201,null,null,0.8150346059118055,null,null,null,null],[null,null,null,null,null,null,null,null,0.8133850427327302,null,null,null,null,null,0.8083837553987827,null,null,null,null,null,null,null,null,0.8120884459134052,null,null,null,null,null],[null,0.7312361907412459,null,null,null,null,null,null,null,null,null,null,null,null,null,null,0.8143488205423095,null,null,null,null,null,null,null,null,null,null,0.7937721727575241,null],[null,null,null,null,null,null,null,null,null,null,null,null,null,null,null,null,null,null,null,null,null,null,null,null,null,null,null,null,null]],\"type\":\"contour\",\"xaxis\":\"x7\",\"yaxis\":\"y7\"},{\"marker\":{\"color\":\"black\",\"line\":{\"color\":\"Grey\",\"width\":2.0}},\"mode\":\"markers\",\"showlegend\":false,\"x\":[39,21,2,38,9,7,40,40,24,28,31,32,32,34,17,34,25,16,35,36,29,36,37,37,27,27,22,21,15,12,24,19,30,22,30,26,19,22,2,38,38,33,39,39,33,40,30,32,34,38],\"y\":[300,200,400,250,500,300,200,600,200,200,100,100,100,400,400,500,350,450,300,550,600,550,450,500,500,550,450,450,450,350,450,550,500,500,400,500,450,400,600,350,350,250,250,250,250,150,250,300,200,150],\"type\":\"scatter\",\"xaxis\":\"x7\",\"yaxis\":\"y7\"},{\"colorbar\":{\"title\":{\"text\":\"f1_score\"}},\"colorscale\":[[0.0,\"rgb(247,251,255)\"],[0.125,\"rgb(222,235,247)\"],[0.25,\"rgb(198,219,239)\"],[0.375,\"rgb(158,202,225)\"],[0.5,\"rgb(107,174,214)\"],[0.625,\"rgb(66,146,198)\"],[0.75,\"rgb(33,113,181)\"],[0.875,\"rgb(8,81,156)\"],[1.0,\"rgb(8,48,107)\"]],\"connectgaps\":true,\"contours\":{\"coloring\":\"heatmap\"},\"hoverinfo\":\"none\",\"line\":{\"smoothing\":1.3},\"reversescale\":false,\"showscale\":false,\"x\":[0.29999999999999993,1,2,3,4,5,6,7,8,9,11,13,14,15,15.7],\"y\":[0.09999999999999987,2,7,9,12,15,16,17,19,21,22,24,25,26,27,28,29,30,31,32,33,34,35,36,37,38,39,40,41.9],\"z\":[[null,null,null,null,null,null,null,null,null,null,null,null,null,null,null],[null,null,null,0.7312361907412459,null,null,0.731593853978213,null,null,null,null,null,null,null,null],[null,null,null,null,null,null,null,null,null,null,null,null,null,0.7729708106132909,null],[null,null,0.8018846330776309,null,null,null,null,null,null,null,null,null,null,null,null],[null,null,null,null,null,null,null,null,0.7990736037934015,null,null,null,null,null,null],[null,null,0.8143269229673529,null,null,null,null,null,null,null,null,null,null,null,null],[null,null,null,null,0.8119128079082106,null,null,null,null,null,null,null,null,null,null],[null,null,null,null,0.8107059722332766,null,null,null,null,null,null,null,null,null,null],[null,null,0.8138306300561929,null,null,null,null,null,null,null,null,null,null,null,null],[null,null,null,null,0.8117085092190163,null,null,null,null,null,0.7957629868110592,null,null,null,null],[null,null,0.8153444595755885,null,null,null,0.8040407387391444,null,null,null,null,null,null,null,null],[null,null,null,null,null,0.8090281955538721,null,null,null,null,null,null,null,null,null],[null,null,null,0.8140709743108197,null,null,null,null,null,null,null,null,null,null,null],[null,null,null,null,0.8125486605684008,null,null,null,null,null,null,null,null,null,null],[null,null,0.8158446715926134,null,null,0.8083837553987827,null,null,null,null,null,null,null,null,null],[null,null,null,null,null,null,0.8039183232764782,null,null,null,null,null,null,null,null],[null,0.8143488205423095,null,null,null,null,null,null,null,null,null,null,null,null,null],[null,null,0.816139445361723,null,0.8094692908093286,null,null,null,null,null,0.7952369741705416,null,null,null,null],[null,0.8128117238857696,null,null,null,null,null,null,null,null,null,null,null,null,null],[null,0.8139243374983509,null,0.8119177949671617,null,0.8102873123771992,null,null,null,null,null,null,null,null,null],[null,0.815176189553747,0.8177761172362151,null,null,null,null,null,null,null,null,null,null,null,null],[null,null,null,0.8125984512360038,null,null,null,null,null,0.7999039163201,null,null,null,null,null],[null,null,null,null,null,null,null,null,null,0.7997819476289291,null,null,null,null,null],[null,0.8152436044020774,null,0.8120884459134052,null,null,null,null,null,null,null,null,null,null,null],[null,0.8150346059118055,0.8160494512008114,null,null,null,null,null,null,null,null,null,null,null,null],[null,0.8149607563618684,0.8178762115126039,null,null,null,null,0.8033424676139298,null,null,0.7974815559133915,null,null,null,null],[null,null,0.8179758617765804,0.8140309741133296,null,null,null,0.8046648651393136,null,null,null,null,null,null,null],[null,null,null,null,null,null,null,0.8055112185508261,null,null,null,0.7937721727575241,0.7901252909371672,null,null],[null,null,null,null,null,null,null,null,null,null,null,null,null,null,null]],\"type\":\"contour\",\"xaxis\":\"x2\",\"yaxis\":\"y2\"},{\"marker\":{\"color\":\"black\",\"line\":{\"color\":\"Grey\",\"width\":2.0}},\"mode\":\"markers\",\"showlegend\":false,\"x\":[7,11,6,1,2,15,7,13,5,6,1,1,3,3,4,9,3,4,9,1,1,3,2,1,2,5,2,4,2,8,5,2,2,2,11,4,2,6,3,2,7,2,2,3,1,14,4,5,3,11],\"y\":[39,21,2,38,9,7,40,40,24,28,31,32,32,34,17,34,25,16,35,36,29,36,37,37,27,27,22,21,15,12,24,19,30,22,30,26,19,22,2,38,38,33,39,39,33,40,30,32,34,38],\"type\":\"scatter\",\"xaxis\":\"x2\",\"yaxis\":\"y2\"},{\"type\":\"scatter\",\"xaxis\":\"x5\",\"yaxis\":\"y5\"},{\"colorbar\":{\"title\":{\"text\":\"f1_score\"}},\"colorscale\":[[0.0,\"rgb(247,251,255)\"],[0.125,\"rgb(222,235,247)\"],[0.25,\"rgb(198,219,239)\"],[0.375,\"rgb(158,202,225)\"],[0.5,\"rgb(107,174,214)\"],[0.625,\"rgb(66,146,198)\"],[0.75,\"rgb(33,113,181)\"],[0.875,\"rgb(8,81,156)\"],[1.0,\"rgb(8,48,107)\"]],\"connectgaps\":true,\"contours\":{\"coloring\":\"heatmap\"},\"hoverinfo\":\"none\",\"line\":{\"smoothing\":1.3},\"reversescale\":false,\"showscale\":false,\"x\":[0.29999999999999993,1,2,3,4,5,6,7,8,9,11,13,14,15,15.7],\"y\":[75.0,100,150,200,250,300,350,400,450,500,550,600,625.0],\"z\":[[null,null,null,null,null,null,null,null,null,null,null,null,null,null,null],[null,0.8139243374983509,null,0.8119177949671617,null,null,null,null,null,null,null,null,null,null,null],[null,null,null,null,null,null,null,null,null,null,0.7974815559133915,null,0.7901252909371672,null,null],[null,null,null,0.8125984512360038,null,0.8070293480509703,0.8039183232764782,0.8055112185508261,null,null,0.7957629868110592,null,null,null,null],[null,0.815176189553747,0.8179758617765804,0.8140309741133296,0.8094692908093286,null,null,null,null,null,null,null,null,null,null],[null,null,null,null,null,0.8102873123771992,null,0.8046648651393136,null,0.7997819476289291,null,null,null,0.7729708106132909,null],[null,null,0.8178762115126039,0.8140709743108197,null,null,null,0.8033424676139298,0.7990736037934015,null,null,null,null,null,null],[null,null,null,0.8145030965651205,0.8107059722332766,null,0.8040407387391444,null,null,null,0.7952369741705416,null,null,null,null],[null,null,0.8138306300561929,null,0.8117085092190163,0.8090281955538721,null,null,null,null,null,null,null,null,null],[null,0.8150346059118055,0.8153444595755885,null,0.8125486605684008,null,null,null,null,0.7999039163201,null,null,null,null,null],[null,0.8152436044020774,0.8133850427327302,0.8120884459134052,null,0.8083837553987827,null,null,null,null,null,null,null,null,null],[null,0.8143488205423095,null,0.7312361907412459,null,null,null,null,null,null,null,0.7937721727575241,null,null,null],[null,null,null,null,null,null,null,null,null,null,null,null,null,null,null]],\"type\":\"contour\",\"xaxis\":\"x8\",\"yaxis\":\"y8\"},{\"marker\":{\"color\":\"black\",\"line\":{\"color\":\"Grey\",\"width\":2.0}},\"mode\":\"markers\",\"showlegend\":false,\"x\":[7,11,6,1,2,15,7,13,5,6,1,1,3,3,4,9,3,4,9,1,1,3,2,1,2,5,2,4,2,8,5,2,2,2,11,4,2,6,3,2,7,2,2,3,1,14,4,5,3,11],\"y\":[300,200,400,250,500,300,200,600,200,200,100,100,100,400,400,500,350,450,300,550,600,550,450,500,500,550,450,450,450,350,450,550,500,500,400,500,450,400,600,350,350,250,250,250,250,150,250,300,200,150],\"type\":\"scatter\",\"xaxis\":\"x8\",\"yaxis\":\"y8\"},{\"colorbar\":{\"title\":{\"text\":\"f1_score\"}},\"colorscale\":[[0.0,\"rgb(247,251,255)\"],[0.125,\"rgb(222,235,247)\"],[0.25,\"rgb(198,219,239)\"],[0.375,\"rgb(158,202,225)\"],[0.5,\"rgb(107,174,214)\"],[0.625,\"rgb(66,146,198)\"],[0.75,\"rgb(33,113,181)\"],[0.875,\"rgb(8,81,156)\"],[1.0,\"rgb(8,48,107)\"]],\"connectgaps\":true,\"contours\":{\"coloring\":\"heatmap\"},\"hoverinfo\":\"none\",\"line\":{\"smoothing\":1.3},\"reversescale\":false,\"showscale\":false,\"x\":[75.0,100,150,200,250,300,350,400,450,500,550,600,625.0],\"y\":[0.09999999999999987,2,7,9,12,15,16,17,19,21,22,24,25,26,27,28,29,30,31,32,33,34,35,36,37,38,39,40,41.9],\"z\":[[null,null,null,null,null,null,null,null,null,null,null,null,null],[null,null,null,null,null,null,null,0.731593853978213,null,null,null,0.7312361907412459,null],[null,null,null,null,null,0.7729708106132909,null,null,null,null,null,null,null],[null,null,null,null,null,null,null,null,null,0.8018846330776309,null,null,null],[null,null,null,null,null,null,0.7990736037934015,null,null,null,null,null,null],[null,null,null,null,null,null,null,null,0.8143269229673529,null,null,null,null],[null,null,null,null,null,null,null,null,0.8119128079082106,null,null,null,null],[null,null,null,null,null,null,null,0.8107059722332766,null,null,null,null,null],[null,null,null,null,null,null,null,null,0.8138306300561929,null,0.8133850427327302,null,null],[null,null,null,0.7957629868110592,null,null,null,null,0.8117085092190163,null,null,null,null],[null,null,null,null,null,null,null,0.8040407387391444,0.8161182123773194,0.8153444595755885,null,null,null],[null,null,null,0.8070293480509703,null,null,null,null,0.8090281955538721,null,null,null,null],[null,null,null,null,null,null,0.8140709743108197,null,null,null,null,null,null],[null,null,null,null,null,null,null,null,null,0.8125486605684008,null,null,null],[null,null,null,null,null,null,null,null,null,0.8158446715926134,0.8083837553987827,null,null],[null,null,null,0.8039183232764782,null,null,null,null,null,null,null,null,null],[null,null,null,null,null,null,null,null,null,null,null,0.8143488205423095,null],[null,null,null,null,0.8094692908093286,null,null,0.7952369741705416,null,0.816139445361723,null,null,null],[null,0.8128117238857696,null,null,null,null,null,null,null,null,null,null,null],[null,0.8119177949671617,null,null,null,0.8102873123771992,null,null,null,null,null,null,null],[null,null,null,null,0.815176189553747,null,null,null,null,null,null,null,null],[null,null,null,0.8125984512360038,null,null,null,0.8145030965651205,null,0.7999039163201,null,null,null],[null,null,null,null,null,0.7997819476289291,null,null,null,null,null,null,null],[null,null,null,null,null,null,null,null,null,null,0.8120884459134052,null,null],[null,null,null,null,null,null,null,null,0.8160494512008114,0.8150346059118055,null,null,null],[null,null,0.7974815559133915,null,0.8149607563618684,null,0.8033424676139298,null,null,null,null,null,null],[null,null,null,null,0.8140309741133296,0.8046648651393136,null,null,null,null,null,null,null],[null,null,0.7901252909371672,0.8055112185508261,null,null,null,null,null,null,null,0.7937721727575241,null],[null,null,null,null,null,null,null,null,null,null,null,null,null]],\"type\":\"contour\",\"xaxis\":\"x3\",\"yaxis\":\"y3\"},{\"marker\":{\"color\":\"black\",\"line\":{\"color\":\"Grey\",\"width\":2.0}},\"mode\":\"markers\",\"showlegend\":false,\"x\":[300,200,400,250,500,300,200,600,200,200,100,100,100,400,400,500,350,450,300,550,600,550,450,500,500,550,450,450,450,350,450,550,500,500,400,500,450,400,600,350,350,250,250,250,250,150,250,300,200,150],\"y\":[39,21,2,38,9,7,40,40,24,28,31,32,32,34,17,34,25,16,35,36,29,36,37,37,27,27,22,21,15,12,24,19,30,22,30,26,19,22,2,38,38,33,39,39,33,40,30,32,34,38],\"type\":\"scatter\",\"xaxis\":\"x3\",\"yaxis\":\"y3\"},{\"colorbar\":{\"title\":{\"text\":\"f1_score\"}},\"colorscale\":[[0.0,\"rgb(247,251,255)\"],[0.125,\"rgb(222,235,247)\"],[0.25,\"rgb(198,219,239)\"],[0.375,\"rgb(158,202,225)\"],[0.5,\"rgb(107,174,214)\"],[0.625,\"rgb(66,146,198)\"],[0.75,\"rgb(33,113,181)\"],[0.875,\"rgb(8,81,156)\"],[1.0,\"rgb(8,48,107)\"]],\"connectgaps\":true,\"contours\":{\"coloring\":\"heatmap\"},\"hoverinfo\":\"none\",\"line\":{\"smoothing\":1.3},\"reversescale\":false,\"showscale\":false,\"x\":[75.0,100,150,200,250,300,350,400,450,500,550,600,625.0],\"y\":[0.29999999999999993,1,2,3,4,5,6,7,8,9,11,13,14,15,15.7],\"z\":[[null,null,null,null,null,null,null,null,null,null,null,null,null],[null,0.8139243374983509,null,null,0.815176189553747,null,null,null,null,0.8150346059118055,0.8152436044020774,0.8143488205423095,null],[null,null,null,null,0.8179758617765804,null,0.8178762115126039,null,0.8138306300561929,0.8153444595755885,0.8133850427327302,null,null],[null,0.8119177949671617,null,0.8125984512360038,0.8140309741133296,null,0.8140709743108197,0.8145030965651205,null,null,0.8120884459134052,0.7312361907412459,null],[null,null,null,null,0.8094692908093286,null,null,0.8107059722332766,0.8117085092190163,0.8125486605684008,null,null,null],[null,null,null,0.8070293480509703,null,0.8102873123771992,null,null,0.8090281955538721,null,0.8083837553987827,null,null],[null,null,null,0.8039183232764782,null,null,null,0.8040407387391444,null,null,null,null,null],[null,null,null,0.8055112185508261,null,0.8046648651393136,0.8033424676139298,null,null,null,null,null,null],[null,null,null,null,null,null,0.7990736037934015,null,null,null,null,null,null],[null,null,null,null,null,0.7997819476289291,null,null,null,0.7999039163201,null,null,null],[null,null,0.7974815559133915,0.7957629868110592,null,null,null,0.7952369741705416,null,null,null,null,null],[null,null,null,null,null,null,null,null,null,null,null,0.7937721727575241,null],[null,null,0.7901252909371672,null,null,null,null,null,null,null,null,null,null],[null,null,null,null,null,0.7729708106132909,null,null,null,null,null,null,null],[null,null,null,null,null,null,null,null,null,null,null,null,null]],\"type\":\"contour\",\"xaxis\":\"x6\",\"yaxis\":\"y6\"},{\"marker\":{\"color\":\"black\",\"line\":{\"color\":\"Grey\",\"width\":2.0}},\"mode\":\"markers\",\"showlegend\":false,\"x\":[300,200,400,250,500,300,200,600,200,200,100,100,100,400,400,500,350,450,300,550,600,550,450,500,500,550,450,450,450,350,450,550,500,500,400,500,450,400,600,350,350,250,250,250,250,150,250,300,200,150],\"y\":[7,11,6,1,2,15,7,13,5,6,1,1,3,3,4,9,3,4,9,1,1,3,2,1,2,5,2,4,2,8,5,2,2,2,11,4,2,6,3,2,7,2,2,3,1,14,4,5,3,11],\"type\":\"scatter\",\"xaxis\":\"x6\",\"yaxis\":\"y6\"},{\"type\":\"scatter\",\"xaxis\":\"x9\",\"yaxis\":\"y9\"}],                        {\"template\":{\"data\":{\"bar\":[{\"error_x\":{\"color\":\"#2a3f5f\"},\"error_y\":{\"color\":\"#2a3f5f\"},\"marker\":{\"line\":{\"color\":\"#E5ECF6\",\"width\":0.5},\"pattern\":{\"fillmode\":\"overlay\",\"size\":10,\"solidity\":0.2}},\"type\":\"bar\"}],\"barpolar\":[{\"marker\":{\"line\":{\"color\":\"#E5ECF6\",\"width\":0.5},\"pattern\":{\"fillmode\":\"overlay\",\"size\":10,\"solidity\":0.2}},\"type\":\"barpolar\"}],\"carpet\":[{\"aaxis\":{\"endlinecolor\":\"#2a3f5f\",\"gridcolor\":\"white\",\"linecolor\":\"white\",\"minorgridcolor\":\"white\",\"startlinecolor\":\"#2a3f5f\"},\"baxis\":{\"endlinecolor\":\"#2a3f5f\",\"gridcolor\":\"white\",\"linecolor\":\"white\",\"minorgridcolor\":\"white\",\"startlinecolor\":\"#2a3f5f\"},\"type\":\"carpet\"}],\"choropleth\":[{\"colorbar\":{\"outlinewidth\":0,\"ticks\":\"\"},\"type\":\"choropleth\"}],\"contour\":[{\"colorbar\":{\"outlinewidth\":0,\"ticks\":\"\"},\"colorscale\":[[0.0,\"#0d0887\"],[0.1111111111111111,\"#46039f\"],[0.2222222222222222,\"#7201a8\"],[0.3333333333333333,\"#9c179e\"],[0.4444444444444444,\"#bd3786\"],[0.5555555555555556,\"#d8576b\"],[0.6666666666666666,\"#ed7953\"],[0.7777777777777778,\"#fb9f3a\"],[0.8888888888888888,\"#fdca26\"],[1.0,\"#f0f921\"]],\"type\":\"contour\"}],\"contourcarpet\":[{\"colorbar\":{\"outlinewidth\":0,\"ticks\":\"\"},\"type\":\"contourcarpet\"}],\"heatmap\":[{\"colorbar\":{\"outlinewidth\":0,\"ticks\":\"\"},\"colorscale\":[[0.0,\"#0d0887\"],[0.1111111111111111,\"#46039f\"],[0.2222222222222222,\"#7201a8\"],[0.3333333333333333,\"#9c179e\"],[0.4444444444444444,\"#bd3786\"],[0.5555555555555556,\"#d8576b\"],[0.6666666666666666,\"#ed7953\"],[0.7777777777777778,\"#fb9f3a\"],[0.8888888888888888,\"#fdca26\"],[1.0,\"#f0f921\"]],\"type\":\"heatmap\"}],\"heatmapgl\":[{\"colorbar\":{\"outlinewidth\":0,\"ticks\":\"\"},\"colorscale\":[[0.0,\"#0d0887\"],[0.1111111111111111,\"#46039f\"],[0.2222222222222222,\"#7201a8\"],[0.3333333333333333,\"#9c179e\"],[0.4444444444444444,\"#bd3786\"],[0.5555555555555556,\"#d8576b\"],[0.6666666666666666,\"#ed7953\"],[0.7777777777777778,\"#fb9f3a\"],[0.8888888888888888,\"#fdca26\"],[1.0,\"#f0f921\"]],\"type\":\"heatmapgl\"}],\"histogram\":[{\"marker\":{\"pattern\":{\"fillmode\":\"overlay\",\"size\":10,\"solidity\":0.2}},\"type\":\"histogram\"}],\"histogram2d\":[{\"colorbar\":{\"outlinewidth\":0,\"ticks\":\"\"},\"colorscale\":[[0.0,\"#0d0887\"],[0.1111111111111111,\"#46039f\"],[0.2222222222222222,\"#7201a8\"],[0.3333333333333333,\"#9c179e\"],[0.4444444444444444,\"#bd3786\"],[0.5555555555555556,\"#d8576b\"],[0.6666666666666666,\"#ed7953\"],[0.7777777777777778,\"#fb9f3a\"],[0.8888888888888888,\"#fdca26\"],[1.0,\"#f0f921\"]],\"type\":\"histogram2d\"}],\"histogram2dcontour\":[{\"colorbar\":{\"outlinewidth\":0,\"ticks\":\"\"},\"colorscale\":[[0.0,\"#0d0887\"],[0.1111111111111111,\"#46039f\"],[0.2222222222222222,\"#7201a8\"],[0.3333333333333333,\"#9c179e\"],[0.4444444444444444,\"#bd3786\"],[0.5555555555555556,\"#d8576b\"],[0.6666666666666666,\"#ed7953\"],[0.7777777777777778,\"#fb9f3a\"],[0.8888888888888888,\"#fdca26\"],[1.0,\"#f0f921\"]],\"type\":\"histogram2dcontour\"}],\"mesh3d\":[{\"colorbar\":{\"outlinewidth\":0,\"ticks\":\"\"},\"type\":\"mesh3d\"}],\"parcoords\":[{\"line\":{\"colorbar\":{\"outlinewidth\":0,\"ticks\":\"\"}},\"type\":\"parcoords\"}],\"pie\":[{\"automargin\":true,\"type\":\"pie\"}],\"scatter\":[{\"marker\":{\"colorbar\":{\"outlinewidth\":0,\"ticks\":\"\"}},\"type\":\"scatter\"}],\"scatter3d\":[{\"line\":{\"colorbar\":{\"outlinewidth\":0,\"ticks\":\"\"}},\"marker\":{\"colorbar\":{\"outlinewidth\":0,\"ticks\":\"\"}},\"type\":\"scatter3d\"}],\"scattercarpet\":[{\"marker\":{\"colorbar\":{\"outlinewidth\":0,\"ticks\":\"\"}},\"type\":\"scattercarpet\"}],\"scattergeo\":[{\"marker\":{\"colorbar\":{\"outlinewidth\":0,\"ticks\":\"\"}},\"type\":\"scattergeo\"}],\"scattergl\":[{\"marker\":{\"colorbar\":{\"outlinewidth\":0,\"ticks\":\"\"}},\"type\":\"scattergl\"}],\"scattermapbox\":[{\"marker\":{\"colorbar\":{\"outlinewidth\":0,\"ticks\":\"\"}},\"type\":\"scattermapbox\"}],\"scatterpolar\":[{\"marker\":{\"colorbar\":{\"outlinewidth\":0,\"ticks\":\"\"}},\"type\":\"scatterpolar\"}],\"scatterpolargl\":[{\"marker\":{\"colorbar\":{\"outlinewidth\":0,\"ticks\":\"\"}},\"type\":\"scatterpolargl\"}],\"scatterternary\":[{\"marker\":{\"colorbar\":{\"outlinewidth\":0,\"ticks\":\"\"}},\"type\":\"scatterternary\"}],\"surface\":[{\"colorbar\":{\"outlinewidth\":0,\"ticks\":\"\"},\"colorscale\":[[0.0,\"#0d0887\"],[0.1111111111111111,\"#46039f\"],[0.2222222222222222,\"#7201a8\"],[0.3333333333333333,\"#9c179e\"],[0.4444444444444444,\"#bd3786\"],[0.5555555555555556,\"#d8576b\"],[0.6666666666666666,\"#ed7953\"],[0.7777777777777778,\"#fb9f3a\"],[0.8888888888888888,\"#fdca26\"],[1.0,\"#f0f921\"]],\"type\":\"surface\"}],\"table\":[{\"cells\":{\"fill\":{\"color\":\"#EBF0F8\"},\"line\":{\"color\":\"white\"}},\"header\":{\"fill\":{\"color\":\"#C8D4E3\"},\"line\":{\"color\":\"white\"}},\"type\":\"table\"}]},\"layout\":{\"annotationdefaults\":{\"arrowcolor\":\"#2a3f5f\",\"arrowhead\":0,\"arrowwidth\":1},\"autotypenumbers\":\"strict\",\"coloraxis\":{\"colorbar\":{\"outlinewidth\":0,\"ticks\":\"\"}},\"colorscale\":{\"diverging\":[[0,\"#8e0152\"],[0.1,\"#c51b7d\"],[0.2,\"#de77ae\"],[0.3,\"#f1b6da\"],[0.4,\"#fde0ef\"],[0.5,\"#f7f7f7\"],[0.6,\"#e6f5d0\"],[0.7,\"#b8e186\"],[0.8,\"#7fbc41\"],[0.9,\"#4d9221\"],[1,\"#276419\"]],\"sequential\":[[0.0,\"#0d0887\"],[0.1111111111111111,\"#46039f\"],[0.2222222222222222,\"#7201a8\"],[0.3333333333333333,\"#9c179e\"],[0.4444444444444444,\"#bd3786\"],[0.5555555555555556,\"#d8576b\"],[0.6666666666666666,\"#ed7953\"],[0.7777777777777778,\"#fb9f3a\"],[0.8888888888888888,\"#fdca26\"],[1.0,\"#f0f921\"]],\"sequentialminus\":[[0.0,\"#0d0887\"],[0.1111111111111111,\"#46039f\"],[0.2222222222222222,\"#7201a8\"],[0.3333333333333333,\"#9c179e\"],[0.4444444444444444,\"#bd3786\"],[0.5555555555555556,\"#d8576b\"],[0.6666666666666666,\"#ed7953\"],[0.7777777777777778,\"#fb9f3a\"],[0.8888888888888888,\"#fdca26\"],[1.0,\"#f0f921\"]]},\"colorway\":[\"#636efa\",\"#EF553B\",\"#00cc96\",\"#ab63fa\",\"#FFA15A\",\"#19d3f3\",\"#FF6692\",\"#B6E880\",\"#FF97FF\",\"#FECB52\"],\"font\":{\"color\":\"#2a3f5f\"},\"geo\":{\"bgcolor\":\"white\",\"lakecolor\":\"white\",\"landcolor\":\"#E5ECF6\",\"showlakes\":true,\"showland\":true,\"subunitcolor\":\"white\"},\"hoverlabel\":{\"align\":\"left\"},\"hovermode\":\"closest\",\"mapbox\":{\"style\":\"light\"},\"paper_bgcolor\":\"white\",\"plot_bgcolor\":\"#E5ECF6\",\"polar\":{\"angularaxis\":{\"gridcolor\":\"white\",\"linecolor\":\"white\",\"ticks\":\"\"},\"bgcolor\":\"#E5ECF6\",\"radialaxis\":{\"gridcolor\":\"white\",\"linecolor\":\"white\",\"ticks\":\"\"}},\"scene\":{\"xaxis\":{\"backgroundcolor\":\"#E5ECF6\",\"gridcolor\":\"white\",\"gridwidth\":2,\"linecolor\":\"white\",\"showbackground\":true,\"ticks\":\"\",\"zerolinecolor\":\"white\"},\"yaxis\":{\"backgroundcolor\":\"#E5ECF6\",\"gridcolor\":\"white\",\"gridwidth\":2,\"linecolor\":\"white\",\"showbackground\":true,\"ticks\":\"\",\"zerolinecolor\":\"white\"},\"zaxis\":{\"backgroundcolor\":\"#E5ECF6\",\"gridcolor\":\"white\",\"gridwidth\":2,\"linecolor\":\"white\",\"showbackground\":true,\"ticks\":\"\",\"zerolinecolor\":\"white\"}},\"shapedefaults\":{\"line\":{\"color\":\"#2a3f5f\"}},\"ternary\":{\"aaxis\":{\"gridcolor\":\"white\",\"linecolor\":\"white\",\"ticks\":\"\"},\"baxis\":{\"gridcolor\":\"white\",\"linecolor\":\"white\",\"ticks\":\"\"},\"bgcolor\":\"#E5ECF6\",\"caxis\":{\"gridcolor\":\"white\",\"linecolor\":\"white\",\"ticks\":\"\"}},\"title\":{\"x\":0.05},\"xaxis\":{\"automargin\":true,\"gridcolor\":\"white\",\"linecolor\":\"white\",\"ticks\":\"\",\"title\":{\"standoff\":15},\"zerolinecolor\":\"white\",\"zerolinewidth\":2},\"yaxis\":{\"automargin\":true,\"gridcolor\":\"white\",\"linecolor\":\"white\",\"ticks\":\"\",\"title\":{\"standoff\":15},\"zerolinecolor\":\"white\",\"zerolinewidth\":2}}},\"xaxis\":{\"anchor\":\"y\",\"domain\":[0.0,0.2888888888888889],\"matches\":\"x7\",\"showticklabels\":false,\"range\":[0.09999999999999987,41.9]},\"yaxis\":{\"anchor\":\"x\",\"domain\":[0.7333333333333333,1.0],\"range\":[0.09999999999999987,41.9],\"title\":{\"text\":\"max_depth\"}},\"xaxis2\":{\"anchor\":\"y2\",\"domain\":[0.35555555555555557,0.6444444444444445],\"matches\":\"x8\",\"showticklabels\":false,\"range\":[0.29999999999999993,15.7]},\"yaxis2\":{\"anchor\":\"x2\",\"domain\":[0.7333333333333333,1.0],\"matches\":\"y\",\"showticklabels\":false,\"range\":[0.09999999999999987,41.9]},\"xaxis3\":{\"anchor\":\"y3\",\"domain\":[0.7111111111111111,1.0],\"matches\":\"x9\",\"showticklabels\":false,\"range\":[75.0,625.0]},\"yaxis3\":{\"anchor\":\"x3\",\"domain\":[0.7333333333333333,1.0],\"matches\":\"y\",\"showticklabels\":false,\"range\":[0.09999999999999987,41.9]},\"xaxis4\":{\"anchor\":\"y4\",\"domain\":[0.0,0.2888888888888889],\"matches\":\"x7\",\"showticklabels\":false,\"range\":[0.09999999999999987,41.9]},\"yaxis4\":{\"anchor\":\"x4\",\"domain\":[0.36666666666666664,0.6333333333333333],\"range\":[0.29999999999999993,15.7],\"title\":{\"text\":\"min_samples_leaf\"}},\"xaxis5\":{\"anchor\":\"y5\",\"domain\":[0.35555555555555557,0.6444444444444445],\"matches\":\"x8\",\"showticklabels\":false,\"range\":[0.29999999999999993,15.7]},\"yaxis5\":{\"anchor\":\"x5\",\"domain\":[0.36666666666666664,0.6333333333333333],\"matches\":\"y4\",\"showticklabels\":false,\"range\":[0.29999999999999993,15.7]},\"xaxis6\":{\"anchor\":\"y6\",\"domain\":[0.7111111111111111,1.0],\"matches\":\"x9\",\"showticklabels\":false,\"range\":[75.0,625.0]},\"yaxis6\":{\"anchor\":\"x6\",\"domain\":[0.36666666666666664,0.6333333333333333],\"matches\":\"y4\",\"showticklabels\":false,\"range\":[0.29999999999999993,15.7]},\"xaxis7\":{\"anchor\":\"y7\",\"domain\":[0.0,0.2888888888888889],\"range\":[0.09999999999999987,41.9],\"title\":{\"text\":\"max_depth\"}},\"yaxis7\":{\"anchor\":\"x7\",\"domain\":[0.0,0.26666666666666666],\"range\":[75.0,625.0],\"title\":{\"text\":\"n_estimators\"}},\"xaxis8\":{\"anchor\":\"y8\",\"domain\":[0.35555555555555557,0.6444444444444445],\"range\":[0.29999999999999993,15.7],\"title\":{\"text\":\"min_samples_leaf\"}},\"yaxis8\":{\"anchor\":\"x8\",\"domain\":[0.0,0.26666666666666666],\"matches\":\"y7\",\"showticklabels\":false,\"range\":[75.0,625.0]},\"xaxis9\":{\"anchor\":\"y9\",\"domain\":[0.7111111111111111,1.0],\"range\":[75.0,625.0],\"title\":{\"text\":\"n_estimators\"}},\"yaxis9\":{\"anchor\":\"x9\",\"domain\":[0.0,0.26666666666666666],\"matches\":\"y7\",\"showticklabels\":false,\"range\":[75.0,625.0]},\"title\":{\"text\":\"Contour Plot\"}},                        {\"responsive\": true}                    ).then(function(){\n",
              "                            \n",
              "var gd = document.getElementById('bcd9bde7-695c-4842-8733-41f51b8d9b03');\n",
              "var x = new MutationObserver(function (mutations, observer) {{\n",
              "        var display = window.getComputedStyle(gd).display;\n",
              "        if (!display || display === 'none') {{\n",
              "            console.log([gd, 'removed!']);\n",
              "            Plotly.purge(gd);\n",
              "            observer.disconnect();\n",
              "        }}\n",
              "}});\n",
              "\n",
              "// Listen for the removal of the full notebook cells\n",
              "var notebookContainer = gd.closest('#notebook-container');\n",
              "if (notebookContainer) {{\n",
              "    x.observe(notebookContainer, {childList: true});\n",
              "}}\n",
              "\n",
              "// Listen for the clearing of the current output cell\n",
              "var outputEl = gd.closest('.output');\n",
              "if (outputEl) {{\n",
              "    x.observe(outputEl, {childList: true});\n",
              "}}\n",
              "\n",
              "                        })                };                            </script>        </div>\n",
              "</body>\n",
              "</html>"
            ]
          },
          "metadata": {}
        }
      ]
    },
    {
      "cell_type": "markdown",
      "source": [
        "#Можно сделать следующие выводы:\n",
        "\n",
        "\n",
        "1.   Построение моделей на гиперпараметрах по умолчанию показывает лучшие результаты метрик (применительно данного датафрейма)\n",
        "2.   Ни один из использованных методов подбора не выдал результата метрики f1_score больше \"дефолтного\"\n",
        "3.   Метрика accuracy стремится к единице, что может свидетельствовать о переобученности моделей\n",
        "\n",
        "PS: Если можно, подробную обратную связь. Что правильно, что неправильно и как сделать чтобы было правильно. Осталось очень много вопросов, ответы на которые не находятся в материалах курса.\n"
      ],
      "metadata": {
        "id": "C37Fui35BIzQ"
      }
    }
  ],
  "metadata": {
    "colab": {
      "collapsed_sections": [
        "5q7rar6__DNt",
        "gkAIEP3A_Unf",
        "l_lBoq_7_Ymw",
        "FEokd6AbB_Xy",
        "leslUgPXMbGy",
        "6LOExm5Tsuhi",
        "nhohnrLn261V",
        "xCSZPEiFS9nu",
        "EJcuW88O4l7C",
        "dnNUna0S4w2_",
        "ZO1uG6Y346dv",
        "l4bBvkltMePW",
        "DfmW3ob_TDy6"
      ],
      "provenance": [],
      "authorship_tag": "ABX9TyMlLJFZ6+eit9d18sbG5CbE",
      "include_colab_link": true
    },
    "kernelspec": {
      "display_name": "Python 3",
      "name": "python3"
    },
    "language_info": {
      "name": "python"
    }
  },
  "nbformat": 4,
  "nbformat_minor": 0
}